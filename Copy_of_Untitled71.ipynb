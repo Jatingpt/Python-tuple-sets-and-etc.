{
  "nbformat": 4,
  "nbformat_minor": 0,
  "metadata": {
    "colab": {
      "provenance": [],
      "authorship_tag": "ABX9TyMIL4JyfF+MRARnrnicZh5i",
      "include_colab_link": true
    },
    "kernelspec": {
      "name": "python3",
      "display_name": "Python 3"
    },
    "language_info": {
      "name": "python"
    }
  },
  "cells": [
    {
      "cell_type": "markdown",
      "metadata": {
        "id": "view-in-github",
        "colab_type": "text"
      },
      "source": [
        "<a href=\"https://colab.research.google.com/github/Jatingpt/Python-tuple-sets-and-etc./blob/main/Copy_of_Untitled71.ipynb\" target=\"_parent\"><img src=\"https://colab.research.google.com/assets/colab-badge.svg\" alt=\"Open In Colab\"/></a>"
      ]
    },
    {
      "cell_type": "code",
      "execution_count": null,
      "metadata": {
        "id": "Yun5ZAogdJg4"
      },
      "outputs": [],
      "source": [
        "#TUPLE- Tuples are the collection of ordered and un-mutable data.\n",
        "#Once created can't be changed.\n",
        "#Separated by comma(,)\n",
        "#No such brackets are mandatory but we are using paranthesis for understanding.\n",
        "#Multiple datatypes can be written in a tuple."
      ]
    },
    {
      "cell_type": "code",
      "source": [
        "#e.g\n",
        "a = \"apple\", \"banana\", \"cherry\"\n",
        "print(a)"
      ],
      "metadata": {
        "id": "39tPRqxhd_mK",
        "outputId": "6dc820a0-c307-4dd3-e75e-1af1192882f8",
        "colab": {
          "base_uri": "https://localhost:8080/"
        }
      },
      "execution_count": null,
      "outputs": [
        {
          "output_type": "stream",
          "name": "stdout",
          "text": [
            "('apple', 'banana', 'cherry')\n"
          ]
        }
      ]
    },
    {
      "cell_type": "code",
      "source": [
        "print(type(a))"
      ],
      "metadata": {
        "id": "dLJcBhhGeM64",
        "outputId": "4febabf9-c97d-4b1c-bd55-8d22c7c97159",
        "colab": {
          "base_uri": "https://localhost:8080/"
        }
      },
      "execution_count": null,
      "outputs": [
        {
          "output_type": "stream",
          "name": "stdout",
          "text": [
            "<class 'tuple'>\n"
          ]
        }
      ]
    },
    {
      "cell_type": "code",
      "source": [
        "#Slicing in tuple.\n",
        "a = (\"apple\", \"banana\", \"cherry\", \"orange\", \"kiwi\", \"melon\", \"mango\")\n",
        "print(a[:])\n",
        "\n",
        "print(a[::-1]) #for reverse\n",
        "\n",
        "print(a[-5:-1])\n",
        "\n",
        "print(a[-3:1:-1])"
      ],
      "metadata": {
        "id": "b1j0LboBeYBK",
        "outputId": "e18fdb5f-78e4-4b41-b43a-55931a8916f4",
        "colab": {
          "base_uri": "https://localhost:8080/"
        }
      },
      "execution_count": null,
      "outputs": [
        {
          "output_type": "stream",
          "name": "stdout",
          "text": [
            "('apple', 'banana', 'cherry', 'orange', 'kiwi', 'melon', 'mango')\n",
            "('mango', 'melon', 'kiwi', 'orange', 'cherry', 'banana', 'apple')\n",
            "('cherry', 'orange', 'kiwi', 'melon')\n",
            "('kiwi', 'orange', 'cherry')\n"
          ]
        }
      ]
    },
    {
      "cell_type": "code",
      "source": [
        "###Iteration"
      ],
      "metadata": {
        "id": "xwKTiLM_ena9"
      },
      "execution_count": null,
      "outputs": []
    },
    {
      "cell_type": "code",
      "source": [
        "a = (\"Vivo\", \"realme\", \"samsung\", \"oneplus\")\n",
        "for i in a:\n",
        "  print(i)"
      ],
      "metadata": {
        "id": "ZYvrj7GAfSXc",
        "outputId": "28a03121-caaf-4885-a7aa-3c52b90ba49b",
        "colab": {
          "base_uri": "https://localhost:8080/"
        }
      },
      "execution_count": null,
      "outputs": [
        {
          "output_type": "stream",
          "name": "stdout",
          "text": [
            "Vivo\n",
            "realme\n",
            "samsung\n",
            "oneplus\n"
          ]
        }
      ]
    },
    {
      "cell_type": "code",
      "source": [
        "#Iteration along with range in for loop.\n",
        "a = (\"Vivo\", \"realme\", \"samsung\", \"oneplus\")\n",
        "for i in range(len(a)):\n",
        "  print(a[i])\n",
        "\n"
      ],
      "metadata": {
        "id": "VeKYU63hfjJI",
        "outputId": "2bc0abf0-3d6d-445d-f370-c0b3a19aa621",
        "colab": {
          "base_uri": "https://localhost:8080/"
        }
      },
      "execution_count": null,
      "outputs": [
        {
          "output_type": "stream",
          "name": "stdout",
          "text": [
            "Vivo\n",
            "realme\n",
            "samsung\n",
            "oneplus\n"
          ]
        }
      ]
    },
    {
      "cell_type": "code",
      "source": [
        "#Iteration using while loop.\n",
        "i = 0\n",
        "a = (\"Vivo\", \"realme\", \"samsung\", \"oneplus\")\n",
        "while i<len(a):\n",
        "  print(a[i])\n",
        "  i+=1"
      ],
      "metadata": {
        "id": "YYCU_9X0fnu4",
        "outputId": "f174826c-3c4a-486f-8d7b-44f12bdbf058",
        "colab": {
          "base_uri": "https://localhost:8080/"
        }
      },
      "execution_count": null,
      "outputs": [
        {
          "output_type": "stream",
          "name": "stdout",
          "text": [
            "Vivo\n",
            "realme\n",
            "samsung\n",
            "oneplus\n"
          ]
        }
      ]
    },
    {
      "cell_type": "code",
      "source": [
        "#Conversion of tuples and tuple functions.\n",
        "a = (\"Vivo\", \"realme\", \"samsung\", \"oneplus\")\n",
        "a = list(a)\n",
        "print(a)\n",
        "\n",
        "print(type(a))\n",
        "\n",
        "a.append(\"Redmi\")\n",
        "print(a)\n",
        "\n",
        "a = tuple(a)\n",
        "print(a)\n",
        "print(type(a))\n",
        "\n",
        "\n",
        "#Here tuples can't be changed so, we are converting a tuple into a list and then added whatever we wanted to add.\n",
        "#Then again converted into the tuple.\n",
        "\n",
        "\n",
        "#Count Method- Counting the specified element that how many time the element is repeating.\n",
        "\n",
        "print(a.count(\"Redmi\"))\n",
        "\n",
        "#Indexing in tuple- It will give the rank of the specified value which we wanted to find.\n",
        "print(a.index(\"samsung\"))"
      ],
      "metadata": {
        "id": "ni0OQ0B_hqh3",
        "outputId": "fb012cd3-cc08-4181-d86b-00a6f1ec98cb",
        "colab": {
          "base_uri": "https://localhost:8080/"
        }
      },
      "execution_count": null,
      "outputs": [
        {
          "output_type": "stream",
          "name": "stdout",
          "text": [
            "['Vivo', 'realme', 'samsung', 'oneplus']\n",
            "<class 'list'>\n",
            "['Vivo', 'realme', 'samsung', 'oneplus', 'Redmi']\n",
            "('Vivo', 'realme', 'samsung', 'oneplus', 'Redmi')\n",
            "<class 'tuple'>\n",
            "1\n",
            "2\n"
          ]
        }
      ]
    },
    {
      "cell_type": "code",
      "source": [
        "                                                          #PROBLEMS OF TUPLE.\n",
        "\n",
        "#1. Convert the following dictionary into JSON format.\n",
        "#2. Access the value age from the given data.\n",
        "#3. Pretty printing following JSON data.\n",
        "\n",
        "\n",
        "#Sol1\n",
        "Student_data = {\"name\": \"John\", \"age\": 24, \"marks\": 87}\n",
        "import json\n",
        "\n",
        "print(type(Student_data))\n",
        "\n",
        "data = json.dumps(Student_data)\n",
        "\n",
        "print(type(data))\n",
        "print(data)\n",
        "\n",
        "#Sol2\n",
        "\n",
        "Student_data = '{\"name\": \"John\", \"age\": 24, \"marks\": 87}'\n",
        "import json\n",
        "\n",
        "data = json.loads(Student_data)   #Here we should make sure that the data should be in string format otherwise it will through error.\n",
        "print(data[\"age\"])"
      ],
      "metadata": {
        "id": "cuEkRAcniKLo",
        "outputId": "0a7aa1d6-aa26-4d9c-c89c-c9fc9f91932c",
        "colab": {
          "base_uri": "https://localhost:8080/"
        }
      },
      "execution_count": null,
      "outputs": [
        {
          "output_type": "stream",
          "name": "stdout",
          "text": [
            "<class 'dict'>\n",
            "<class 'str'>\n",
            "{\"name\": \"John\", \"age\": 24, \"marks\": 87}\n",
            "24\n"
          ]
        }
      ]
    },
    {
      "cell_type": "code",
      "source": [
        "#Sol3- sorting in JSON and writing in a file.\n",
        "Student_data = {\"name\": \"John\", \"age\": 24, \"marks\": 87}\n",
        "\n",
        "f = open(\"demo.json\", \"w\")\n",
        "\n",
        "data = json.dumps(Student_data, indent = 4, sort_keys= True)\n",
        "\n",
        "f.write(data)\n",
        "\n",
        "print(\"The data has been added to the file.\")"
      ],
      "metadata": {
        "id": "Aw0adEICwAYu",
        "outputId": "04d2e228-e493-4a37-f909-bb30af3c936a",
        "colab": {
          "base_uri": "https://localhost:8080/"
        }
      },
      "execution_count": null,
      "outputs": [
        {
          "output_type": "stream",
          "name": "stdout",
          "text": [
            "The data has been added to the file.\n"
          ]
        }
      ]
    },
    {
      "cell_type": "code",
      "source": [
        "                                                            #INTRODUCTION TO DICTIONARY.\n",
        "\n",
        "\n",
        "#Dictionary allows the user to write the data in the form of keys and values format.\n",
        "#It is enclosed by curly brackets.\n",
        "#Keys and values are separated by colon.\n",
        "#keys and values both are separated by comma(,).\n",
        "#Indexing can be done with the help of keys.\n",
        "\n",
        "#e.g\n",
        "employee = {\"Name\": \"Akhilesh\", \"Age\":32, \"Gender\": \"Male\"}\n",
        "print(employee)"
      ],
      "metadata": {
        "id": "GYuukA-Wy6Pz",
        "outputId": "38652dda-d5e3-4178-ce09-2626adcb4f0a",
        "colab": {
          "base_uri": "https://localhost:8080/"
        }
      },
      "execution_count": null,
      "outputs": [
        {
          "output_type": "stream",
          "name": "stdout",
          "text": [
            "{'Name': 'Akhilesh', 'Age': 32, 'Gender': 'Male'}\n"
          ]
        }
      ]
    },
    {
      "cell_type": "code",
      "source": [
        "#Indexing\n",
        "print(employee[\"Gender\"])"
      ],
      "metadata": {
        "id": "TW9byV6D1BYK",
        "outputId": "19101952-0b46-4949-e90c-3cbf4e686ae8",
        "colab": {
          "base_uri": "https://localhost:8080/"
        }
      },
      "execution_count": null,
      "outputs": [
        {
          "output_type": "stream",
          "name": "stdout",
          "text": [
            "Male\n"
          ]
        }
      ]
    },
    {
      "cell_type": "code",
      "source": [
        "                                                       #Iteration in dictionary."
      ],
      "metadata": {
        "id": "OboLCZ1x1JEB"
      },
      "execution_count": null,
      "outputs": []
    },
    {
      "cell_type": "code",
      "source": [
        "student = {\"name\": \"Rashi\", \"age\": 34, \"roll no\": 23, \"gender\": \"female\"}\n",
        "for x in student:\n",
        "  print(x)\n",
        "\n",
        "#Here we can find the keys by applying this syntax.\n",
        "\n",
        "#for values.\n",
        "\n",
        "for x in student:\n",
        "  print(student[x])"
      ],
      "metadata": {
        "colab": {
          "base_uri": "https://localhost:8080/"
        },
        "id": "EOJ5KcCr1xE6",
        "outputId": "2ce71ff6-473d-4d9b-cb99-234a08198c54"
      },
      "execution_count": 2,
      "outputs": [
        {
          "output_type": "stream",
          "name": "stdout",
          "text": [
            "name\n",
            "age\n",
            "roll no\n",
            "gender\n",
            "Rashi\n",
            "34\n",
            "23\n",
            "female\n"
          ]
        }
      ]
    },
    {
      "cell_type": "code",
      "source": [
        "#We can also find the values by using values methodd.\n",
        "for x in student.values():\n",
        "  print(x)"
      ],
      "metadata": {
        "colab": {
          "base_uri": "https://localhost:8080/"
        },
        "id": "yRvyCdgw2Zpl",
        "outputId": "ed50def5-30dd-4702-cc29-043ec2239ae1"
      },
      "execution_count": 3,
      "outputs": [
        {
          "output_type": "stream",
          "name": "stdout",
          "text": [
            "Rashi\n",
            "34\n",
            "23\n",
            "female\n"
          ]
        }
      ]
    },
    {
      "cell_type": "code",
      "source": [
        "#For both keys and value we can apply the items function.\n",
        "for x,y in student.items():\n",
        "  print(x,y)"
      ],
      "metadata": {
        "colab": {
          "base_uri": "https://localhost:8080/"
        },
        "id": "iR4n0ieg3IEh",
        "outputId": "9a1943d5-d991-4836-959f-0e74a15aa062"
      },
      "execution_count": 4,
      "outputs": [
        {
          "output_type": "stream",
          "name": "stdout",
          "text": [
            "name Rashi\n",
            "age 34\n",
            "roll no 23\n",
            "gender female\n"
          ]
        }
      ]
    },
    {
      "cell_type": "code",
      "source": [
        "#There are some other functions in the dictionary like- get, copy, key, values, items.\n",
        "\n",
        "#1. GET FUNC\n",
        "student = {\"name\": \"Rashi\", \"age\": 34, \"roll no\": 23, \"gender\": \"female\"}\n",
        "a = student.get(\"name\")\n",
        "print(a)\n",
        "\n",
        "#also by\n",
        "print(student.get(\"name\"))\n",
        "\n",
        "#2. COPY FUNC\n",
        "\n",
        "data = student.copy()\n",
        "print(data)\n",
        "\n",
        "#3. keys func\n",
        "\n",
        "print(student.keys())\n",
        "\n",
        "#4. Values func\n",
        "\n",
        "print(student.values())\n",
        "\n",
        "#5. Items func\n",
        "\n",
        "print(student.items())\n"
      ],
      "metadata": {
        "colab": {
          "base_uri": "https://localhost:8080/"
        },
        "id": "lFLBGQot3Xk1",
        "outputId": "ec8d178b-260b-4705-de4b-aa2172f986ec"
      },
      "execution_count": 12,
      "outputs": [
        {
          "output_type": "stream",
          "name": "stdout",
          "text": [
            "Rashi\n",
            "Rashi\n",
            "{'name': 'Rashi', 'age': 34, 'roll no': 23, 'gender': 'female'}\n",
            "dict_keys(['name', 'age', 'roll no', 'gender'])\n",
            "dict_values(['Rashi', 34, 23, 'female'])\n",
            "dict_items([('name', 'Rashi'), ('age', 34), ('roll no', 23), ('gender', 'female')])\n"
          ]
        }
      ]
    },
    {
      "cell_type": "code",
      "source": [
        "#Some other functions of dictionaries are- Set default, update, pop, popitem and clear.\n",
        "student = {\"name\": \"Rashi\", \"age\": 34, \"roll no\": 23, \"gender\": \"female\"}\n",
        "\n",
        "#1. Set default- This function will not let the change the data.\n",
        "\n",
        "a = student.setdefault(\"roll no\",33)\n",
        "print(a)                                     #Here still the roll no is 23"
      ],
      "metadata": {
        "colab": {
          "base_uri": "https://localhost:8080/"
        },
        "id": "XID1G0A4312J",
        "outputId": "2b794741-3361-42d8-e702-079908db0c7e"
      },
      "execution_count": 16,
      "outputs": [
        {
          "output_type": "stream",
          "name": "stdout",
          "text": [
            "23\n"
          ]
        }
      ]
    },
    {
      "cell_type": "code",
      "source": [
        "                                                        #Nested Dictionary.\n",
        "\n",
        "#A dictionary under a dictionary called the nested dictionary.\n",
        "#e.g\n",
        "\n",
        "employee = {1:{\"name\": \"Leon\", \"age\":45, \"gender\": \"male\"},\n",
        "            2:{\"name\": \"Lisa\", \"age\":43, \"gender\": \"female\"}}\n",
        "\n",
        "#How can we find anything from the nested dictionary.\n",
        "print(employee[2][\"age\"])\n",
        "print(employee[1])\n",
        "print(employee[1][\"name\"])"
      ],
      "metadata": {
        "colab": {
          "base_uri": "https://localhost:8080/"
        },
        "id": "XsufhDH36n6V",
        "outputId": "d7710b7c-1e83-4bf5-8867-8df0ee225b37"
      },
      "execution_count": 22,
      "outputs": [
        {
          "output_type": "stream",
          "name": "stdout",
          "text": [
            "43\n",
            "{'name': 'Leon', 'age': 45, 'gender': 'male'}\n",
            "Leon\n"
          ]
        }
      ]
    },
    {
      "cell_type": "code",
      "source": [
        "#Problem Solving.\n",
        "\n",
        "#1. Write a python program to sort a dictionary by value.\n",
        "#2. Write a python script to print a dictionary where the keys are the numbers between 1 and 15 and the values are their square.\n",
        "#3. write a program to multiply all the items of the dictionary.\n",
        "#4. write a python program to sort a dictionary by key.\n"
      ],
      "metadata": {
        "id": "EYj1o139-AQe"
      },
      "execution_count": 1,
      "outputs": []
    },
    {
      "cell_type": "code",
      "source": [
        "#1st sol\n",
        "a = {\"a\":2, \"b\":1, \"c\":3, \"d\":4}\n",
        "a = sorted(a.values())\n",
        "print(a)\n",
        "\n",
        "\n",
        "\n",
        "a = {\"b\":1, \"a\":2, \"c\":3, \"d\":4}\n",
        "b = sorted(a)\n",
        "print(b)"
      ],
      "metadata": {
        "colab": {
          "base_uri": "https://localhost:8080/"
        },
        "id": "JrrlaOEu_Z3y",
        "outputId": "df94eb66-1a8e-4537-d775-497e67c69b21"
      },
      "execution_count": 33,
      "outputs": [
        {
          "output_type": "stream",
          "name": "stdout",
          "text": [
            "[1, 2, 3, 4]\n",
            "['a', 'b', 'c', 'd']\n"
          ]
        }
      ]
    },
    {
      "cell_type": "code",
      "source": [
        "#2nd sol\n",
        "a = {}\n",
        "for i in range(1,16):\n",
        "  a[i]= i**2\n",
        "print(a)"
      ],
      "metadata": {
        "colab": {
          "base_uri": "https://localhost:8080/"
        },
        "id": "rt-GyuUL_lVP",
        "outputId": "c3e8ec26-6069-47e2-d4a8-5f8bd97fc973"
      },
      "execution_count": 38,
      "outputs": [
        {
          "output_type": "stream",
          "name": "stdout",
          "text": [
            "{1: 1, 2: 4, 3: 9, 4: 16, 5: 25, 6: 36, 7: 49, 8: 64, 9: 81, 10: 100, 11: 121, 12: 144, 13: 169, 14: 196, 15: 225}\n"
          ]
        }
      ]
    },
    {
      "cell_type": "code",
      "source": [
        "#3rd sol- to multiply all the items in a dictionary.\n",
        "a = {\"a\":1, \"b\":2, \"c\":3, \"d\":4}\n",
        "product = 1\n",
        "for i in a:\n",
        "  product *= a[i]\n",
        "print(product)"
      ],
      "metadata": {
        "colab": {
          "base_uri": "https://localhost:8080/"
        },
        "id": "RNMtYaRnAuWJ",
        "outputId": "c592e95c-5192-4a50-8c08-53cea5bee531"
      },
      "execution_count": 42,
      "outputs": [
        {
          "output_type": "stream",
          "name": "stdout",
          "text": [
            "24\n"
          ]
        }
      ]
    },
    {
      "cell_type": "code",
      "source": [
        "#Sol4\n",
        "a = {\"b\":1, \"a\":2, \"c\":3, \"d\":4}\n",
        "b = sorted(a)\n",
        "print(b)\n",
        "\n",
        "#or\n",
        "\n",
        "a =sorted(a.keys())\n",
        "print(a)"
      ],
      "metadata": {
        "colab": {
          "base_uri": "https://localhost:8080/"
        },
        "id": "m5yYwrA8BgMo",
        "outputId": "ca4d17ed-cb1e-4a29-a9a7-6aa944e30586"
      },
      "execution_count": 2,
      "outputs": [
        {
          "output_type": "stream",
          "name": "stdout",
          "text": [
            "['a', 'b', 'c', 'd']\n",
            "['a', 'b', 'c', 'd']\n"
          ]
        }
      ]
    },
    {
      "cell_type": "code",
      "source": [
        "                                                #Introduction to sets.\n",
        "#Sets are the unordered collection of mutable data. Every element in a set is unique.\n",
        "#Written by curly brackets and separated by comma(,).\n"
      ],
      "metadata": {
        "id": "0bEglBAxCzMY"
      },
      "execution_count": 3,
      "outputs": []
    },
    {
      "cell_type": "code",
      "source": [
        "a = {\"Ironman\", \"Thor\", \"Hulk\", \"Captain America\"}\n",
        "print(a)"
      ],
      "metadata": {
        "id": "AfVAjbMcDC_q",
        "outputId": "7ff50d03-596d-47f4-9c54-2129ee27b07a",
        "colab": {
          "base_uri": "https://localhost:8080/"
        }
      },
      "execution_count": 4,
      "outputs": [
        {
          "output_type": "stream",
          "name": "stdout",
          "text": [
            "{'Thor', 'Captain America', 'Ironman', 'Hulk'}\n"
          ]
        }
      ]
    },
    {
      "cell_type": "code",
      "source": [
        "#Set functions- Add, pop, remove, discard, copy.\n",
        "\n",
        "a.add(\"Spiderman\")\n",
        "print(a)\n"
      ],
      "metadata": {
        "id": "U-ZhZ9wOEwZC",
        "outputId": "98a4e2e8-f536-4a53-f506-6725652f0dc8",
        "colab": {
          "base_uri": "https://localhost:8080/"
        }
      },
      "execution_count": 16,
      "outputs": [
        {
          "output_type": "stream",
          "name": "stdout",
          "text": [
            "{'Spiderman', 'Ironman', 'Captain America', 'Thor', 'Hulk'}\n"
          ]
        }
      ]
    },
    {
      "cell_type": "code",
      "source": [
        "a = {\"Ironman\", \"Thor\", \"Hulk\", \"Captain America\"}\n",
        "for x in a:\n",
        "   print(x)\n",
        "\n",
        "print(type(a))"
      ],
      "metadata": {
        "id": "pQUwwxBCJx43",
        "outputId": "c6fc4cd7-9a86-4b94-dad6-a5eab4af1e7e",
        "colab": {
          "base_uri": "https://localhost:8080/"
        }
      },
      "execution_count": 14,
      "outputs": [
        {
          "output_type": "stream",
          "name": "stdout",
          "text": [
            "Captain America\n",
            "Thor\n",
            "Ironman\n",
            "Hulk\n",
            "<class 'set'>\n"
          ]
        }
      ]
    },
    {
      "cell_type": "code",
      "source": [
        "#pop method\n",
        "a = {\"Ironman\", \"Thor\", \"Hulk\", \"Captain America\"}\n",
        "a.pop()\n",
        "print(a)\n"
      ],
      "metadata": {
        "id": "ok73_w3fRfAT",
        "outputId": "b2762733-5a17-499b-fc8c-3653b7a82034",
        "colab": {
          "base_uri": "https://localhost:8080/"
        }
      },
      "execution_count": 21,
      "outputs": [
        {
          "output_type": "stream",
          "name": "stdout",
          "text": [
            "{'Thor', 'Ironman', 'Hulk'}\n"
          ]
        }
      ]
    },
    {
      "cell_type": "code",
      "source": [
        "#pop method\n",
        "a = {\"Ironman\", \"Thor\", \"Hulk\", \"Captain America\"}\n",
        "a.pop()\n",
        "print(a)"
      ],
      "metadata": {
        "id": "-t-GVvXdVAj8",
        "outputId": "0120e2dd-0f90-4475-9e60-946370cd0d6e",
        "colab": {
          "base_uri": "https://localhost:8080/"
        }
      },
      "execution_count": 22,
      "outputs": [
        {
          "output_type": "stream",
          "name": "stdout",
          "text": [
            "{'Thor', 'Ironman', 'Hulk'}\n"
          ]
        }
      ]
    },
    {
      "cell_type": "code",
      "source": [
        "#Remove method.\n",
        "a = {\"Ironman\", \"Thor\", \"Hulk\", \"Captain America\"}\n",
        "a.remove(\"Hulk\")\n",
        "print(a)"
      ],
      "metadata": {
        "id": "lLPXk9K5e2Q-",
        "outputId": "23431167-0276-4011-fee0-fdb65b2f84a0",
        "colab": {
          "base_uri": "https://localhost:8080/"
        }
      },
      "execution_count": 23,
      "outputs": [
        {
          "output_type": "stream",
          "name": "stdout",
          "text": [
            "{'Captain America', 'Thor', 'Ironman'}\n"
          ]
        }
      ]
    },
    {
      "cell_type": "code",
      "source": [
        "#Discard method.\n",
        "a = {\"Ironman\", \"Thor\", \"Hulk\", \"Captain America\"}\n",
        "a.discard(\"Hulk\")\n",
        "print(a)"
      ],
      "metadata": {
        "id": "GfiCkPGDfNZq",
        "outputId": "e2f43ea7-2786-488e-db25-93b8d62dc20c",
        "colab": {
          "base_uri": "https://localhost:8080/"
        }
      },
      "execution_count": 24,
      "outputs": [
        {
          "output_type": "stream",
          "name": "stdout",
          "text": [
            "{'Captain America', 'Thor', 'Ironman'}\n"
          ]
        }
      ]
    },
    {
      "cell_type": "code",
      "source": [
        "#Copy\n",
        "a = {\"Ironman\", \"Thor\", \"Hulk\", \"Captain America\"}\n",
        "b = a.copy()\n",
        "print(b)"
      ],
      "metadata": {
        "id": "xRh7xcj5f45K",
        "outputId": "f433aa43-009c-4c1d-8d1d-a3053c4bff09",
        "colab": {
          "base_uri": "https://localhost:8080/"
        }
      },
      "execution_count": 25,
      "outputs": [
        {
          "output_type": "stream",
          "name": "stdout",
          "text": [
            "{'Captain America', 'Thor', 'Ironman', 'Hulk'}\n"
          ]
        }
      ]
    },
    {
      "cell_type": "code",
      "source": [],
      "metadata": {
        "id": "8Z6zlRXSgFp5"
      },
      "execution_count": null,
      "outputs": []
    }
  ]
}