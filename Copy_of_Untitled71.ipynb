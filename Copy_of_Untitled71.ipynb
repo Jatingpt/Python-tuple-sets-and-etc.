{
  "nbformat": 4,
  "nbformat_minor": 0,
  "metadata": {
    "colab": {
      "provenance": [],
      "authorship_tag": "ABX9TyOuftPut8YNC7X4WIbIrx1j",
      "include_colab_link": true
    },
    "kernelspec": {
      "name": "python3",
      "display_name": "Python 3"
    },
    "language_info": {
      "name": "python"
    }
  },
  "cells": [
    {
      "cell_type": "markdown",
      "metadata": {
        "id": "view-in-github",
        "colab_type": "text"
      },
      "source": [
        "<a href=\"https://colab.research.google.com/github/Jatingpt/Python-tuple-sets-and-etc./blob/main/Copy_of_Untitled71.ipynb\" target=\"_parent\"><img src=\"https://colab.research.google.com/assets/colab-badge.svg\" alt=\"Open In Colab\"/></a>"
      ]
    },
    {
      "cell_type": "code",
      "execution_count": null,
      "metadata": {
        "id": "Yun5ZAogdJg4"
      },
      "outputs": [],
      "source": [
        "#TUPLE- Tuples are the collection of ordered and un-mutable data.\n",
        "#Once created can't be changed.\n",
        "#Separated by comma(,)\n",
        "#No such brackets are mandatory but we are using paranthesis for understanding.\n",
        "#Multiple datatypes can be written in a tuple."
      ]
    },
    {
      "cell_type": "code",
      "source": [
        "#e.g\n",
        "a = \"apple\", \"banana\", \"cherry\"\n",
        "print(a)"
      ],
      "metadata": {
        "id": "39tPRqxhd_mK",
        "outputId": "6dc820a0-c307-4dd3-e75e-1af1192882f8",
        "colab": {
          "base_uri": "https://localhost:8080/"
        }
      },
      "execution_count": null,
      "outputs": [
        {
          "output_type": "stream",
          "name": "stdout",
          "text": [
            "('apple', 'banana', 'cherry')\n"
          ]
        }
      ]
    },
    {
      "cell_type": "code",
      "source": [
        "print(type(a))"
      ],
      "metadata": {
        "id": "dLJcBhhGeM64",
        "outputId": "4febabf9-c97d-4b1c-bd55-8d22c7c97159",
        "colab": {
          "base_uri": "https://localhost:8080/"
        }
      },
      "execution_count": null,
      "outputs": [
        {
          "output_type": "stream",
          "name": "stdout",
          "text": [
            "<class 'tuple'>\n"
          ]
        }
      ]
    },
    {
      "cell_type": "code",
      "source": [
        "#Slicing in tuple.\n",
        "a = (\"apple\", \"banana\", \"cherry\", \"orange\", \"kiwi\", \"melon\", \"mango\")\n",
        "print(a[:])\n",
        "\n",
        "print(a[::-1]) #for reverse\n",
        "\n",
        "print(a[-5:-1])\n",
        "\n",
        "print(a[-3:1:-1])"
      ],
      "metadata": {
        "id": "b1j0LboBeYBK",
        "outputId": "e18fdb5f-78e4-4b41-b43a-55931a8916f4",
        "colab": {
          "base_uri": "https://localhost:8080/"
        }
      },
      "execution_count": null,
      "outputs": [
        {
          "output_type": "stream",
          "name": "stdout",
          "text": [
            "('apple', 'banana', 'cherry', 'orange', 'kiwi', 'melon', 'mango')\n",
            "('mango', 'melon', 'kiwi', 'orange', 'cherry', 'banana', 'apple')\n",
            "('cherry', 'orange', 'kiwi', 'melon')\n",
            "('kiwi', 'orange', 'cherry')\n"
          ]
        }
      ]
    },
    {
      "cell_type": "code",
      "source": [
        "###Iteration"
      ],
      "metadata": {
        "id": "xwKTiLM_ena9"
      },
      "execution_count": null,
      "outputs": []
    },
    {
      "cell_type": "code",
      "source": [
        "a = (\"Vivo\", \"realme\", \"samsung\", \"oneplus\")\n",
        "for i in a:\n",
        "  print(i)"
      ],
      "metadata": {
        "id": "ZYvrj7GAfSXc",
        "outputId": "28a03121-caaf-4885-a7aa-3c52b90ba49b",
        "colab": {
          "base_uri": "https://localhost:8080/"
        }
      },
      "execution_count": null,
      "outputs": [
        {
          "output_type": "stream",
          "name": "stdout",
          "text": [
            "Vivo\n",
            "realme\n",
            "samsung\n",
            "oneplus\n"
          ]
        }
      ]
    },
    {
      "cell_type": "code",
      "source": [
        "#Iteration along with range in for loop.\n",
        "a = (\"Vivo\", \"realme\", \"samsung\", \"oneplus\")\n",
        "for i in range(len(a)):\n",
        "  print(a[i])\n",
        "\n"
      ],
      "metadata": {
        "id": "VeKYU63hfjJI",
        "outputId": "2bc0abf0-3d6d-445d-f370-c0b3a19aa621",
        "colab": {
          "base_uri": "https://localhost:8080/"
        }
      },
      "execution_count": null,
      "outputs": [
        {
          "output_type": "stream",
          "name": "stdout",
          "text": [
            "Vivo\n",
            "realme\n",
            "samsung\n",
            "oneplus\n"
          ]
        }
      ]
    },
    {
      "cell_type": "code",
      "source": [
        "#Iteration using while loop.\n",
        "i = 0\n",
        "a = (\"Vivo\", \"realme\", \"samsung\", \"oneplus\")\n",
        "while i<len(a):\n",
        "  print(a[i])\n",
        "  i+=1"
      ],
      "metadata": {
        "id": "YYCU_9X0fnu4",
        "outputId": "f174826c-3c4a-486f-8d7b-44f12bdbf058",
        "colab": {
          "base_uri": "https://localhost:8080/"
        }
      },
      "execution_count": null,
      "outputs": [
        {
          "output_type": "stream",
          "name": "stdout",
          "text": [
            "Vivo\n",
            "realme\n",
            "samsung\n",
            "oneplus\n"
          ]
        }
      ]
    },
    {
      "cell_type": "code",
      "source": [
        "#Conversion of tuples and tuple functions.\n",
        "a = (\"Vivo\", \"realme\", \"samsung\", \"oneplus\")\n",
        "a = list(a)\n",
        "print(a)\n",
        "\n",
        "print(type(a))\n",
        "\n",
        "a.append(\"Redmi\")\n",
        "print(a)\n",
        "\n",
        "a = tuple(a)\n",
        "print(a)\n",
        "print(type(a))\n",
        "\n",
        "\n",
        "#Here tuples can't be changed so, we are converting a tuple into a list and then added whatever we wanted to add.\n",
        "#Then again converted into the tuple.\n",
        "\n",
        "\n",
        "#Count Method- Counting the specified element that how many time the element is repeating.\n",
        "\n",
        "print(a.count(\"Redmi\"))\n",
        "\n",
        "#Indexing in tuple- It will give the rank of the specified value which we wanted to find.\n",
        "print(a.index(\"samsung\"))"
      ],
      "metadata": {
        "id": "ni0OQ0B_hqh3",
        "outputId": "fb012cd3-cc08-4181-d86b-00a6f1ec98cb",
        "colab": {
          "base_uri": "https://localhost:8080/"
        }
      },
      "execution_count": null,
      "outputs": [
        {
          "output_type": "stream",
          "name": "stdout",
          "text": [
            "['Vivo', 'realme', 'samsung', 'oneplus']\n",
            "<class 'list'>\n",
            "['Vivo', 'realme', 'samsung', 'oneplus', 'Redmi']\n",
            "('Vivo', 'realme', 'samsung', 'oneplus', 'Redmi')\n",
            "<class 'tuple'>\n",
            "1\n",
            "2\n"
          ]
        }
      ]
    },
    {
      "cell_type": "code",
      "source": [
        "                                                          #PROBLEMS OF TUPLE.\n",
        "\n",
        "#1. Convert the following dictionary into JSON format.\n",
        "#2. Access the value age from the given data.\n",
        "#3. Pretty printing following JSON data.\n",
        "\n",
        "\n",
        "#Sol1\n",
        "Student_data = {\"name\": \"John\", \"age\": 24, \"marks\": 87}\n",
        "import json\n",
        "\n",
        "print(type(Student_data))\n",
        "\n",
        "data = json.dumps(Student_data)\n",
        "\n",
        "print(type(data))\n",
        "print(data)\n",
        "\n",
        "#Sol2\n",
        "\n",
        "Student_data = '{\"name\": \"John\", \"age\": 24, \"marks\": 87}'\n",
        "import json\n",
        "\n",
        "data = json.loads(Student_data)   #Here we should make sure that the data should be in string format otherwise it will through error.\n",
        "print(data[\"age\"])"
      ],
      "metadata": {
        "id": "cuEkRAcniKLo",
        "outputId": "0a7aa1d6-aa26-4d9c-c89c-c9fc9f91932c",
        "colab": {
          "base_uri": "https://localhost:8080/"
        }
      },
      "execution_count": null,
      "outputs": [
        {
          "output_type": "stream",
          "name": "stdout",
          "text": [
            "<class 'dict'>\n",
            "<class 'str'>\n",
            "{\"name\": \"John\", \"age\": 24, \"marks\": 87}\n",
            "24\n"
          ]
        }
      ]
    },
    {
      "cell_type": "code",
      "source": [
        "#Sol3- sorting in JSON and writing in a file.\n",
        "Student_data = {\"name\": \"John\", \"age\": 24, \"marks\": 87}\n",
        "\n",
        "f = open(\"demo.json\", \"w\")\n",
        "\n",
        "data = json.dumps(Student_data, indent = 4, sort_keys= True)\n",
        "\n",
        "f.write(data)\n",
        "\n",
        "print(\"The data has been added to the file.\")"
      ],
      "metadata": {
        "id": "Aw0adEICwAYu",
        "outputId": "04d2e228-e493-4a37-f909-bb30af3c936a",
        "colab": {
          "base_uri": "https://localhost:8080/"
        }
      },
      "execution_count": null,
      "outputs": [
        {
          "output_type": "stream",
          "name": "stdout",
          "text": [
            "The data has been added to the file.\n"
          ]
        }
      ]
    },
    {
      "cell_type": "code",
      "source": [
        "                                                            #INTRODUCTION TO DICTIONARY.\n",
        "\n",
        "\n",
        "#Dictionary allows the user to write the data in the form of keys and values format.\n",
        "#It is enclosed by curly brackets.\n",
        "#Keys and values are separated by colon.\n",
        "#keys and values both are separated by comma(,).\n",
        "#Indexing can be done with the help of keys.\n",
        "\n",
        "#e.g\n",
        "employee = {\"Name\": \"Akhilesh\", \"Age\":32, \"Gender\": \"Male\"}\n",
        "print(employee)"
      ],
      "metadata": {
        "id": "GYuukA-Wy6Pz",
        "outputId": "38652dda-d5e3-4178-ce09-2626adcb4f0a",
        "colab": {
          "base_uri": "https://localhost:8080/"
        }
      },
      "execution_count": null,
      "outputs": [
        {
          "output_type": "stream",
          "name": "stdout",
          "text": [
            "{'Name': 'Akhilesh', 'Age': 32, 'Gender': 'Male'}\n"
          ]
        }
      ]
    },
    {
      "cell_type": "code",
      "source": [
        "#Indexing\n",
        "print(employee[\"Gender\"])"
      ],
      "metadata": {
        "id": "TW9byV6D1BYK",
        "outputId": "19101952-0b46-4949-e90c-3cbf4e686ae8",
        "colab": {
          "base_uri": "https://localhost:8080/"
        }
      },
      "execution_count": null,
      "outputs": [
        {
          "output_type": "stream",
          "name": "stdout",
          "text": [
            "Male\n"
          ]
        }
      ]
    },
    {
      "cell_type": "code",
      "source": [
        "                                                       #Iteration in dictionary."
      ],
      "metadata": {
        "id": "OboLCZ1x1JEB"
      },
      "execution_count": null,
      "outputs": []
    },
    {
      "cell_type": "code",
      "source": [
        "student = {\"name\": \"Rashi\", \"age\": 34, \"roll no\": 23, \"gender\": \"female\"}\n",
        "for x in student:\n",
        "  print(x)\n",
        "\n",
        "#Here we can find the keys by applying this syntax.\n",
        "\n",
        "#for values.\n",
        "\n",
        "for x in student:\n",
        "  print(student[x])"
      ],
      "metadata": {
        "colab": {
          "base_uri": "https://localhost:8080/"
        },
        "id": "EOJ5KcCr1xE6",
        "outputId": "2ce71ff6-473d-4d9b-cb99-234a08198c54"
      },
      "execution_count": null,
      "outputs": [
        {
          "output_type": "stream",
          "name": "stdout",
          "text": [
            "name\n",
            "age\n",
            "roll no\n",
            "gender\n",
            "Rashi\n",
            "34\n",
            "23\n",
            "female\n"
          ]
        }
      ]
    },
    {
      "cell_type": "code",
      "source": [
        "#We can also find the values by using values methodd.\n",
        "for x in student.values():\n",
        "  print(x)"
      ],
      "metadata": {
        "colab": {
          "base_uri": "https://localhost:8080/"
        },
        "id": "yRvyCdgw2Zpl",
        "outputId": "ed50def5-30dd-4702-cc29-043ec2239ae1"
      },
      "execution_count": null,
      "outputs": [
        {
          "output_type": "stream",
          "name": "stdout",
          "text": [
            "Rashi\n",
            "34\n",
            "23\n",
            "female\n"
          ]
        }
      ]
    },
    {
      "cell_type": "code",
      "source": [
        "#For both keys and value we can apply the items function.\n",
        "for x,y in student.items():\n",
        "  print(x,y)"
      ],
      "metadata": {
        "colab": {
          "base_uri": "https://localhost:8080/"
        },
        "id": "iR4n0ieg3IEh",
        "outputId": "9a1943d5-d991-4836-959f-0e74a15aa062"
      },
      "execution_count": null,
      "outputs": [
        {
          "output_type": "stream",
          "name": "stdout",
          "text": [
            "name Rashi\n",
            "age 34\n",
            "roll no 23\n",
            "gender female\n"
          ]
        }
      ]
    },
    {
      "cell_type": "code",
      "source": [
        "#There are some other functions in the dictionary like- get, copy, key, values, items.\n",
        "\n",
        "#1. GET FUNC\n",
        "student = {\"name\": \"Rashi\", \"age\": 34, \"roll no\": 23, \"gender\": \"female\"}\n",
        "a = student.get(\"name\")\n",
        "print(a)\n",
        "\n",
        "#also by\n",
        "print(student.get(\"name\"))\n",
        "\n",
        "#2. COPY FUNC\n",
        "\n",
        "data = student.copy()\n",
        "print(data)\n",
        "\n",
        "#3. keys func\n",
        "\n",
        "print(student.keys())\n",
        "\n",
        "#4. Values func\n",
        "\n",
        "print(student.values())\n",
        "\n",
        "#5. Items func\n",
        "\n",
        "print(student.items())\n"
      ],
      "metadata": {
        "colab": {
          "base_uri": "https://localhost:8080/"
        },
        "id": "lFLBGQot3Xk1",
        "outputId": "ec8d178b-260b-4705-de4b-aa2172f986ec"
      },
      "execution_count": null,
      "outputs": [
        {
          "output_type": "stream",
          "name": "stdout",
          "text": [
            "Rashi\n",
            "Rashi\n",
            "{'name': 'Rashi', 'age': 34, 'roll no': 23, 'gender': 'female'}\n",
            "dict_keys(['name', 'age', 'roll no', 'gender'])\n",
            "dict_values(['Rashi', 34, 23, 'female'])\n",
            "dict_items([('name', 'Rashi'), ('age', 34), ('roll no', 23), ('gender', 'female')])\n"
          ]
        }
      ]
    },
    {
      "cell_type": "code",
      "source": [
        "#Some other functions of dictionaries are- Set default, update, pop, popitem and clear.\n",
        "student = {\"name\": \"Rashi\", \"age\": 34, \"roll no\": 23, \"gender\": \"female\"}\n",
        "\n",
        "#1. Set default- This function will not let the change the data.\n",
        "\n",
        "a = student.setdefault(\"roll no\",33)\n",
        "print(a)                                     #Here still the roll no is 23"
      ],
      "metadata": {
        "colab": {
          "base_uri": "https://localhost:8080/"
        },
        "id": "XID1G0A4312J",
        "outputId": "2b794741-3361-42d8-e702-079908db0c7e"
      },
      "execution_count": null,
      "outputs": [
        {
          "output_type": "stream",
          "name": "stdout",
          "text": [
            "23\n"
          ]
        }
      ]
    },
    {
      "cell_type": "code",
      "source": [
        "                                                        #Nested Dictionary.\n",
        "\n",
        "#A dictionary under a dictionary called the nested dictionary.\n",
        "#e.g\n",
        "\n",
        "employee = {1:{\"name\": \"Leon\", \"age\":45, \"gender\": \"male\"},\n",
        "            2:{\"name\": \"Lisa\", \"age\":43, \"gender\": \"female\"}}\n",
        "\n",
        "#How can we find anything from the nested dictionary.\n",
        "print(employee[2][\"age\"])\n",
        "print(employee[1])\n",
        "print(employee[1][\"name\"])"
      ],
      "metadata": {
        "colab": {
          "base_uri": "https://localhost:8080/"
        },
        "id": "XsufhDH36n6V",
        "outputId": "d7710b7c-1e83-4bf5-8867-8df0ee225b37"
      },
      "execution_count": null,
      "outputs": [
        {
          "output_type": "stream",
          "name": "stdout",
          "text": [
            "43\n",
            "{'name': 'Leon', 'age': 45, 'gender': 'male'}\n",
            "Leon\n"
          ]
        }
      ]
    },
    {
      "cell_type": "code",
      "source": [
        "#Problem Solving.\n",
        "\n",
        "#1. Write a python program to sort a dictionary by value.\n",
        "#2. Write a python script to print a dictionary where the keys are the numbers between 1 and 15 and the values are their square.\n",
        "#3. write a program to multiply all the items of the dictionary.\n",
        "#4. write a python program to sort a dictionary by key.\n"
      ],
      "metadata": {
        "id": "EYj1o139-AQe"
      },
      "execution_count": null,
      "outputs": []
    },
    {
      "cell_type": "code",
      "source": [
        "#1st sol\n",
        "a = {\"a\":2, \"b\":1, \"c\":3, \"d\":4}\n",
        "a = sorted(a.values())\n",
        "print(a)\n",
        "\n",
        "\n",
        "\n",
        "a = {\"b\":1, \"a\":2, \"c\":3, \"d\":4}\n",
        "b = sorted(a)\n",
        "print(b)"
      ],
      "metadata": {
        "colab": {
          "base_uri": "https://localhost:8080/"
        },
        "id": "JrrlaOEu_Z3y",
        "outputId": "df94eb66-1a8e-4537-d775-497e67c69b21"
      },
      "execution_count": null,
      "outputs": [
        {
          "output_type": "stream",
          "name": "stdout",
          "text": [
            "[1, 2, 3, 4]\n",
            "['a', 'b', 'c', 'd']\n"
          ]
        }
      ]
    },
    {
      "cell_type": "code",
      "source": [
        "#2nd sol\n",
        "a = {}\n",
        "for i in range(1,16):\n",
        "  a[i]= i**2\n",
        "print(a)"
      ],
      "metadata": {
        "colab": {
          "base_uri": "https://localhost:8080/"
        },
        "id": "rt-GyuUL_lVP",
        "outputId": "c3e8ec26-6069-47e2-d4a8-5f8bd97fc973"
      },
      "execution_count": null,
      "outputs": [
        {
          "output_type": "stream",
          "name": "stdout",
          "text": [
            "{1: 1, 2: 4, 3: 9, 4: 16, 5: 25, 6: 36, 7: 49, 8: 64, 9: 81, 10: 100, 11: 121, 12: 144, 13: 169, 14: 196, 15: 225}\n"
          ]
        }
      ]
    },
    {
      "cell_type": "code",
      "source": [
        "#3rd sol- to multiply all the items in a dictionary.\n",
        "a = {\"a\":1, \"b\":2, \"c\":3, \"d\":4}\n",
        "product = 1\n",
        "for i in a:\n",
        "  product *= a[i]\n",
        "print(product)"
      ],
      "metadata": {
        "colab": {
          "base_uri": "https://localhost:8080/"
        },
        "id": "RNMtYaRnAuWJ",
        "outputId": "c592e95c-5192-4a50-8c08-53cea5bee531"
      },
      "execution_count": null,
      "outputs": [
        {
          "output_type": "stream",
          "name": "stdout",
          "text": [
            "24\n"
          ]
        }
      ]
    },
    {
      "cell_type": "code",
      "source": [
        "#Sol4\n",
        "a = {\"b\":1, \"a\":2, \"c\":3, \"d\":4}\n",
        "b = sorted(a)\n",
        "print(b)\n",
        "\n",
        "#or\n",
        "\n",
        "a =sorted(a.keys())\n",
        "print(a)"
      ],
      "metadata": {
        "colab": {
          "base_uri": "https://localhost:8080/"
        },
        "id": "m5yYwrA8BgMo",
        "outputId": "ca4d17ed-cb1e-4a29-a9a7-6aa944e30586"
      },
      "execution_count": null,
      "outputs": [
        {
          "output_type": "stream",
          "name": "stdout",
          "text": [
            "['a', 'b', 'c', 'd']\n",
            "['a', 'b', 'c', 'd']\n"
          ]
        }
      ]
    },
    {
      "cell_type": "code",
      "source": [
        "                                                #Introduction to sets.\n",
        "#Sets are the unordered collection of mutable data. Every element in a set is unique.\n",
        "#Written by curly brackets and separated by comma(,).\n"
      ],
      "metadata": {
        "id": "0bEglBAxCzMY"
      },
      "execution_count": null,
      "outputs": []
    },
    {
      "cell_type": "code",
      "source": [
        "a = {\"Ironman\", \"Thor\", \"Hulk\", \"Captain America\"}\n",
        "print(a)"
      ],
      "metadata": {
        "id": "AfVAjbMcDC_q",
        "outputId": "7ff50d03-596d-47f4-9c54-2129ee27b07a",
        "colab": {
          "base_uri": "https://localhost:8080/"
        }
      },
      "execution_count": null,
      "outputs": [
        {
          "output_type": "stream",
          "name": "stdout",
          "text": [
            "{'Thor', 'Captain America', 'Ironman', 'Hulk'}\n"
          ]
        }
      ]
    },
    {
      "cell_type": "code",
      "source": [
        "#Set functions- Add, pop, remove, discard, copy.\n",
        "\n",
        "a.add(\"Spiderman\")\n",
        "print(a)\n"
      ],
      "metadata": {
        "id": "U-ZhZ9wOEwZC",
        "outputId": "98a4e2e8-f536-4a53-f506-6725652f0dc8",
        "colab": {
          "base_uri": "https://localhost:8080/"
        }
      },
      "execution_count": null,
      "outputs": [
        {
          "output_type": "stream",
          "name": "stdout",
          "text": [
            "{'Spiderman', 'Ironman', 'Captain America', 'Thor', 'Hulk'}\n"
          ]
        }
      ]
    },
    {
      "cell_type": "code",
      "source": [
        "a = {\"Ironman\", \"Thor\", \"Hulk\", \"Captain America\"}\n",
        "for x in a:\n",
        "   print(x)\n",
        "\n",
        "print(type(a))"
      ],
      "metadata": {
        "id": "pQUwwxBCJx43",
        "outputId": "c6fc4cd7-9a86-4b94-dad6-a5eab4af1e7e",
        "colab": {
          "base_uri": "https://localhost:8080/"
        }
      },
      "execution_count": null,
      "outputs": [
        {
          "output_type": "stream",
          "name": "stdout",
          "text": [
            "Captain America\n",
            "Thor\n",
            "Ironman\n",
            "Hulk\n",
            "<class 'set'>\n"
          ]
        }
      ]
    },
    {
      "cell_type": "code",
      "source": [
        "#pop method\n",
        "a = {\"Ironman\", \"Thor\", \"Hulk\", \"Captain America\"}\n",
        "a.pop()\n",
        "print(a)\n"
      ],
      "metadata": {
        "id": "ok73_w3fRfAT",
        "outputId": "b2762733-5a17-499b-fc8c-3653b7a82034",
        "colab": {
          "base_uri": "https://localhost:8080/"
        }
      },
      "execution_count": null,
      "outputs": [
        {
          "output_type": "stream",
          "name": "stdout",
          "text": [
            "{'Thor', 'Ironman', 'Hulk'}\n"
          ]
        }
      ]
    },
    {
      "cell_type": "code",
      "source": [
        "#pop method\n",
        "a = {\"Ironman\", \"Thor\", \"Hulk\", \"Captain America\"}\n",
        "a.pop()\n",
        "print(a)"
      ],
      "metadata": {
        "id": "-t-GVvXdVAj8",
        "outputId": "0120e2dd-0f90-4475-9e60-946370cd0d6e",
        "colab": {
          "base_uri": "https://localhost:8080/"
        }
      },
      "execution_count": null,
      "outputs": [
        {
          "output_type": "stream",
          "name": "stdout",
          "text": [
            "{'Thor', 'Ironman', 'Hulk'}\n"
          ]
        }
      ]
    },
    {
      "cell_type": "code",
      "source": [
        "#Remove method.\n",
        "a = {\"Ironman\", \"Thor\", \"Hulk\", \"Captain America\"}\n",
        "a.remove(\"Hulk\")\n",
        "print(a)"
      ],
      "metadata": {
        "id": "lLPXk9K5e2Q-",
        "outputId": "23431167-0276-4011-fee0-fdb65b2f84a0",
        "colab": {
          "base_uri": "https://localhost:8080/"
        }
      },
      "execution_count": null,
      "outputs": [
        {
          "output_type": "stream",
          "name": "stdout",
          "text": [
            "{'Captain America', 'Thor', 'Ironman'}\n"
          ]
        }
      ]
    },
    {
      "cell_type": "code",
      "source": [
        "#Discard method.\n",
        "a = {\"Ironman\", \"Thor\", \"Hulk\", \"Captain America\"}\n",
        "a.discard(\"Hulk\")\n",
        "print(a)"
      ],
      "metadata": {
        "id": "GfiCkPGDfNZq",
        "outputId": "e2f43ea7-2786-488e-db25-93b8d62dc20c",
        "colab": {
          "base_uri": "https://localhost:8080/"
        }
      },
      "execution_count": null,
      "outputs": [
        {
          "output_type": "stream",
          "name": "stdout",
          "text": [
            "{'Captain America', 'Thor', 'Ironman'}\n"
          ]
        }
      ]
    },
    {
      "cell_type": "code",
      "source": [
        "#Copy\n",
        "a = {\"Ironman\", \"Thor\", \"Hulk\", \"Captain America\"}\n",
        "b = a.copy()\n",
        "print(b)"
      ],
      "metadata": {
        "id": "xRh7xcj5f45K",
        "outputId": "f433aa43-009c-4c1d-8d1d-a3053c4bff09",
        "colab": {
          "base_uri": "https://localhost:8080/"
        }
      },
      "execution_count": null,
      "outputs": [
        {
          "output_type": "stream",
          "name": "stdout",
          "text": [
            "{'Captain America', 'Thor', 'Ironman', 'Hulk'}\n"
          ]
        }
      ]
    },
    {
      "cell_type": "code",
      "source": [
        "#Other 5 functions of sets- isdisjoint, issubset, issuperset, clear and update function."
      ],
      "metadata": {
        "id": "8Z6zlRXSgFp5"
      },
      "execution_count": null,
      "outputs": []
    },
    {
      "cell_type": "code",
      "source": [
        "#isdisjoint function- It will check the elements of set b is present into set a or not. if not then 'True' else 'False'.\n",
        "a = {1, 2, 3, 4, 5}\n",
        "b = {6, 7, 8}\n",
        "c = {2, 3}\n",
        "\n",
        "print(a.isdisjoint(b))\n"
      ],
      "metadata": {
        "colab": {
          "base_uri": "https://localhost:8080/"
        },
        "id": "wrguHrT_nd9k",
        "outputId": "4b437d56-d21d-40cc-b040-339a8e1d82c9"
      },
      "execution_count": null,
      "outputs": [
        {
          "output_type": "stream",
          "name": "stdout",
          "text": [
            "True\n"
          ]
        }
      ]
    },
    {
      "cell_type": "code",
      "source": [
        "#issubset- Check if the elements of set b is present in set a or not.\n",
        "a = {1, 2, 3, 4, 5}\n",
        "b = {6, 7, 8}\n",
        "c = {2, 3}\n",
        "\n",
        "print(c.issubset(a)) #because all the elements of c is present in a but in second case all the elements of a is not present in c.\n",
        "print(a.issubset(c))\n"
      ],
      "metadata": {
        "colab": {
          "base_uri": "https://localhost:8080/"
        },
        "id": "lvGDub5koA96",
        "outputId": "ac8c0601-76b3-4264-c40e-62733fd82103"
      },
      "execution_count": null,
      "outputs": [
        {
          "output_type": "stream",
          "name": "stdout",
          "text": [
            "True\n",
            "False\n"
          ]
        }
      ]
    },
    {
      "cell_type": "code",
      "source": [
        "print(a.issuperset(b))"
      ],
      "metadata": {
        "colab": {
          "base_uri": "https://localhost:8080/"
        },
        "id": "WEMuuxoVowrX",
        "outputId": "bfea1c1a-a835-4797-c74f-0bd1f2904507"
      },
      "execution_count": null,
      "outputs": [
        {
          "output_type": "stream",
          "name": "stdout",
          "text": [
            "False\n"
          ]
        }
      ]
    },
    {
      "cell_type": "code",
      "source": [
        "#issuperset function- Will True if all the elements of a set is present in the other set else false.\n",
        "\n",
        "a = {1, 2, 3, 4, 5}\n",
        "b = {6, 7, 8}\n",
        "c = {2, 3}\n",
        "\n",
        "print(c.issuperset(a)) #c is not a superset of a because here c is not carrying all the elements of a.\n",
        "\n",
        "print(a.issuperset(c)) #True because a is carrying all the element of c.\n"
      ],
      "metadata": {
        "colab": {
          "base_uri": "https://localhost:8080/"
        },
        "id": "XhB51JY_pR3f",
        "outputId": "5c7951db-c948-4ebf-daa9-bef6c31a8169"
      },
      "execution_count": null,
      "outputs": [
        {
          "output_type": "stream",
          "name": "stdout",
          "text": [
            "False\n",
            "True\n"
          ]
        }
      ]
    },
    {
      "cell_type": "code",
      "source": [
        "#Update func- It is basically behaves as a 'UNION' means it will give all the unique elements of both the set without repeating the elements.\n",
        "a = {1, 2, 3, 4, 5}\n",
        "b = {6, 7, 8}\n",
        "c = {2, 3, 7}\n",
        "\n",
        "a.update(c)\n",
        "print(a)"
      ],
      "metadata": {
        "colab": {
          "base_uri": "https://localhost:8080/"
        },
        "id": "oO1__b7FqD_8",
        "outputId": "b230574c-9797-4f3f-b34b-1c0c1c89e564"
      },
      "execution_count": null,
      "outputs": [
        {
          "output_type": "stream",
          "name": "stdout",
          "text": [
            "{1, 2, 3, 4, 5, 7}\n"
          ]
        }
      ]
    },
    {
      "cell_type": "code",
      "source": [
        "#clear func- It will clear the whole set. In simple terms it will do clear all the elements of the set and gives you an empty set.\n",
        "a = {1, 2, 3, 4, 5}\n",
        "b = {6, 7, 8}\n",
        "c = {2, 3}\n",
        "x  = a.clear()\n",
        "print(x)\n",
        "print(a)\n",
        "\n",
        "#or\n",
        "\n",
        "print(a.clear())\n",
        "print(a)"
      ],
      "metadata": {
        "colab": {
          "base_uri": "https://localhost:8080/"
        },
        "id": "PwJcGpsfrPLz",
        "outputId": "1c46d3b3-4aec-4537-8f29-82858ed3c54f"
      },
      "execution_count": null,
      "outputs": [
        {
          "output_type": "stream",
          "name": "stdout",
          "text": [
            "None\n",
            "set()\n",
            "None\n",
            "set()\n"
          ]
        }
      ]
    },
    {
      "cell_type": "code",
      "source": [
        "#7 Other functions of sets.\n",
        "#Union, difference, difference update, intersection, intersection update, symmetric, symmetric update.\n",
        "\n",
        "#Union func\n",
        "\n",
        "a = {1, 2, 3, 4, 5}\n",
        "b = {6, 7, 8}\n",
        "c = {2, 3}\n",
        "\n",
        "print(a.union(b))  #Will provide all the unique elements of both the sets."
      ],
      "metadata": {
        "colab": {
          "base_uri": "https://localhost:8080/"
        },
        "id": "r5QnrU98rb1d",
        "outputId": "4ce6fec3-61fa-4e2c-bd38-32bc34392977"
      },
      "execution_count": null,
      "outputs": [
        {
          "output_type": "stream",
          "name": "stdout",
          "text": [
            "{1, 2, 3, 4, 5, 6, 7, 8}\n"
          ]
        }
      ]
    },
    {
      "cell_type": "code",
      "source": [
        "#difference func- It will give you the difference of the set.\n",
        "\n",
        "print(a.difference(c))  #will remove the common elements and results will only be the unique elements."
      ],
      "metadata": {
        "colab": {
          "base_uri": "https://localhost:8080/"
        },
        "id": "TnC1DFDEsySu",
        "outputId": "43f55581-1833-4949-ca16-df1bf8fb66e7"
      },
      "execution_count": null,
      "outputs": [
        {
          "output_type": "stream",
          "name": "stdout",
          "text": [
            "{1, 4, 5}\n"
          ]
        }
      ]
    },
    {
      "cell_type": "code",
      "source": [
        "#difference update- Will give the update in the difference in the orignal set.\n",
        "a.difference_update(c)\n",
        "print(a)\n"
      ],
      "metadata": {
        "colab": {
          "base_uri": "https://localhost:8080/"
        },
        "id": "MNTlKJXJtGvI",
        "outputId": "c00c5d55-d2b9-4d66-df62-269dbf5c8a33"
      },
      "execution_count": null,
      "outputs": [
        {
          "output_type": "stream",
          "name": "stdout",
          "text": [
            "{1, 4, 5}\n"
          ]
        }
      ]
    },
    {
      "cell_type": "code",
      "source": [
        "#Intersection func- Results with the common value.\n",
        "\n",
        "a = {1, 2, 3, 4, 5}\n",
        "c = {2, 3}\n",
        "\n",
        "print(a.intersection(c))"
      ],
      "metadata": {
        "colab": {
          "base_uri": "https://localhost:8080/"
        },
        "id": "ANOLXiZqtjrv",
        "outputId": "426041a1-5ac0-4aad-d52e-1cda7efd0a46"
      },
      "execution_count": null,
      "outputs": [
        {
          "output_type": "stream",
          "name": "stdout",
          "text": [
            "{2, 3}\n"
          ]
        }
      ]
    },
    {
      "cell_type": "code",
      "source": [
        "#intersection update- will give the intersection in the original set.\n",
        "a = {1, 2, 3, 4, 5}\n",
        "c = {2, 3}\n",
        "\n",
        "a.intersection_update(c)\n",
        "print(a)"
      ],
      "metadata": {
        "colab": {
          "base_uri": "https://localhost:8080/"
        },
        "id": "pkE5PC_qux0H",
        "outputId": "08549173-3917-4bcb-bcef-e34b13a2f906"
      },
      "execution_count": null,
      "outputs": [
        {
          "output_type": "stream",
          "name": "stdout",
          "text": [
            "{2, 3}\n"
          ]
        }
      ]
    },
    {
      "cell_type": "code",
      "source": [
        "#symmetric function- the common element or symmetric elements from the sets will remove and rests are the results.\n",
        "#In simple terms, that symmetric difference will completely ignore the common values.\n",
        "a = {1, 2, 3, 4, 5, 6}\n",
        "b = {6, 7, 8}\n",
        "c = {2, 3}\n",
        "\n",
        "print(a.symmetric_difference(b))\n",
        "\n",
        "\n",
        "print(a.symmetric_difference(c))"
      ],
      "metadata": {
        "id": "g-apUkw983Mu",
        "outputId": "687c3cb8-f1f4-4481-f55f-f5e6bf32b0eb",
        "colab": {
          "base_uri": "https://localhost:8080/"
        }
      },
      "execution_count": null,
      "outputs": [
        {
          "output_type": "stream",
          "name": "stdout",
          "text": [
            "{1, 2, 3, 4, 5, 7, 8}\n",
            "{1, 4, 5, 6}\n"
          ]
        }
      ]
    },
    {
      "cell_type": "code",
      "source": [
        "#symmetric difference update- will gives changes in the original set.\n",
        "#As we know that it will remove the common elements from one set to another sets.\n",
        "a = {1, 2, 3, 4, 5, 6}\n",
        "b = {6, 7, 8}\n",
        "c = {2, 3}\n",
        "\n",
        "a.symmetric_difference_update(b)\n",
        "print(a)\n",
        "\n",
        "a.symmetric_difference_update(c)\n",
        "print(a)"
      ],
      "metadata": {
        "id": "7bdBEpcj9fdI",
        "outputId": "69ca915b-017f-4e0d-f0d2-21f197cf2d9a",
        "colab": {
          "base_uri": "https://localhost:8080/"
        }
      },
      "execution_count": null,
      "outputs": [
        {
          "output_type": "stream",
          "name": "stdout",
          "text": [
            "{1, 2, 3, 4, 5, 7, 8}\n",
            "{1, 4, 5, 7, 8}\n"
          ]
        }
      ]
    },
    {
      "cell_type": "code",
      "source": [
        "                                                  #Problem solving\n",
        "#1. Write a program to find max and minimum in the set.\n",
        "#2. Write a program to find common elements in three lists using sets.\n",
        "#3. Write a program to find the difference in two sets.\n",
        "#4. Write a python program to remove an item in a set if it is present in the set.\n",
        "#5. Write a program to check if a set is the subset of another set."
      ],
      "metadata": {
        "id": "nQNqOyVK-CYZ"
      },
      "execution_count": null,
      "outputs": []
    },
    {
      "cell_type": "code",
      "source": [
        "#Sol1.\n",
        "a = {1, 2, 3, 4, 5}\n",
        "\n",
        "b= max(a)\n",
        "c = min(a)\n",
        "\n",
        "print(\"The maximum value in set a is\", b)\n",
        "\n",
        "print(\"The minimum value in the given set is\",c)"
      ],
      "metadata": {
        "id": "8YPo2wEhAT1j",
        "outputId": "8c5bd4b3-4513-40e1-8983-bdd0fa645ff7",
        "colab": {
          "base_uri": "https://localhost:8080/"
        }
      },
      "execution_count": null,
      "outputs": [
        {
          "output_type": "stream",
          "name": "stdout",
          "text": [
            "The maximum value in set a is 5\n",
            "The minimum value in the given set is 1\n"
          ]
        }
      ]
    },
    {
      "cell_type": "code",
      "source": [
        "#Sol2\n",
        "a = [1, 2, 3, 4, 5]\n",
        "b = [5, 6, 7, 8, 9]\n",
        "c = [2, 3, 4, 5]\n",
        "\n",
        "a = set(a)\n",
        "b = set(b)\n",
        "c = set(c)\n",
        "\n",
        "print(set(a) & set(b) & set(c))\n",
        "\n",
        "\n",
        "\n"
      ],
      "metadata": {
        "id": "v4qOflTwAlWS",
        "outputId": "26729dc4-9a0a-430f-d595-2d65415c686d",
        "colab": {
          "base_uri": "https://localhost:8080/"
        }
      },
      "execution_count": null,
      "outputs": [
        {
          "output_type": "stream",
          "name": "stdout",
          "text": [
            "{5}\n"
          ]
        }
      ]
    },
    {
      "cell_type": "code",
      "source": [
        "#Sol3\n",
        "a = {1, 2, 3, 4, 5, 6}\n",
        "b = {6, 7, 8}\n",
        "c = {2, 3}\n",
        "\n",
        "print(a.difference(b))"
      ],
      "metadata": {
        "id": "gRzabgPdBVw0",
        "outputId": "297eaf28-d52f-4ded-86bd-7a5f001da9f0",
        "colab": {
          "base_uri": "https://localhost:8080/"
        }
      },
      "execution_count": null,
      "outputs": [
        {
          "output_type": "stream",
          "name": "stdout",
          "text": [
            "{1, 2, 3, 4, 5}\n"
          ]
        }
      ]
    },
    {
      "cell_type": "code",
      "source": [
        "#Sol4\n",
        "a = {1, 2, 3, 4, 5}\n",
        "\n",
        "a.remove(5)\n",
        "print(a)"
      ],
      "metadata": {
        "id": "GB189cR4CV8s",
        "outputId": "04cf8d75-a8ff-4034-dedc-0fc2df4343a0",
        "colab": {
          "base_uri": "https://localhost:8080/"
        }
      },
      "execution_count": null,
      "outputs": [
        {
          "output_type": "stream",
          "name": "stdout",
          "text": [
            "{1, 2, 3, 4}\n"
          ]
        }
      ]
    },
    {
      "cell_type": "code",
      "source": [
        "#Sol5\n",
        "\n",
        "a = {1, 2, 3, 4, 5}\n",
        "b = {6, 7, 8}\n",
        "c = {2, 3}\n",
        "\n",
        "print(c.issubset(a))"
      ],
      "metadata": {
        "id": "FoIejP6JCmaj",
        "outputId": "838668a5-2fc5-4149-de79-0b952c541c0f",
        "colab": {
          "base_uri": "https://localhost:8080/"
        }
      },
      "execution_count": null,
      "outputs": [
        {
          "output_type": "stream",
          "name": "stdout",
          "text": [
            "True\n"
          ]
        }
      ]
    },
    {
      "cell_type": "code",
      "source": [
        "                                                 #Functions\n",
        "#Functions are a set of code, which once created then can be used throughout the program.\n",
        "#e.g to create a function\n",
        "\n",
        "def hello():   #hello() is a variable here which we will use to call the function.\n",
        "  print(\"Hello World\")           #Body which we wanted to perform in the function.\n",
        "\n",
        "hello()                      #Calling function"
      ],
      "metadata": {
        "id": "Pbvlw54qCvut",
        "colab": {
          "base_uri": "https://localhost:8080/"
        },
        "outputId": "cf63f927-77d2-4167-c327-09a85a6970f4"
      },
      "execution_count": null,
      "outputs": [
        {
          "output_type": "stream",
          "name": "stdout",
          "text": [
            "Hello World\n"
          ]
        }
      ]
    },
    {
      "cell_type": "code",
      "source": [
        "def add():\n",
        "  x = 23\n",
        "  y = 34\n",
        "  print(x+y)\n",
        "\n",
        "add()"
      ],
      "metadata": {
        "colab": {
          "base_uri": "https://localhost:8080/"
        },
        "id": "jwaC55uPvj93",
        "outputId": "4fc23d6d-fc59-4149-c997-68046c8bf911"
      },
      "execution_count": null,
      "outputs": [
        {
          "output_type": "stream",
          "name": "stdout",
          "text": [
            "57\n"
          ]
        }
      ]
    },
    {
      "cell_type": "code",
      "source": [
        "                                  #Parameters and arguments in a function.\n",
        "#Parameters- Parameters are the variables that is written inside the parantheses with the name of function.\n",
        "\n",
        "#Arguments - Arguments are the values passed in the parameters while calling the function.\n",
        "\n",
        "def add():\n",
        "  x = 23                       #Here x and y are the parameters and arguments will use while we will call the function. see in the next example\n",
        "  y = 34\n",
        "  print(x+y)\n",
        "\n",
        "add()\n",
        "\n",
        "\n",
        "def add(x,y):                      #Here x and y are the parameters.\n",
        "  print(x+y)                       #Function which we want to perform on parameters.\n",
        "\n",
        "add(44,7)                           #passing the arguments between or with the parameters with the help of function will perform.\n",
        "\n",
        "\n",
        "add(34,34)\n",
        "\n",
        "add(34,84)                       #So on and so forth\n",
        "\n",
        "\n",
        "\n",
        "#Parameters are used when we wanted to define a function while arguments are used while calling the function."
      ],
      "metadata": {
        "colab": {
          "base_uri": "https://localhost:8080/"
        },
        "id": "nxQ9zooiwEbO",
        "outputId": "df0d0600-30c8-4b30-cc35-4a15864b8461"
      },
      "execution_count": null,
      "outputs": [
        {
          "output_type": "stream",
          "name": "stdout",
          "text": [
            "57\n",
            "51\n",
            "68\n",
            "118\n"
          ]
        }
      ]
    },
    {
      "cell_type": "code",
      "source": [
        "#Creating a function which will calculate the area of rectangle.\n",
        "\n",
        "def rect(length, breath):\n",
        "  print(\"The area of the rectangle is\", length*breath)\n",
        "\n",
        "rect(3, 4)\n",
        "\n",
        "\n",
        "rect(4,5)"
      ],
      "metadata": {
        "colab": {
          "base_uri": "https://localhost:8080/"
        },
        "id": "ARTGR6Qvzr7P",
        "outputId": "dc7e372b-6ec0-4ce2-98b5-2f2303988d2a"
      },
      "execution_count": null,
      "outputs": [
        {
          "output_type": "stream",
          "name": "stdout",
          "text": [
            "The area of the rectangle is 12\n",
            "The area of the rectangle is 20\n"
          ]
        }
      ]
    },
    {
      "cell_type": "code",
      "source": [
        "#What is arbitary arguments?\n",
        "#Arbitary arguments are the arguments where we can provide multiple values in the form of tuple. And we can access with the index method.\n",
        "#we are using a star(*) in the variable while defing the parameters. e.g\n",
        "\n",
        "def hello(*name):\n",
        "  print(\"My name is\", name[2])\n",
        "\n",
        "hello(\"Jonny\", \"Lisa\", \"Peter\")"
      ],
      "metadata": {
        "colab": {
          "base_uri": "https://localhost:8080/"
        },
        "id": "8T96Nuoq0_zn",
        "outputId": "a5739f63-c4ca-4e23-96ba-3b000d06188f"
      },
      "execution_count": null,
      "outputs": [
        {
          "output_type": "stream",
          "name": "stdout",
          "text": [
            "My name is Peter\n"
          ]
        }
      ]
    },
    {
      "cell_type": "code",
      "source": [
        "                                        #Return Statement and Recursion in python.\n"
      ],
      "metadata": {
        "id": "glQj2IhH1mWW"
      },
      "execution_count": null,
      "outputs": []
    },
    {
      "cell_type": "code",
      "source": [
        "#Return keyword in python is used to exit a function and return the value of the function.\n",
        "\n",
        "#In simple we are passing the parameters in return's parantheses. other thing is as same as the normal function. e.g\n",
        "\n",
        "def hello():\n",
        "  return(\"Hello World, i am the best.\")\n",
        "\n",
        "print(hello())                      #Here, we have to use print statement while execution is with return function. more e.g in next"
      ],
      "metadata": {
        "colab": {
          "base_uri": "https://localhost:8080/"
        },
        "id": "vztWCUyI31mJ",
        "outputId": "68f55116-c8d6-431b-d021-1781055156ab"
      },
      "execution_count": null,
      "outputs": [
        {
          "output_type": "stream",
          "name": "stdout",
          "text": [
            "Hello World, i am the best.\n"
          ]
        }
      ]
    },
    {
      "cell_type": "code",
      "source": [
        "def add(x,y):\n",
        "  return(x+y)\n",
        "\n",
        "print(add(23,53))"
      ],
      "metadata": {
        "colab": {
          "base_uri": "https://localhost:8080/"
        },
        "id": "e8_JZNY_4VF9",
        "outputId": "529ccc4c-4bbd-40c5-e50d-f1bf4b6a3561"
      },
      "execution_count": null,
      "outputs": [
        {
          "output_type": "stream",
          "name": "stdout",
          "text": [
            "76\n"
          ]
        }
      ]
    },
    {
      "cell_type": "code",
      "source": [
        "                                            #Recursion\n",
        "#Recursion is a function can call itself for many times. Basically giving a benefit of looping."
      ],
      "metadata": {
        "id": "5mnXA0LD57Mh"
      },
      "execution_count": null,
      "outputs": []
    },
    {
      "cell_type": "code",
      "source": [
        "def hello():\n",
        "  print(\"Hello World\")\n",
        "  return (hello())\n",
        "print(hello())"
      ],
      "metadata": {
        "id": "BVImJM326v0e"
      },
      "execution_count": null,
      "outputs": []
    },
    {
      "cell_type": "code",
      "source": [
        "#Getting the value of factorial with the help of recursion.\n",
        "\n",
        "def fact(n):\n",
        "  if n == 1:\n",
        "    return 1\n",
        "  else:\n",
        "    return(n*fact(n-1))\n",
        "fact(3)"
      ],
      "metadata": {
        "colab": {
          "base_uri": "https://localhost:8080/"
        },
        "id": "yD-yRfPlB-W9",
        "outputId": "b7be71bc-04f4-49f0-8548-084563213d02"
      },
      "execution_count": null,
      "outputs": [
        {
          "output_type": "execute_result",
          "data": {
            "text/plain": [
              "6"
            ]
          },
          "metadata": {},
          "execution_count": 2
        }
      ]
    },
    {
      "cell_type": "code",
      "source": [
        "fact(4)"
      ],
      "metadata": {
        "colab": {
          "base_uri": "https://localhost:8080/"
        },
        "id": "da-W-f1tCoGI",
        "outputId": "b959c65b-7809-4f68-8646-a2d520f24560"
      },
      "execution_count": null,
      "outputs": [
        {
          "output_type": "execute_result",
          "data": {
            "text/plain": [
              "24"
            ]
          },
          "metadata": {},
          "execution_count": 3
        }
      ]
    },
    {
      "cell_type": "code",
      "source": [
        "#Advantages of recursion- They make the code look clean and organised.\n",
        "#--> By the use of recursive functions, a complex task can be broken down into small sub-parts.\n",
        "#--> Sequence generation becomes easier.\n",
        "\n",
        "\n",
        "\n",
        "#Disadvantages of recursion- Takes a lot of memory.\n",
        "#--> Sometimes the logic becomes hard to follow.\n",
        "#--> Debugging is difficult."
      ],
      "metadata": {
        "id": "4kv4RENNCynS"
      },
      "execution_count": null,
      "outputs": []
    },
    {
      "cell_type": "code",
      "source": [
        "#Lambda function in Python.\n",
        "\n",
        "#--> It is required when we need an anonymous function for a short period of time.\n",
        "#--> It can have multiple arguments but can having only one expression."
      ],
      "metadata": {
        "id": "qU-ZJv3gDoZL"
      },
      "execution_count": null,
      "outputs": []
    },
    {
      "cell_type": "code",
      "source": [
        "#e.g with single arguments.\n",
        "a = lambda b: b*5\n",
        "print(a(4))"
      ],
      "metadata": {
        "colab": {
          "base_uri": "https://localhost:8080/"
        },
        "id": "hYKybO4ZEuX-",
        "outputId": "72bc5959-f261-4330-d4f9-5903cefac549"
      },
      "execution_count": null,
      "outputs": [
        {
          "output_type": "stream",
          "name": "stdout",
          "text": [
            "20\n"
          ]
        }
      ]
    },
    {
      "cell_type": "code",
      "source": [
        "#e.g with multiple arguments.\n",
        "x = lambda a,b,c: (a+b)*c\n",
        "print(x(1,2,3))"
      ],
      "metadata": {
        "colab": {
          "base_uri": "https://localhost:8080/"
        },
        "id": "vyKBg40pE6ae",
        "outputId": "d992dc01-563f-434b-e2fc-70c790573451"
      },
      "execution_count": null,
      "outputs": [
        {
          "output_type": "stream",
          "name": "stdout",
          "text": [
            "9\n"
          ]
        }
      ]
    },
    {
      "cell_type": "code",
      "source": [
        "#Local variable.\n",
        "#Local variables are restricted to only one block of code.\n",
        "#It cannot changed throughout the program.\n",
        "\n",
        "\n",
        "#Global Variable.\n",
        "#Global variables are not restricted to one block of code and can be used throught the program."
      ],
      "metadata": {
        "id": "pIomt6YvFQox"
      },
      "execution_count": null,
      "outputs": []
    },
    {
      "cell_type": "code",
      "source": [
        "#e.g of Local Variable.\n",
        "x = 23\n",
        "print(\"The first variable is\", x)\n",
        "def hello():\n",
        "  x = 33\n",
        "  return x\n",
        "print(hello())\n",
        "\n",
        "print()\n",
        "\n",
        "print(x)"
      ],
      "metadata": {
        "id": "MmM3jAYHHLwR",
        "outputId": "98fa4207-00e7-4f68-c009-a7d8c5c59db2",
        "colab": {
          "base_uri": "https://localhost:8080/"
        }
      },
      "execution_count": null,
      "outputs": [
        {
          "output_type": "stream",
          "name": "stdout",
          "text": [
            "The first variable is 23\n",
            "33\n",
            "\n",
            "23\n"
          ]
        }
      ]
    },
    {
      "cell_type": "code",
      "source": [
        "#e.g of Global Variable.\n",
        "\n",
        "x = 23\n",
        "print(\"The first variable of\", x)\n",
        "def hello():\n",
        "  global x\n",
        "  x = 33\n",
        "  return x\n",
        "print(hello())\n",
        "\n",
        "print()\n",
        "\n",
        "print(x)"
      ],
      "metadata": {
        "id": "QLVgsGjZHisc",
        "outputId": "fd947b64-0f61-4a35-8db4-7103d6c65f59",
        "colab": {
          "base_uri": "https://localhost:8080/"
        }
      },
      "execution_count": null,
      "outputs": [
        {
          "output_type": "stream",
          "name": "stdout",
          "text": [
            "The first variable of 23\n",
            "33\n",
            "\n",
            "33\n"
          ]
        }
      ]
    },
    {
      "cell_type": "code",
      "source": [
        "                                                                #Problem Solving\n",
        "#1. Write a function to find maximum of three numbers in Python.\n",
        "\n",
        "#2. Write a python function to create and print a list where the values are square of numbers between 1 to 30.\n",
        "\n",
        "#3. Write a function that takes numbers as a parameter and check whether the number is a prime number or not.\n",
        "\n",
        "#4. Write a python function to sum all the numbers in a list.\n",
        "\n",
        "#5. Write a python program to solve the fibonacci sequence using recursion."
      ],
      "metadata": {
        "id": "2UuIDC6sIQSD"
      },
      "execution_count": null,
      "outputs": []
    },
    {
      "cell_type": "code",
      "source": [
        "#Sol1\n",
        "\n",
        "def max_num(val1, val2, val3):\n",
        "  if val1>val2 and val1> val3:\n",
        "    print(\"Val1 is the greatest number.\")\n",
        "  elif val2>val1 and val2>val3:\n",
        "    print(\"Val2 is the greatest.\")\n",
        "  else:\n",
        "    print(\"val3 is the greatest.\")\n",
        "max_num(1,2,3)"
      ],
      "metadata": {
        "id": "UwLXx_bCMD9I",
        "outputId": "287df620-5f42-4290-99e0-8cd1e1c388b9",
        "colab": {
          "base_uri": "https://localhost:8080/"
        }
      },
      "execution_count": 3,
      "outputs": [
        {
          "output_type": "stream",
          "name": "stdout",
          "text": [
            "val3 is the greatest.\n"
          ]
        }
      ]
    },
    {
      "cell_type": "code",
      "source": [
        "#Sol2\n",
        "def create_list():\n",
        "  l = []\n",
        "  for i in range(1,31):\n",
        "    l.append(i**2)\n",
        "  return l\n",
        "create_list()\n",
        "\n"
      ],
      "metadata": {
        "id": "z1S79Wbg3kF4",
        "outputId": "1ab4768b-ca17-446e-c112-7b22ce651826",
        "colab": {
          "base_uri": "https://localhost:8080/"
        }
      },
      "execution_count": 9,
      "outputs": [
        {
          "output_type": "execute_result",
          "data": {
            "text/plain": [
              "[1,\n",
              " 4,\n",
              " 9,\n",
              " 16,\n",
              " 25,\n",
              " 36,\n",
              " 49,\n",
              " 64,\n",
              " 81,\n",
              " 100,\n",
              " 121,\n",
              " 144,\n",
              " 169,\n",
              " 196,\n",
              " 225,\n",
              " 256,\n",
              " 289,\n",
              " 324,\n",
              " 361,\n",
              " 400,\n",
              " 441,\n",
              " 484,\n",
              " 529,\n",
              " 576,\n",
              " 625,\n",
              " 676,\n",
              " 729,\n",
              " 784,\n",
              " 841,\n",
              " 900]"
            ]
          },
          "metadata": {},
          "execution_count": 9
        }
      ]
    },
    {
      "cell_type": "code",
      "source": [
        "#Sol3\n",
        "def check_prime(num):\n",
        "  if num == 1:\n",
        "    print(\"It is a prime number.\")\n",
        "  elif num == 2:\n",
        "    print(\"It is a prime number.\")\n",
        "  if num > 2:\n",
        "    for i in range(2,num):\n",
        "      if i % num ==0:\n",
        "        print(\"It is not a prime number.\")\n",
        "      else:\n",
        "        print(\"It is a prime number.\")\n",
        "check_prime(3)"
      ],
      "metadata": {
        "id": "R0uebRV55Jq1",
        "outputId": "1c19dff8-65cd-4080-8a59-f28d8e75b196",
        "colab": {
          "base_uri": "https://localhost:8080/"
        }
      },
      "execution_count": 14,
      "outputs": [
        {
          "output_type": "stream",
          "name": "stdout",
          "text": [
            "It is a prime number.\n"
          ]
        }
      ]
    },
    {
      "cell_type": "code",
      "source": [
        "#Sol4- To sum all the number of the list.\n",
        "\n",
        "def add(numbers):\n",
        "  total = 0\n",
        "  for i in numbers:\n",
        "    total = total + i\n",
        "  return total\n",
        "\n",
        "add([1,2,3,])\n",
        "\n",
        "\n",
        "\n",
        "def add(x,y):\n",
        "  total = 0\n",
        "  for i in x,y:\n",
        "    total = total +i\n",
        "  return total\n",
        "print(add(1,2))\n"
      ],
      "metadata": {
        "id": "pqpPckTv544j",
        "outputId": "67812564-841a-4919-b0cb-9a4e156b2ce0",
        "colab": {
          "base_uri": "https://localhost:8080/"
        }
      },
      "execution_count": 28,
      "outputs": [
        {
          "output_type": "stream",
          "name": "stdout",
          "text": [
            "3\n"
          ]
        }
      ]
    },
    {
      "cell_type": "code",
      "source": [
        "#Sol5- Fibonacci series using recursion.\n",
        "def fs(num):\n",
        "  if num == 1:\n",
        "    return (0)\n",
        "  elif num == 2:\n",
        "    return (1)\n",
        "  else:\n",
        "    return (fs(num-1)+ fs(num-2))\n",
        "print(fs(7))\n"
      ],
      "metadata": {
        "id": "Av-J66ssBsb4",
        "outputId": "5f7d0486-4e83-40ea-9ace-62aa41c6c47d",
        "colab": {
          "base_uri": "https://localhost:8080/"
        }
      },
      "execution_count": 30,
      "outputs": [
        {
          "output_type": "stream",
          "name": "stdout",
          "text": [
            "8\n"
          ]
        }
      ]
    },
    {
      "cell_type": "code",
      "source": [],
      "metadata": {
        "id": "ZhgUPXxOFfkK"
      },
      "execution_count": null,
      "outputs": []
    }
  ]
}