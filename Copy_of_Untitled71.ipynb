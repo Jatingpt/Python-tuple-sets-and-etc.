{
  "nbformat": 4,
  "nbformat_minor": 0,
  "metadata": {
    "colab": {
      "provenance": [],
      "authorship_tag": "ABX9TyOUKw/qmuR5iuFLG9GTEtOw",
      "include_colab_link": true
    },
    "kernelspec": {
      "name": "python3",
      "display_name": "Python 3"
    },
    "language_info": {
      "name": "python"
    }
  },
  "cells": [
    {
      "cell_type": "markdown",
      "metadata": {
        "id": "view-in-github",
        "colab_type": "text"
      },
      "source": [
        "<a href=\"https://colab.research.google.com/github/Jatingpt/Python-tuple-sets-and-etc./blob/main/Copy_of_Untitled71.ipynb\" target=\"_parent\"><img src=\"https://colab.research.google.com/assets/colab-badge.svg\" alt=\"Open In Colab\"/></a>"
      ]
    },
    {
      "cell_type": "code",
      "execution_count": null,
      "metadata": {
        "id": "Yun5ZAogdJg4"
      },
      "outputs": [],
      "source": [
        "#TUPLE- Tuples are the collection of ordered and un-mutable data.\n",
        "#Once created can't be changed.\n",
        "#Separated by comma(,)\n",
        "#No such brackets are mandatory but we are using paranthesis for understanding.\n",
        "#Multiple datatypes can be written in a tuple."
      ]
    },
    {
      "cell_type": "code",
      "source": [
        "#e.g\n",
        "a = \"apple\", \"banana\", \"cherry\"\n",
        "print(a)"
      ],
      "metadata": {
        "id": "39tPRqxhd_mK",
        "outputId": "6dc820a0-c307-4dd3-e75e-1af1192882f8",
        "colab": {
          "base_uri": "https://localhost:8080/"
        }
      },
      "execution_count": 1,
      "outputs": [
        {
          "output_type": "stream",
          "name": "stdout",
          "text": [
            "('apple', 'banana', 'cherry')\n"
          ]
        }
      ]
    },
    {
      "cell_type": "code",
      "source": [
        "print(type(a))"
      ],
      "metadata": {
        "id": "dLJcBhhGeM64",
        "outputId": "4febabf9-c97d-4b1c-bd55-8d22c7c97159",
        "colab": {
          "base_uri": "https://localhost:8080/"
        }
      },
      "execution_count": 2,
      "outputs": [
        {
          "output_type": "stream",
          "name": "stdout",
          "text": [
            "<class 'tuple'>\n"
          ]
        }
      ]
    },
    {
      "cell_type": "code",
      "source": [
        "#Slicing in tuple.\n",
        "a = (\"apple\", \"banana\", \"cherry\", \"orange\", \"kiwi\", \"melon\", \"mango\")\n",
        "print(a[:])\n",
        "\n",
        "print(a[::-1]) #for reverse\n",
        "\n",
        "print(a[-5:-1])\n",
        "\n",
        "print(a[-3:1:-1])"
      ],
      "metadata": {
        "id": "b1j0LboBeYBK",
        "outputId": "e18fdb5f-78e4-4b41-b43a-55931a8916f4",
        "colab": {
          "base_uri": "https://localhost:8080/"
        }
      },
      "execution_count": 7,
      "outputs": [
        {
          "output_type": "stream",
          "name": "stdout",
          "text": [
            "('apple', 'banana', 'cherry', 'orange', 'kiwi', 'melon', 'mango')\n",
            "('mango', 'melon', 'kiwi', 'orange', 'cherry', 'banana', 'apple')\n",
            "('cherry', 'orange', 'kiwi', 'melon')\n",
            "('kiwi', 'orange', 'cherry')\n"
          ]
        }
      ]
    },
    {
      "cell_type": "code",
      "source": [
        "###Iteration"
      ],
      "metadata": {
        "id": "xwKTiLM_ena9"
      },
      "execution_count": 8,
      "outputs": []
    },
    {
      "cell_type": "code",
      "source": [
        "a = (\"Vivo\", \"realme\", \"samsung\", \"oneplus\")\n",
        "for i in a:\n",
        "  print(i)"
      ],
      "metadata": {
        "id": "ZYvrj7GAfSXc",
        "outputId": "28a03121-caaf-4885-a7aa-3c52b90ba49b",
        "colab": {
          "base_uri": "https://localhost:8080/"
        }
      },
      "execution_count": 9,
      "outputs": [
        {
          "output_type": "stream",
          "name": "stdout",
          "text": [
            "Vivo\n",
            "realme\n",
            "samsung\n",
            "oneplus\n"
          ]
        }
      ]
    },
    {
      "cell_type": "code",
      "source": [
        "#Iteration along with range in for loop.\n",
        "a = (\"Vivo\", \"realme\", \"samsung\", \"oneplus\")\n",
        "for i in range(len(a)):\n",
        "  print(a[i])\n",
        "\n"
      ],
      "metadata": {
        "id": "VeKYU63hfjJI",
        "outputId": "2bc0abf0-3d6d-445d-f370-c0b3a19aa621",
        "colab": {
          "base_uri": "https://localhost:8080/"
        }
      },
      "execution_count": 12,
      "outputs": [
        {
          "output_type": "stream",
          "name": "stdout",
          "text": [
            "Vivo\n",
            "realme\n",
            "samsung\n",
            "oneplus\n"
          ]
        }
      ]
    },
    {
      "cell_type": "code",
      "source": [
        "#Iteration using while loop.\n",
        "i = 0\n",
        "a = (\"Vivo\", \"realme\", \"samsung\", \"oneplus\")\n",
        "while i<len(a):\n",
        "  print(a[i])\n",
        "  i+=1"
      ],
      "metadata": {
        "id": "YYCU_9X0fnu4",
        "outputId": "f174826c-3c4a-486f-8d7b-44f12bdbf058",
        "colab": {
          "base_uri": "https://localhost:8080/"
        }
      },
      "execution_count": 14,
      "outputs": [
        {
          "output_type": "stream",
          "name": "stdout",
          "text": [
            "Vivo\n",
            "realme\n",
            "samsung\n",
            "oneplus\n"
          ]
        }
      ]
    },
    {
      "cell_type": "code",
      "source": [
        "#Conversion of tuples and tuple functions.\n",
        "a = (\"Vivo\", \"realme\", \"samsung\", \"oneplus\")\n",
        "a = list(a)\n",
        "print(a)\n",
        "\n",
        "print(type(a))\n",
        "\n",
        "a.append(\"Redmi\")\n",
        "print(a)\n",
        "\n",
        "a = tuple(a)\n",
        "print(a)\n",
        "print(type(a))\n",
        "\n",
        "\n",
        "#Here tuples can't be changed so, we are converting a tuple into a list and then added whatever we wanted to add.\n",
        "#Then again converted into the tuple.\n",
        "\n",
        "\n",
        "#Count Method- Counting the specified element that how many time the element is repeating.\n",
        "\n",
        "print(a.count(\"Redmi\"))\n",
        "\n",
        "#Indexing in tuple- It will give the rank of the specified value which we wanted to find.\n",
        "print(a.index(\"samsung\"))"
      ],
      "metadata": {
        "id": "ni0OQ0B_hqh3",
        "outputId": "fb012cd3-cc08-4181-d86b-00a6f1ec98cb",
        "colab": {
          "base_uri": "https://localhost:8080/"
        }
      },
      "execution_count": 26,
      "outputs": [
        {
          "output_type": "stream",
          "name": "stdout",
          "text": [
            "['Vivo', 'realme', 'samsung', 'oneplus']\n",
            "<class 'list'>\n",
            "['Vivo', 'realme', 'samsung', 'oneplus', 'Redmi']\n",
            "('Vivo', 'realme', 'samsung', 'oneplus', 'Redmi')\n",
            "<class 'tuple'>\n",
            "1\n",
            "2\n"
          ]
        }
      ]
    },
    {
      "cell_type": "code",
      "source": [
        "                                                          #PROBLEMS OF TUPLE.\n",
        "\n"
      ],
      "metadata": {
        "id": "cuEkRAcniKLo"
      },
      "execution_count": null,
      "outputs": []
    }
  ]
}