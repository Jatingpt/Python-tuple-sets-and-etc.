{
  "nbformat": 4,
  "nbformat_minor": 0,
  "metadata": {
    "colab": {
      "provenance": [],
      "generative_ai_disabled": true,
      "include_colab_link": true
    },
    "kernelspec": {
      "name": "python3",
      "display_name": "Python 3"
    },
    "language_info": {
      "name": "python"
    }
  },
  "cells": [
    {
      "cell_type": "markdown",
      "metadata": {
        "id": "view-in-github",
        "colab_type": "text"
      },
      "source": [
        "<a href=\"https://colab.research.google.com/github/Jatingpt/Python-tuple-sets-and-etc./blob/main/Python%20practice%201.ipynb\" target=\"_parent\"><img src=\"https://colab.research.google.com/assets/colab-badge.svg\" alt=\"Open In Colab\"/></a>"
      ]
    },
    {
      "cell_type": "code",
      "execution_count": 1,
      "metadata": {
        "id": "Yun5ZAogdJg4"
      },
      "outputs": [],
      "source": [
        "#TUPLE- Tuples are the collection of ordered and un-mutable data.\n",
        "#Once created can't be changed.\n",
        "#Separated by comma(,)\n",
        "#No such brackets are mandatory but we are using paranthesis for understanding.\n",
        "#Multiple datatypes can be written in a tuple."
      ]
    },
    {
      "cell_type": "code",
      "source": [
        "rev_str = ''\n",
        "n = 'ris olleh'\n",
        "for i in n:\n",
        "  rev_str = i + rev_str\n",
        "print(rev_str)"
      ],
      "metadata": {
        "id": "9xzUPxmXooet",
        "outputId": "b5155630-fd85-4a51-c3ae-d00356f66614",
        "colab": {
          "base_uri": "https://localhost:8080/"
        }
      },
      "execution_count": 2,
      "outputs": [
        {
          "output_type": "stream",
          "name": "stdout",
          "text": [
            "hello sir\n"
          ]
        }
      ]
    },
    {
      "cell_type": "code",
      "source": [
        "n = input('Enter anything to find the palindrome: ')\n",
        "if n == n[::-1]:\n",
        "  print('Palindrome.')\n",
        "else:\n",
        "  print('Not Palindrome.')"
      ],
      "metadata": {
        "id": "CQv0Kb75oobe",
        "outputId": "c6a8f9c3-d102-4a4b-b451-7205b7352c65",
        "colab": {
          "base_uri": "https://localhost:8080/"
        }
      },
      "execution_count": 3,
      "outputs": [
        {
          "output_type": "stream",
          "name": "stdout",
          "text": [
            "Enter anything to find the palindrome: madam\n",
            "Palindrome.\n"
          ]
        }
      ]
    },
    {
      "cell_type": "code",
      "source": [
        "l = [1,2,3,4,22,44]\n",
        "l = sorted(l, reverse = True)\n",
        "l[1]"
      ],
      "metadata": {
        "id": "SQzZ0BRSo91I",
        "outputId": "111cb209-f1bb-4ba3-95de-b3a99f5f01d4",
        "colab": {
          "base_uri": "https://localhost:8080/"
        }
      },
      "execution_count": 4,
      "outputs": [
        {
          "output_type": "execute_result",
          "data": {
            "text/plain": [
              "22"
            ]
          },
          "metadata": {},
          "execution_count": 4
        }
      ]
    },
    {
      "cell_type": "code",
      "source": [
        "def fact(n):\n",
        "  if n == 1:\n",
        "    return n\n",
        "  else:\n",
        "    return n * fact(n-1)\n",
        "fact(5)"
      ],
      "metadata": {
        "id": "uGG2ZLxfo9yQ",
        "outputId": "d5c7f7a0-8277-4d07-92a8-b5a182c398ea",
        "colab": {
          "base_uri": "https://localhost:8080/"
        }
      },
      "execution_count": 5,
      "outputs": [
        {
          "output_type": "execute_result",
          "data": {
            "text/plain": [
              "120"
            ]
          },
          "metadata": {},
          "execution_count": 5
        }
      ]
    },
    {
      "cell_type": "code",
      "source": [
        "n = int(input('Enter the number to find whether the number is odd or even: '))\n",
        "if n % 2 == 0:\n",
        "  print('It is an even number.')\n",
        "else:\n",
        "  print('It is an odd number.')"
      ],
      "metadata": {
        "id": "ZeFQW6lSo9vY",
        "outputId": "cbdb9764-9b5c-4fec-e520-cbd6a88d6db3",
        "colab": {
          "base_uri": "https://localhost:8080/"
        }
      },
      "execution_count": 6,
      "outputs": [
        {
          "output_type": "stream",
          "name": "stdout",
          "text": [
            "Enter the number to find whether the number is odd or even: 5\n",
            "It is an odd number.\n"
          ]
        }
      ]
    },
    {
      "cell_type": "code",
      "source": [
        "def prime(n):\n",
        "  if n == 1:\n",
        "    print('It is not a prime number.')\n",
        "  if n >= 2:\n",
        "    for i in range(2,n):\n",
        "      if n % i == 0:\n",
        "        print('Not Prime.')\n",
        "        break\n",
        "  else:\n",
        "    print(\"It is a prime number.\")\n",
        "  prime(19)"
      ],
      "metadata": {
        "id": "kovmoYdQo9sR"
      },
      "execution_count": 11,
      "outputs": []
    },
    {
      "cell_type": "code",
      "source": [
        "def check_prime(n):\n",
        "  if n == 1:\n",
        "    print('It is not a prime number.')\n",
        "  if n >= 2:\n",
        "    for i in range(2,n):\n",
        "      if n % i == 0:\n",
        "        print('It is not a prime number.')\n",
        "        break\n",
        "    else:\n",
        "      print('It is a prime number.')\n",
        "check_prime(9)"
      ],
      "metadata": {
        "id": "roYl0tZFo9pH",
        "outputId": "f72dc87f-9efa-444d-a3b8-3178a8636b52",
        "colab": {
          "base_uri": "https://localhost:8080/"
        }
      },
      "execution_count": 21,
      "outputs": [
        {
          "output_type": "stream",
          "name": "stdout",
          "text": [
            "It is not a prime number.\n"
          ]
        }
      ]
    },
    {
      "cell_type": "code",
      "source": [
        "l = [1,2,3,4,5,6,7,8,9,10]\n",
        "sum = 0\n",
        "for i in l:\n",
        "  sum += i\n",
        "print(sum)"
      ],
      "metadata": {
        "id": "KylBi2spo9mT",
        "outputId": "1990d39e-d263-4f60-8633-acf9576b667e",
        "colab": {
          "base_uri": "https://localhost:8080/"
        }
      },
      "execution_count": 22,
      "outputs": [
        {
          "output_type": "stream",
          "name": "stdout",
          "text": [
            "55\n"
          ]
        }
      ]
    },
    {
      "cell_type": "code",
      "source": [
        "for i in range(1,11):\n",
        "  print(i*i, end = \" \")"
      ],
      "metadata": {
        "id": "64OU72Uao9ji",
        "outputId": "eb484c46-4397-4b6e-8e98-4824d27373ad",
        "colab": {
          "base_uri": "https://localhost:8080/"
        }
      },
      "execution_count": 23,
      "outputs": [
        {
          "output_type": "stream",
          "name": "stdout",
          "text": [
            "1 4 9 16 25 36 49 64 81 100 "
          ]
        }
      ]
    },
    {
      "cell_type": "code",
      "source": [
        "inp =  input('Enter the letter to find the vowel: ')\n",
        "if inp in 'aeiouAEIOU':\n",
        "  print('It is a vowel')\n",
        "else:\n",
        "  print('Not a vowel.')"
      ],
      "metadata": {
        "id": "BApC-y2fo9fo",
        "outputId": "1a69db82-1371-4fff-e556-91ef8837d054",
        "colab": {
          "base_uri": "https://localhost:8080/"
        }
      },
      "execution_count": 25,
      "outputs": [
        {
          "output_type": "stream",
          "name": "stdout",
          "text": [
            "Enter the letter to find the vowel: e\n",
            "It is a vowel\n"
          ]
        }
      ]
    },
    {
      "cell_type": "code",
      "source": [
        "s = \"hi how are you brother.\"\n",
        "tot_vow = 0\n",
        "for i in s:\n",
        "  if i in 'aeiouAEIOU':\n",
        "    tot_vow += 1\n",
        "print(tot_vow)"
      ],
      "metadata": {
        "id": "r-AnxXo3o9ar",
        "outputId": "7f2bc6be-94ec-458d-99ce-cf29b2ecbc37",
        "colab": {
          "base_uri": "https://localhost:8080/"
        }
      },
      "execution_count": 26,
      "outputs": [
        {
          "output_type": "stream",
          "name": "stdout",
          "text": [
            "8\n"
          ]
        }
      ]
    },
    {
      "cell_type": "code",
      "source": [
        "n = \"aabbccddnxfneeff\"\n",
        "for i in n:\n",
        "  if n.count(i) == 1:\n",
        "    print(i)"
      ],
      "metadata": {
        "id": "NmEF55zIo9Xu",
        "outputId": "4fba4d49-0676-4b27-a94f-798dbacdfbab",
        "colab": {
          "base_uri": "https://localhost:8080/"
        }
      },
      "execution_count": 30,
      "outputs": [
        {
          "output_type": "stream",
          "name": "stdout",
          "text": [
            "x\n"
          ]
        }
      ]
    },
    {
      "cell_type": "code",
      "source": [
        "l = [[1,2], [3,4], [5,6]]\n",
        "flat_list = [i for i in l for i in i]\n",
        "flat_list"
      ],
      "metadata": {
        "id": "SWOSAUCZo9UL",
        "outputId": "979fc908-c9bd-4bde-acec-23c7fced99a4",
        "colab": {
          "base_uri": "https://localhost:8080/"
        }
      },
      "execution_count": 32,
      "outputs": [
        {
          "output_type": "execute_result",
          "data": {
            "text/plain": [
              "[1, 2, 3, 4, 5, 6]"
            ]
          },
          "metadata": {},
          "execution_count": 32
        }
      ]
    },
    {
      "cell_type": "code",
      "source": [
        "a = [1,1,22,32,34,4,52,1,4,54,6]\n",
        "unique = list(dict.fromkeys(a))\n",
        "print(unique)"
      ],
      "metadata": {
        "id": "G3IqmAo8sfkr",
        "outputId": "e0280fd2-3f64-4588-c4d7-d8793dacc316",
        "colab": {
          "base_uri": "https://localhost:8080/"
        }
      },
      "execution_count": 33,
      "outputs": [
        {
          "output_type": "stream",
          "name": "stdout",
          "text": [
            "[1, 22, 32, 34, 4, 52, 54, 6]\n"
          ]
        }
      ]
    },
    {
      "cell_type": "code",
      "source": [
        "def is_ana(str1, str2):\n",
        "  if sorted(str1) == sorted(str2):\n",
        "    print('These are the anagrams.')\n",
        "  else:\n",
        "    print('These are not the anagrams.')\n",
        "is_ana('Listen', 'silent')"
      ],
      "metadata": {
        "id": "iQOPvVYmsfh9",
        "outputId": "e99200dd-748d-4452-cd96-98c89e07986c",
        "colab": {
          "base_uri": "https://localhost:8080/"
        }
      },
      "execution_count": 34,
      "outputs": [
        {
          "output_type": "stream",
          "name": "stdout",
          "text": [
            "These are not the anagrams.\n"
          ]
        }
      ]
    },
    {
      "cell_type": "code",
      "source": [
        "a = 'banana'\n",
        "from collections import Counter\n",
        "freq = Counter(a)\n",
        "freq"
      ],
      "metadata": {
        "id": "Cyu02K6Bsffa",
        "outputId": "3f4042c5-3c7f-4884-cbc3-f98d27f408e6",
        "colab": {
          "base_uri": "https://localhost:8080/"
        }
      },
      "execution_count": 35,
      "outputs": [
        {
          "output_type": "execute_result",
          "data": {
            "text/plain": [
              "Counter({'b': 1, 'a': 3, 'n': 2})"
            ]
          },
          "metadata": {},
          "execution_count": 35
        }
      ]
    },
    {
      "cell_type": "code",
      "source": [
        "l = ['Rohit Sharma', 'Yuvraj Singh']\n",
        "l2 = []\n",
        "for i in l:\n",
        "  l2.append(i.split()[0])\n",
        "print(l2)"
      ],
      "metadata": {
        "id": "zAbYBSo2sfc9",
        "outputId": "133bd2d7-7cee-46ce-feca-557c22710c5c",
        "colab": {
          "base_uri": "https://localhost:8080/"
        }
      },
      "execution_count": 38,
      "outputs": [
        {
          "output_type": "stream",
          "name": "stdout",
          "text": [
            "['Rohit', 'Yuvraj']\n"
          ]
        }
      ]
    },
    {
      "cell_type": "code",
      "source": [
        "a = [1,2,3,4,5]\n",
        "def rot_list(n):\n",
        "  return n[-1:] + n[:-1]\n",
        "rot_list(a)"
      ],
      "metadata": {
        "id": "orm0P0-BsfaO",
        "outputId": "fb7dcc24-2d49-4a7b-d47b-bd25f07f56f3",
        "colab": {
          "base_uri": "https://localhost:8080/"
        }
      },
      "execution_count": 39,
      "outputs": [
        {
          "output_type": "execute_result",
          "data": {
            "text/plain": [
              "[5, 1, 2, 3, 4]"
            ]
          },
          "metadata": {},
          "execution_count": 39
        }
      ]
    },
    {
      "cell_type": "code",
      "source": [
        "dic = {'a': 3, 'c': 4, 'b': 1}\n",
        "sorted_dict = sorted(dic.values())\n",
        "sorted_dict\n",
        "\n",
        "sort_dic = sorted(dic.keys())\n",
        "sort_dic"
      ],
      "metadata": {
        "id": "dMFuLNO4sfXm",
        "outputId": "9de38d9f-d7a1-4599-c027-c13268ee3ad5",
        "colab": {
          "base_uri": "https://localhost:8080/"
        }
      },
      "execution_count": 41,
      "outputs": [
        {
          "output_type": "execute_result",
          "data": {
            "text/plain": [
              "['a', 'b', 'c']"
            ]
          },
          "metadata": {},
          "execution_count": 41
        }
      ]
    },
    {
      "cell_type": "code",
      "source": [
        "dic = {}\n",
        "for i in range(1,11):\n",
        "  dic[i] = i*i\n",
        "print(dic)"
      ],
      "metadata": {
        "id": "4srtUNJlsfU6",
        "outputId": "4393f099-ee82-4d05-bbf9-885c1b895e80",
        "colab": {
          "base_uri": "https://localhost:8080/"
        }
      },
      "execution_count": 42,
      "outputs": [
        {
          "output_type": "stream",
          "name": "stdout",
          "text": [
            "{1: 1, 2: 4, 3: 9, 4: 16, 5: 25, 6: 36, 7: 49, 8: 64, 9: 81, 10: 100}\n"
          ]
        }
      ]
    },
    {
      "cell_type": "code",
      "source": [
        "d = {1: 1, 2: 4, 3: None}\n",
        "tot_null = 0\n",
        "for i in d:\n",
        "  if d[i] == None:\n",
        "    tot_null += 1\n",
        "print(tot_null)"
      ],
      "metadata": {
        "id": "_23M3HymsfRp",
        "outputId": "d740c1f4-79c8-49c2-9e10-76f9322a972b",
        "colab": {
          "base_uri": "https://localhost:8080/"
        }
      },
      "execution_count": 43,
      "outputs": [
        {
          "output_type": "stream",
          "name": "stdout",
          "text": [
            "1\n"
          ]
        }
      ]
    },
    {
      "cell_type": "code",
      "source": [
        "dic = {1: 1, 2: 4, 3: 9}\n",
        "mul = 0\n",
        "for i in dic:\n",
        "  mul += dic[i]\n",
        "print(mul)"
      ],
      "metadata": {
        "id": "P98nmV7KsfOi",
        "outputId": "c9a465e1-afc7-4838-82d2-30c82a755efb",
        "colab": {
          "base_uri": "https://localhost:8080/"
        }
      },
      "execution_count": 47,
      "outputs": [
        {
          "output_type": "stream",
          "name": "stdout",
          "text": [
            "14\n"
          ]
        }
      ]
    },
    {
      "cell_type": "code",
      "source": [],
      "metadata": {
        "id": "8r3763jbxJJq"
      },
      "execution_count": null,
      "outputs": []
    },
    {
      "cell_type": "code",
      "source": [],
      "metadata": {
        "id": "vgStRGc_xJG3"
      },
      "execution_count": null,
      "outputs": []
    },
    {
      "cell_type": "code",
      "source": [],
      "metadata": {
        "id": "20Pcdo-axJEW"
      },
      "execution_count": null,
      "outputs": []
    },
    {
      "cell_type": "code",
      "source": [],
      "metadata": {
        "id": "Js5w04pQxJBf"
      },
      "execution_count": null,
      "outputs": []
    },
    {
      "cell_type": "code",
      "source": [
        "import pandas as pd\n",
        "import numpy as np\n",
        "import matplotlib.pyplot as plt\n",
        "import seaborn as sns"
      ],
      "metadata": {
        "id": "7rAFbNQMxI-X"
      },
      "execution_count": 54,
      "outputs": []
    },
    {
      "cell_type": "code",
      "source": [
        "file_path = \"/content/sample_employee_data.xlsx\"\n",
        "df = pd.read_excel(file_path)\n",
        "df.head()"
      ],
      "metadata": {
        "id": "hU4lI4fKw5gl",
        "outputId": "a738d24d-89a6-4a9e-c3bb-c8697ccf2dbb",
        "colab": {
          "base_uri": "https://localhost:8080/",
          "height": 206
        }
      },
      "execution_count": 55,
      "outputs": [
        {
          "output_type": "execute_result",
          "data": {
            "text/plain": [
              "         Name  Gender   Age   Salary Department  Tenure\n",
              "0  Employee_1    Male   NaN  40000.0         HR     1.0\n",
              "1  Employee_2     NaN  45.0  60000.0         HR     5.0\n",
              "2  Employee_3  Female  50.0  50000.0    Finance     5.0\n",
              "3  Employee_4  Female  45.0  60000.0         IT     4.0\n",
              "4  Employee_5    Male  40.0  70000.0  Marketing     2.0"
            ],
            "text/html": [
              "\n",
              "  <div id=\"df-775ad520-5b15-4f33-ae87-bbf1e92f93f3\" class=\"colab-df-container\">\n",
              "    <div>\n",
              "<style scoped>\n",
              "    .dataframe tbody tr th:only-of-type {\n",
              "        vertical-align: middle;\n",
              "    }\n",
              "\n",
              "    .dataframe tbody tr th {\n",
              "        vertical-align: top;\n",
              "    }\n",
              "\n",
              "    .dataframe thead th {\n",
              "        text-align: right;\n",
              "    }\n",
              "</style>\n",
              "<table border=\"1\" class=\"dataframe\">\n",
              "  <thead>\n",
              "    <tr style=\"text-align: right;\">\n",
              "      <th></th>\n",
              "      <th>Name</th>\n",
              "      <th>Gender</th>\n",
              "      <th>Age</th>\n",
              "      <th>Salary</th>\n",
              "      <th>Department</th>\n",
              "      <th>Tenure</th>\n",
              "    </tr>\n",
              "  </thead>\n",
              "  <tbody>\n",
              "    <tr>\n",
              "      <th>0</th>\n",
              "      <td>Employee_1</td>\n",
              "      <td>Male</td>\n",
              "      <td>NaN</td>\n",
              "      <td>40000.0</td>\n",
              "      <td>HR</td>\n",
              "      <td>1.0</td>\n",
              "    </tr>\n",
              "    <tr>\n",
              "      <th>1</th>\n",
              "      <td>Employee_2</td>\n",
              "      <td>NaN</td>\n",
              "      <td>45.0</td>\n",
              "      <td>60000.0</td>\n",
              "      <td>HR</td>\n",
              "      <td>5.0</td>\n",
              "    </tr>\n",
              "    <tr>\n",
              "      <th>2</th>\n",
              "      <td>Employee_3</td>\n",
              "      <td>Female</td>\n",
              "      <td>50.0</td>\n",
              "      <td>50000.0</td>\n",
              "      <td>Finance</td>\n",
              "      <td>5.0</td>\n",
              "    </tr>\n",
              "    <tr>\n",
              "      <th>3</th>\n",
              "      <td>Employee_4</td>\n",
              "      <td>Female</td>\n",
              "      <td>45.0</td>\n",
              "      <td>60000.0</td>\n",
              "      <td>IT</td>\n",
              "      <td>4.0</td>\n",
              "    </tr>\n",
              "    <tr>\n",
              "      <th>4</th>\n",
              "      <td>Employee_5</td>\n",
              "      <td>Male</td>\n",
              "      <td>40.0</td>\n",
              "      <td>70000.0</td>\n",
              "      <td>Marketing</td>\n",
              "      <td>2.0</td>\n",
              "    </tr>\n",
              "  </tbody>\n",
              "</table>\n",
              "</div>\n",
              "    <div class=\"colab-df-buttons\">\n",
              "\n",
              "  <div class=\"colab-df-container\">\n",
              "    <button class=\"colab-df-convert\" onclick=\"convertToInteractive('df-775ad520-5b15-4f33-ae87-bbf1e92f93f3')\"\n",
              "            title=\"Convert this dataframe to an interactive table.\"\n",
              "            style=\"display:none;\">\n",
              "\n",
              "  <svg xmlns=\"http://www.w3.org/2000/svg\" height=\"24px\" viewBox=\"0 -960 960 960\">\n",
              "    <path d=\"M120-120v-720h720v720H120Zm60-500h600v-160H180v160Zm220 220h160v-160H400v160Zm0 220h160v-160H400v160ZM180-400h160v-160H180v160Zm440 0h160v-160H620v160ZM180-180h160v-160H180v160Zm440 0h160v-160H620v160Z\"/>\n",
              "  </svg>\n",
              "    </button>\n",
              "\n",
              "  <style>\n",
              "    .colab-df-container {\n",
              "      display:flex;\n",
              "      gap: 12px;\n",
              "    }\n",
              "\n",
              "    .colab-df-convert {\n",
              "      background-color: #E8F0FE;\n",
              "      border: none;\n",
              "      border-radius: 50%;\n",
              "      cursor: pointer;\n",
              "      display: none;\n",
              "      fill: #1967D2;\n",
              "      height: 32px;\n",
              "      padding: 0 0 0 0;\n",
              "      width: 32px;\n",
              "    }\n",
              "\n",
              "    .colab-df-convert:hover {\n",
              "      background-color: #E2EBFA;\n",
              "      box-shadow: 0px 1px 2px rgba(60, 64, 67, 0.3), 0px 1px 3px 1px rgba(60, 64, 67, 0.15);\n",
              "      fill: #174EA6;\n",
              "    }\n",
              "\n",
              "    .colab-df-buttons div {\n",
              "      margin-bottom: 4px;\n",
              "    }\n",
              "\n",
              "    [theme=dark] .colab-df-convert {\n",
              "      background-color: #3B4455;\n",
              "      fill: #D2E3FC;\n",
              "    }\n",
              "\n",
              "    [theme=dark] .colab-df-convert:hover {\n",
              "      background-color: #434B5C;\n",
              "      box-shadow: 0px 1px 3px 1px rgba(0, 0, 0, 0.15);\n",
              "      filter: drop-shadow(0px 1px 2px rgba(0, 0, 0, 0.3));\n",
              "      fill: #FFFFFF;\n",
              "    }\n",
              "  </style>\n",
              "\n",
              "    <script>\n",
              "      const buttonEl =\n",
              "        document.querySelector('#df-775ad520-5b15-4f33-ae87-bbf1e92f93f3 button.colab-df-convert');\n",
              "      buttonEl.style.display =\n",
              "        google.colab.kernel.accessAllowed ? 'block' : 'none';\n",
              "\n",
              "      async function convertToInteractive(key) {\n",
              "        const element = document.querySelector('#df-775ad520-5b15-4f33-ae87-bbf1e92f93f3');\n",
              "        const dataTable =\n",
              "          await google.colab.kernel.invokeFunction('convertToInteractive',\n",
              "                                                    [key], {});\n",
              "        if (!dataTable) return;\n",
              "\n",
              "        const docLinkHtml = 'Like what you see? Visit the ' +\n",
              "          '<a target=\"_blank\" href=https://colab.research.google.com/notebooks/data_table.ipynb>data table notebook</a>'\n",
              "          + ' to learn more about interactive tables.';\n",
              "        element.innerHTML = '';\n",
              "        dataTable['output_type'] = 'display_data';\n",
              "        await google.colab.output.renderOutput(dataTable, element);\n",
              "        const docLink = document.createElement('div');\n",
              "        docLink.innerHTML = docLinkHtml;\n",
              "        element.appendChild(docLink);\n",
              "      }\n",
              "    </script>\n",
              "  </div>\n",
              "\n",
              "\n",
              "    <div id=\"df-52f91a76-fcd7-4d8e-872e-b2dbb30bc815\">\n",
              "      <button class=\"colab-df-quickchart\" onclick=\"quickchart('df-52f91a76-fcd7-4d8e-872e-b2dbb30bc815')\"\n",
              "                title=\"Suggest charts\"\n",
              "                style=\"display:none;\">\n",
              "\n",
              "<svg xmlns=\"http://www.w3.org/2000/svg\" height=\"24px\"viewBox=\"0 0 24 24\"\n",
              "     width=\"24px\">\n",
              "    <g>\n",
              "        <path d=\"M19 3H5c-1.1 0-2 .9-2 2v14c0 1.1.9 2 2 2h14c1.1 0 2-.9 2-2V5c0-1.1-.9-2-2-2zM9 17H7v-7h2v7zm4 0h-2V7h2v10zm4 0h-2v-4h2v4z\"/>\n",
              "    </g>\n",
              "</svg>\n",
              "      </button>\n",
              "\n",
              "<style>\n",
              "  .colab-df-quickchart {\n",
              "      --bg-color: #E8F0FE;\n",
              "      --fill-color: #1967D2;\n",
              "      --hover-bg-color: #E2EBFA;\n",
              "      --hover-fill-color: #174EA6;\n",
              "      --disabled-fill-color: #AAA;\n",
              "      --disabled-bg-color: #DDD;\n",
              "  }\n",
              "\n",
              "  [theme=dark] .colab-df-quickchart {\n",
              "      --bg-color: #3B4455;\n",
              "      --fill-color: #D2E3FC;\n",
              "      --hover-bg-color: #434B5C;\n",
              "      --hover-fill-color: #FFFFFF;\n",
              "      --disabled-bg-color: #3B4455;\n",
              "      --disabled-fill-color: #666;\n",
              "  }\n",
              "\n",
              "  .colab-df-quickchart {\n",
              "    background-color: var(--bg-color);\n",
              "    border: none;\n",
              "    border-radius: 50%;\n",
              "    cursor: pointer;\n",
              "    display: none;\n",
              "    fill: var(--fill-color);\n",
              "    height: 32px;\n",
              "    padding: 0;\n",
              "    width: 32px;\n",
              "  }\n",
              "\n",
              "  .colab-df-quickchart:hover {\n",
              "    background-color: var(--hover-bg-color);\n",
              "    box-shadow: 0 1px 2px rgba(60, 64, 67, 0.3), 0 1px 3px 1px rgba(60, 64, 67, 0.15);\n",
              "    fill: var(--button-hover-fill-color);\n",
              "  }\n",
              "\n",
              "  .colab-df-quickchart-complete:disabled,\n",
              "  .colab-df-quickchart-complete:disabled:hover {\n",
              "    background-color: var(--disabled-bg-color);\n",
              "    fill: var(--disabled-fill-color);\n",
              "    box-shadow: none;\n",
              "  }\n",
              "\n",
              "  .colab-df-spinner {\n",
              "    border: 2px solid var(--fill-color);\n",
              "    border-color: transparent;\n",
              "    border-bottom-color: var(--fill-color);\n",
              "    animation:\n",
              "      spin 1s steps(1) infinite;\n",
              "  }\n",
              "\n",
              "  @keyframes spin {\n",
              "    0% {\n",
              "      border-color: transparent;\n",
              "      border-bottom-color: var(--fill-color);\n",
              "      border-left-color: var(--fill-color);\n",
              "    }\n",
              "    20% {\n",
              "      border-color: transparent;\n",
              "      border-left-color: var(--fill-color);\n",
              "      border-top-color: var(--fill-color);\n",
              "    }\n",
              "    30% {\n",
              "      border-color: transparent;\n",
              "      border-left-color: var(--fill-color);\n",
              "      border-top-color: var(--fill-color);\n",
              "      border-right-color: var(--fill-color);\n",
              "    }\n",
              "    40% {\n",
              "      border-color: transparent;\n",
              "      border-right-color: var(--fill-color);\n",
              "      border-top-color: var(--fill-color);\n",
              "    }\n",
              "    60% {\n",
              "      border-color: transparent;\n",
              "      border-right-color: var(--fill-color);\n",
              "    }\n",
              "    80% {\n",
              "      border-color: transparent;\n",
              "      border-right-color: var(--fill-color);\n",
              "      border-bottom-color: var(--fill-color);\n",
              "    }\n",
              "    90% {\n",
              "      border-color: transparent;\n",
              "      border-bottom-color: var(--fill-color);\n",
              "    }\n",
              "  }\n",
              "</style>\n",
              "\n",
              "      <script>\n",
              "        async function quickchart(key) {\n",
              "          const quickchartButtonEl =\n",
              "            document.querySelector('#' + key + ' button');\n",
              "          quickchartButtonEl.disabled = true;  // To prevent multiple clicks.\n",
              "          quickchartButtonEl.classList.add('colab-df-spinner');\n",
              "          try {\n",
              "            const charts = await google.colab.kernel.invokeFunction(\n",
              "                'suggestCharts', [key], {});\n",
              "          } catch (error) {\n",
              "            console.error('Error during call to suggestCharts:', error);\n",
              "          }\n",
              "          quickchartButtonEl.classList.remove('colab-df-spinner');\n",
              "          quickchartButtonEl.classList.add('colab-df-quickchart-complete');\n",
              "        }\n",
              "        (() => {\n",
              "          let quickchartButtonEl =\n",
              "            document.querySelector('#df-52f91a76-fcd7-4d8e-872e-b2dbb30bc815 button');\n",
              "          quickchartButtonEl.style.display =\n",
              "            google.colab.kernel.accessAllowed ? 'block' : 'none';\n",
              "        })();\n",
              "      </script>\n",
              "    </div>\n",
              "\n",
              "    </div>\n",
              "  </div>\n"
            ],
            "application/vnd.google.colaboratory.intrinsic+json": {
              "type": "dataframe",
              "variable_name": "df",
              "summary": "{\n  \"name\": \"df\",\n  \"rows\": 50,\n  \"fields\": [\n    {\n      \"column\": \"Name\",\n      \"properties\": {\n        \"dtype\": \"string\",\n        \"num_unique_values\": 50,\n        \"samples\": [\n          \"Employee_14\",\n          \"Employee_40\",\n          \"Employee_31\"\n        ],\n        \"semantic_type\": \"\",\n        \"description\": \"\"\n      }\n    },\n    {\n      \"column\": \"Gender\",\n      \"properties\": {\n        \"dtype\": \"category\",\n        \"num_unique_values\": 2,\n        \"samples\": [\n          \"Female\",\n          \"Male\"\n        ],\n        \"semantic_type\": \"\",\n        \"description\": \"\"\n      }\n    },\n    {\n      \"column\": \"Age\",\n      \"properties\": {\n        \"dtype\": \"number\",\n        \"std\": 8.030858039528766,\n        \"min\": 25.0,\n        \"max\": 50.0,\n        \"num_unique_values\": 6,\n        \"samples\": [\n          45.0,\n          50.0\n        ],\n        \"semantic_type\": \"\",\n        \"description\": \"\"\n      }\n    },\n    {\n      \"column\": \"Salary\",\n      \"properties\": {\n        \"dtype\": \"number\",\n        \"std\": 10718.844015157445,\n        \"min\": 40000.0,\n        \"max\": 70000.0,\n        \"num_unique_values\": 4,\n        \"samples\": [\n          60000.0,\n          70000.0\n        ],\n        \"semantic_type\": \"\",\n        \"description\": \"\"\n      }\n    },\n    {\n      \"column\": \"Department\",\n      \"properties\": {\n        \"dtype\": \"category\",\n        \"num_unique_values\": 5,\n        \"samples\": [\n          \"Finance\",\n          \"Sales\"\n        ],\n        \"semantic_type\": \"\",\n        \"description\": \"\"\n      }\n    },\n    {\n      \"column\": \"Tenure\",\n      \"properties\": {\n        \"dtype\": \"number\",\n        \"std\": 1.428273778515365,\n        \"min\": 1.0,\n        \"max\": 5.0,\n        \"num_unique_values\": 5,\n        \"samples\": [\n          5.0,\n          3.0\n        ],\n        \"semantic_type\": \"\",\n        \"description\": \"\"\n      }\n    }\n  ]\n}"
            }
          },
          "metadata": {},
          "execution_count": 55
        }
      ]
    },
    {
      "cell_type": "code",
      "source": [
        "df.isnull().sum()"
      ],
      "metadata": {
        "id": "H0f1DDDuxUml",
        "outputId": "3af1323d-5e42-47ee-9921-90f480d05b9e",
        "colab": {
          "base_uri": "https://localhost:8080/",
          "height": 272
        }
      },
      "execution_count": 56,
      "outputs": [
        {
          "output_type": "execute_result",
          "data": {
            "text/plain": [
              "Name          0\n",
              "Gender        5\n",
              "Age           2\n",
              "Salary        2\n",
              "Department    0\n",
              "Tenure        1\n",
              "dtype: int64"
            ],
            "text/html": [
              "<div>\n",
              "<style scoped>\n",
              "    .dataframe tbody tr th:only-of-type {\n",
              "        vertical-align: middle;\n",
              "    }\n",
              "\n",
              "    .dataframe tbody tr th {\n",
              "        vertical-align: top;\n",
              "    }\n",
              "\n",
              "    .dataframe thead th {\n",
              "        text-align: right;\n",
              "    }\n",
              "</style>\n",
              "<table border=\"1\" class=\"dataframe\">\n",
              "  <thead>\n",
              "    <tr style=\"text-align: right;\">\n",
              "      <th></th>\n",
              "      <th>0</th>\n",
              "    </tr>\n",
              "  </thead>\n",
              "  <tbody>\n",
              "    <tr>\n",
              "      <th>Name</th>\n",
              "      <td>0</td>\n",
              "    </tr>\n",
              "    <tr>\n",
              "      <th>Gender</th>\n",
              "      <td>5</td>\n",
              "    </tr>\n",
              "    <tr>\n",
              "      <th>Age</th>\n",
              "      <td>2</td>\n",
              "    </tr>\n",
              "    <tr>\n",
              "      <th>Salary</th>\n",
              "      <td>2</td>\n",
              "    </tr>\n",
              "    <tr>\n",
              "      <th>Department</th>\n",
              "      <td>0</td>\n",
              "    </tr>\n",
              "    <tr>\n",
              "      <th>Tenure</th>\n",
              "      <td>1</td>\n",
              "    </tr>\n",
              "  </tbody>\n",
              "</table>\n",
              "</div><br><label><b>dtype:</b> int64</label>"
            ]
          },
          "metadata": {},
          "execution_count": 56
        }
      ]
    },
    {
      "cell_type": "code",
      "source": [
        "df['Gender'].fillna(df['Gender'].mode()[0], inplace = True)\n",
        "df['Age'].fillna(df['Age'].mode()[0], inplace = True)\n",
        "df['Salary'].fillna(df['Salary'].median(), inplace = True)\n",
        "df['Tenure'].fillna(df['Tenure'].mode()[0], inplace = True)"
      ],
      "metadata": {
        "id": "hHVjD7LPxUiI",
        "outputId": "5185be39-e126-46d6-eb51-85460b21f25e",
        "colab": {
          "base_uri": "https://localhost:8080/"
        }
      },
      "execution_count": 58,
      "outputs": [
        {
          "output_type": "stream",
          "name": "stderr",
          "text": [
            "/tmp/ipython-input-3010249435.py:2: FutureWarning: A value is trying to be set on a copy of a DataFrame or Series through chained assignment using an inplace method.\n",
            "The behavior will change in pandas 3.0. This inplace method will never work because the intermediate object on which we are setting values always behaves as a copy.\n",
            "\n",
            "For example, when doing 'df[col].method(value, inplace=True)', try using 'df.method({col: value}, inplace=True)' or df[col] = df[col].method(value) instead, to perform the operation inplace on the original object.\n",
            "\n",
            "\n",
            "  df['Age'].fillna(df['Age'].mode()[0], inplace = True)\n",
            "/tmp/ipython-input-3010249435.py:3: FutureWarning: A value is trying to be set on a copy of a DataFrame or Series through chained assignment using an inplace method.\n",
            "The behavior will change in pandas 3.0. This inplace method will never work because the intermediate object on which we are setting values always behaves as a copy.\n",
            "\n",
            "For example, when doing 'df[col].method(value, inplace=True)', try using 'df.method({col: value}, inplace=True)' or df[col] = df[col].method(value) instead, to perform the operation inplace on the original object.\n",
            "\n",
            "\n",
            "  df['Salary'].fillna(df['Salary'].median(), inplace = True)\n",
            "/tmp/ipython-input-3010249435.py:4: FutureWarning: A value is trying to be set on a copy of a DataFrame or Series through chained assignment using an inplace method.\n",
            "The behavior will change in pandas 3.0. This inplace method will never work because the intermediate object on which we are setting values always behaves as a copy.\n",
            "\n",
            "For example, when doing 'df[col].method(value, inplace=True)', try using 'df.method({col: value}, inplace=True)' or df[col] = df[col].method(value) instead, to perform the operation inplace on the original object.\n",
            "\n",
            "\n",
            "  df['Tenure'].fillna(df['Tenure'].mode()[0], inplace = True)\n"
          ]
        }
      ]
    },
    {
      "cell_type": "code",
      "source": [
        "df.isnull().sum()"
      ],
      "metadata": {
        "id": "_Z2bMpApxUdI",
        "outputId": "6da68283-c213-4e20-d646-eb575b45baef",
        "colab": {
          "base_uri": "https://localhost:8080/",
          "height": 272
        }
      },
      "execution_count": 59,
      "outputs": [
        {
          "output_type": "execute_result",
          "data": {
            "text/plain": [
              "Name          0\n",
              "Gender        0\n",
              "Age           0\n",
              "Salary        0\n",
              "Department    0\n",
              "Tenure        0\n",
              "dtype: int64"
            ],
            "text/html": [
              "<div>\n",
              "<style scoped>\n",
              "    .dataframe tbody tr th:only-of-type {\n",
              "        vertical-align: middle;\n",
              "    }\n",
              "\n",
              "    .dataframe tbody tr th {\n",
              "        vertical-align: top;\n",
              "    }\n",
              "\n",
              "    .dataframe thead th {\n",
              "        text-align: right;\n",
              "    }\n",
              "</style>\n",
              "<table border=\"1\" class=\"dataframe\">\n",
              "  <thead>\n",
              "    <tr style=\"text-align: right;\">\n",
              "      <th></th>\n",
              "      <th>0</th>\n",
              "    </tr>\n",
              "  </thead>\n",
              "  <tbody>\n",
              "    <tr>\n",
              "      <th>Name</th>\n",
              "      <td>0</td>\n",
              "    </tr>\n",
              "    <tr>\n",
              "      <th>Gender</th>\n",
              "      <td>0</td>\n",
              "    </tr>\n",
              "    <tr>\n",
              "      <th>Age</th>\n",
              "      <td>0</td>\n",
              "    </tr>\n",
              "    <tr>\n",
              "      <th>Salary</th>\n",
              "      <td>0</td>\n",
              "    </tr>\n",
              "    <tr>\n",
              "      <th>Department</th>\n",
              "      <td>0</td>\n",
              "    </tr>\n",
              "    <tr>\n",
              "      <th>Tenure</th>\n",
              "      <td>0</td>\n",
              "    </tr>\n",
              "  </tbody>\n",
              "</table>\n",
              "</div><br><label><b>dtype:</b> int64</label>"
            ]
          },
          "metadata": {},
          "execution_count": 59
        }
      ]
    },
    {
      "cell_type": "code",
      "source": [
        "sns.countplot(data = df, x = 'Gender')\n",
        "plt.show()"
      ],
      "metadata": {
        "id": "95SEoCTSxUZx",
        "outputId": "77cca434-179e-43d9-e352-02080de4e3df",
        "colab": {
          "base_uri": "https://localhost:8080/",
          "height": 449
        }
      },
      "execution_count": 60,
      "outputs": [
        {
          "output_type": "display_data",
          "data": {
            "text/plain": [
              "<Figure size 640x480 with 1 Axes>"
            ],
            "image/png": "[encoded data removed]"
          },
          "metadata": {}
        }
      ]
    },
    {
      "cell_type": "code",
      "source": [],
      "metadata": {
        "id": "gAIWOLefxUW1"
      },
      "execution_count": null,
      "outputs": []
    },
    {
      "cell_type": "code",
      "source": [
        "s = 'my name is Jatin'\n",
        "new_name = s.split()\n",
        "new_name = str(new_name[::-1])\n",
        "print(str(new_name))"
      ],
      "metadata": {
        "id": "TdvNfyVlwSfI",
        "outputId": "21541351-0750-4b9e-c3f6-c2530c701d94",
        "colab": {
          "base_uri": "https://localhost:8080/"
        }
      },
      "execution_count": 52,
      "outputs": [
        {
          "output_type": "stream",
          "name": "stdout",
          "text": [
            "['Jatin', 'is', 'name', 'my']\n"
          ]
        }
      ]
    },
    {
      "cell_type": "code",
      "source": [
        "type(new_name)"
      ],
      "metadata": {
        "id": "8g_B1ea7wScq",
        "outputId": "681cb7a7-e09d-4519-aa74-e6808ab73e6b",
        "colab": {
          "base_uri": "https://localhost:8080/"
        }
      },
      "execution_count": 53,
      "outputs": [
        {
          "output_type": "execute_result",
          "data": {
            "text/plain": [
              "str"
            ]
          },
          "metadata": {},
          "execution_count": 53
        }
      ]
    },
    {
      "cell_type": "code",
      "source": [],
      "metadata": {
        "id": "Y5-HXYfMwSZ8"
      },
      "execution_count": null,
      "outputs": []
    },
    {
      "cell_type": "code",
      "source": [],
      "metadata": {
        "id": "iopjg5qpwSXP"
      },
      "execution_count": null,
      "outputs": []
    },
    {
      "cell_type": "code",
      "source": [],
      "metadata": {
        "id": "JfZEHpMhwSTz"
      },
      "execution_count": null,
      "outputs": []
    },
    {
      "cell_type": "code",
      "source": [
        "#e.g\n",
        "a = \"apple\", \"banana\", \"cherry\"\n",
        "print(a)"
      ],
      "metadata": {
        "id": "39tPRqxhd_mK",
        "outputId": "6dc820a0-c307-4dd3-e75e-1af1192882f8",
        "colab": {
          "base_uri": "https://localhost:8080/"
        }
      },
      "execution_count": null,
      "outputs": [
        {
          "output_type": "stream",
          "name": "stdout",
          "text": [
            "('apple', 'banana', 'cherry')\n"
          ]
        }
      ]
    },
    {
      "cell_type": "code",
      "source": [
        "print(type(a))"
      ],
      "metadata": {
        "id": "dLJcBhhGeM64",
        "outputId": "4febabf9-c97d-4b1c-bd55-8d22c7c97159",
        "colab": {
          "base_uri": "https://localhost:8080/"
        }
      },
      "execution_count": null,
      "outputs": [
        {
          "output_type": "stream",
          "name": "stdout",
          "text": [
            "<class 'tuple'>\n"
          ]
        }
      ]
    },
    {
      "cell_type": "code",
      "source": [
        "#Slicing in tuple.\n",
        "a = (\"apple\", \"banana\", \"cherry\", \"orange\", \"kiwi\", \"melon\", \"mango\")\n",
        "print(a[:])\n",
        "\n",
        "print(a[::-1]) #for reverse\n",
        "\n",
        "print(a[-5:-1])\n",
        "\n",
        "print(a[-3:1:-1])"
      ],
      "metadata": {
        "id": "b1j0LboBeYBK",
        "outputId": "e18fdb5f-78e4-4b41-b43a-55931a8916f4",
        "colab": {
          "base_uri": "https://localhost:8080/"
        }
      },
      "execution_count": null,
      "outputs": [
        {
          "output_type": "stream",
          "name": "stdout",
          "text": [
            "('apple', 'banana', 'cherry', 'orange', 'kiwi', 'melon', 'mango')\n",
            "('mango', 'melon', 'kiwi', 'orange', 'cherry', 'banana', 'apple')\n",
            "('cherry', 'orange', 'kiwi', 'melon')\n",
            "('kiwi', 'orange', 'cherry')\n"
          ]
        }
      ]
    },
    {
      "cell_type": "code",
      "source": [
        "###Iteration"
      ],
      "metadata": {
        "id": "xwKTiLM_ena9"
      },
      "execution_count": null,
      "outputs": []
    },
    {
      "cell_type": "code",
      "source": [
        "a = (\"Vivo\", \"realme\", \"samsung\", \"oneplus\")\n",
        "for i in a:\n",
        "  print(i)"
      ],
      "metadata": {
        "id": "ZYvrj7GAfSXc",
        "outputId": "28a03121-caaf-4885-a7aa-3c52b90ba49b",
        "colab": {
          "base_uri": "https://localhost:8080/"
        }
      },
      "execution_count": null,
      "outputs": [
        {
          "output_type": "stream",
          "name": "stdout",
          "text": [
            "Vivo\n",
            "realme\n",
            "samsung\n",
            "oneplus\n"
          ]
        }
      ]
    },
    {
      "cell_type": "code",
      "source": [
        "#Iteration along with range in for loop.\n",
        "a = (\"Vivo\", \"realme\", \"samsung\", \"oneplus\")\n",
        "for i in range(len(a)):\n",
        "  print(a[i])\n",
        "\n"
      ],
      "metadata": {
        "id": "VeKYU63hfjJI",
        "outputId": "2bc0abf0-3d6d-445d-f370-c0b3a19aa621",
        "colab": {
          "base_uri": "https://localhost:8080/"
        }
      },
      "execution_count": null,
      "outputs": [
        {
          "output_type": "stream",
          "name": "stdout",
          "text": [
            "Vivo\n",
            "realme\n",
            "samsung\n",
            "oneplus\n"
          ]
        }
      ]
    },
    {
      "cell_type": "code",
      "source": [
        "#Iteration using while loop.\n",
        "i = 0\n",
        "a = (\"Vivo\", \"realme\", \"samsung\", \"oneplus\")\n",
        "while i<len(a):\n",
        "  print(a[i])\n",
        "  i+=1"
      ],
      "metadata": {
        "id": "YYCU_9X0fnu4",
        "outputId": "f174826c-3c4a-486f-8d7b-44f12bdbf058",
        "colab": {
          "base_uri": "https://localhost:8080/"
        }
      },
      "execution_count": null,
      "outputs": [
        {
          "output_type": "stream",
          "name": "stdout",
          "text": [
            "Vivo\n",
            "realme\n",
            "samsung\n",
            "oneplus\n"
          ]
        }
      ]
    },
    {
      "cell_type": "code",
      "source": [
        "#Conversion of tuples and tuple functions.\n",
        "a = (\"Vivo\", \"realme\", \"samsung\", \"oneplus\")\n",
        "a = list(a)\n",
        "print(a)\n",
        "\n",
        "print(type(a))\n",
        "\n",
        "a.append(\"Redmi\")\n",
        "print(a)\n",
        "\n",
        "a = tuple(a)\n",
        "print(a)\n",
        "print(type(a))\n",
        "\n",
        "\n",
        "#Here tuples can't be changed so, we are converting a tuple into a list and then added whatever we wanted to add.\n",
        "#Then again converted into the tuple.\n",
        "\n",
        "\n",
        "#Count Method- Counting the specified element that how many time the element is repeating.\n",
        "\n",
        "print(a.count(\"Redmi\"))\n",
        "\n",
        "#Indexing in tuple- It will give the rank of the specified value which we wanted to find.\n",
        "print(a.index(\"samsung\"))"
      ],
      "metadata": {
        "id": "ni0OQ0B_hqh3",
        "outputId": "fb012cd3-cc08-4181-d86b-00a6f1ec98cb",
        "colab": {
          "base_uri": "https://localhost:8080/"
        }
      },
      "execution_count": null,
      "outputs": [
        {
          "output_type": "stream",
          "name": "stdout",
          "text": [
            "['Vivo', 'realme', 'samsung', 'oneplus']\n",
            "<class 'list'>\n",
            "['Vivo', 'realme', 'samsung', 'oneplus', 'Redmi']\n",
            "('Vivo', 'realme', 'samsung', 'oneplus', 'Redmi')\n",
            "<class 'tuple'>\n",
            "1\n",
            "2\n"
          ]
        }
      ]
    },
    {
      "cell_type": "code",
      "source": [
        "                                                          #PROBLEMS OF TUPLE.\n",
        "\n",
        "#1. Convert the following dictionary into JSON format.\n",
        "#2. Access the value age from the given data.\n",
        "#3. Pretty printing following JSON data.\n",
        "\n",
        "\n",
        "#Sol1\n",
        "Student_data = {\"name\": \"John\", \"age\": 24, \"marks\": 87}\n",
        "import json\n",
        "\n",
        "print(type(Student_data))\n",
        "\n",
        "data = json.dumps(Student_data)\n",
        "\n",
        "print(type(data))\n",
        "print(data)\n",
        "\n",
        "#Sol2\n",
        "\n",
        "Student_data = '{\"name\": \"John\", \"age\": 24, \"marks\": 87}'\n",
        "import json\n",
        "\n",
        "data = json.loads(Student_data)   #Here we should make sure that the data should be in string format otherwise it will through error.\n",
        "print(data[\"age\"])"
      ],
      "metadata": {
        "id": "cuEkRAcniKLo",
        "outputId": "0a7aa1d6-aa26-4d9c-c89c-c9fc9f91932c",
        "colab": {
          "base_uri": "https://localhost:8080/"
        }
      },
      "execution_count": null,
      "outputs": [
        {
          "output_type": "stream",
          "name": "stdout",
          "text": [
            "<class 'dict'>\n",
            "<class 'str'>\n",
            "{\"name\": \"John\", \"age\": 24, \"marks\": 87}\n",
            "24\n"
          ]
        }
      ]
    },
    {
      "cell_type": "code",
      "source": [
        "#Sol3- sorting in JSON and writing in a file.\n",
        "Student_data = {\"name\": \"John\", \"age\": 24, \"marks\": 87}\n",
        "\n",
        "f = open(\"demo.json\", \"w\")\n",
        "\n",
        "data = json.dumps(Student_data, indent = 4, sort_keys= True)\n",
        "\n",
        "f.write(data)\n",
        "\n",
        "print(\"The data has been added to the file.\")"
      ],
      "metadata": {
        "id": "Aw0adEICwAYu",
        "outputId": "04d2e228-e493-4a37-f909-bb30af3c936a",
        "colab": {
          "base_uri": "https://localhost:8080/"
        }
      },
      "execution_count": null,
      "outputs": [
        {
          "output_type": "stream",
          "name": "stdout",
          "text": [
            "The data has been added to the file.\n"
          ]
        }
      ]
    },
    {
      "cell_type": "code",
      "source": [
        "                                                            #INTRODUCTION TO DICTIONARY.\n",
        "\n",
        "\n",
        "#Dictionary allows the user to write the data in the form of keys and values format.\n",
        "#It is enclosed by curly brackets.\n",
        "#Keys and values are separated by colon.\n",
        "#keys and values both are separated by comma(,).\n",
        "#Indexing can be done with the help of keys.\n",
        "\n",
        "#e.g\n",
        "employee = {\"Name\": \"Akhilesh\", \"Age\":32, \"Gender\": \"Male\"}\n",
        "print(employee)"
      ],
      "metadata": {
        "id": "GYuukA-Wy6Pz",
        "outputId": "38652dda-d5e3-4178-ce09-2626adcb4f0a",
        "colab": {
          "base_uri": "https://localhost:8080/"
        }
      },
      "execution_count": null,
      "outputs": [
        {
          "output_type": "stream",
          "name": "stdout",
          "text": [
            "{'Name': 'Akhilesh', 'Age': 32, 'Gender': 'Male'}\n"
          ]
        }
      ]
    },
    {
      "cell_type": "code",
      "source": [
        "#Indexing\n",
        "print(employee[\"Gender\"])"
      ],
      "metadata": {
        "id": "TW9byV6D1BYK",
        "outputId": "19101952-0b46-4949-e90c-3cbf4e686ae8",
        "colab": {
          "base_uri": "https://localhost:8080/"
        }
      },
      "execution_count": null,
      "outputs": [
        {
          "output_type": "stream",
          "name": "stdout",
          "text": [
            "Male\n"
          ]
        }
      ]
    },
    {
      "cell_type": "code",
      "source": [
        "                                                       #Iteration in dictionary."
      ],
      "metadata": {
        "id": "OboLCZ1x1JEB"
      },
      "execution_count": null,
      "outputs": []
    },
    {
      "cell_type": "code",
      "source": [
        "student = {\"name\": \"Rashi\", \"age\": 34, \"roll no\": 23, \"gender\": \"female\"}\n",
        "for x in student:\n",
        "  print(x)\n",
        "\n",
        "#Here we can find the keys by applying this syntax.\n",
        "\n",
        "#for values.\n",
        "\n",
        "for x in student:\n",
        "  print(student[x])"
      ],
      "metadata": {
        "colab": {
          "base_uri": "https://localhost:8080/"
        },
        "id": "EOJ5KcCr1xE6",
        "outputId": "2ce71ff6-473d-4d9b-cb99-234a08198c54"
      },
      "execution_count": null,
      "outputs": [
        {
          "output_type": "stream",
          "name": "stdout",
          "text": [
            "name\n",
            "age\n",
            "roll no\n",
            "gender\n",
            "Rashi\n",
            "34\n",
            "23\n",
            "female\n"
          ]
        }
      ]
    },
    {
      "cell_type": "code",
      "source": [
        "#We can also find the values by using values methodd.\n",
        "for x in student.values():\n",
        "  print(x)"
      ],
      "metadata": {
        "colab": {
          "base_uri": "https://localhost:8080/"
        },
        "id": "yRvyCdgw2Zpl",
        "outputId": "ed50def5-30dd-4702-cc29-043ec2239ae1"
      },
      "execution_count": null,
      "outputs": [
        {
          "output_type": "stream",
          "name": "stdout",
          "text": [
            "Rashi\n",
            "34\n",
            "23\n",
            "female\n"
          ]
        }
      ]
    },
    {
      "cell_type": "code",
      "source": [
        "#For both keys and value we can apply the items function.\n",
        "for x,y in student.items():\n",
        "  print(x,y)"
      ],
      "metadata": {
        "colab": {
          "base_uri": "https://localhost:8080/"
        },
        "id": "iR4n0ieg3IEh",
        "outputId": "9a1943d5-d991-4836-959f-0e74a15aa062"
      },
      "execution_count": null,
      "outputs": [
        {
          "output_type": "stream",
          "name": "stdout",
          "text": [
            "name Rashi\n",
            "age 34\n",
            "roll no 23\n",
            "gender female\n"
          ]
        }
      ]
    },
    {
      "cell_type": "code",
      "source": [
        "#There are some other functions in the dictionary like- get, copy, key, values, items.\n",
        "\n",
        "#1. GET FUNC\n",
        "student = {\"name\": \"Rashi\", \"age\": 34, \"roll no\": 23, \"gender\": \"female\"}\n",
        "a = student.get(\"name\")\n",
        "print(a)\n",
        "\n",
        "#also by\n",
        "print(student.get(\"name\"))\n",
        "\n",
        "#2. COPY FUNC\n",
        "\n",
        "data = student.copy()\n",
        "print(data)\n",
        "\n",
        "#3. keys func\n",
        "\n",
        "print(student.keys())\n",
        "\n",
        "#4. Values func\n",
        "\n",
        "print(student.values())\n",
        "\n",
        "#5. Items func\n",
        "\n",
        "print(student.items())\n"
      ],
      "metadata": {
        "colab": {
          "base_uri": "https://localhost:8080/"
        },
        "id": "lFLBGQot3Xk1",
        "outputId": "ec8d178b-260b-4705-de4b-aa2172f986ec"
      },
      "execution_count": null,
      "outputs": [
        {
          "output_type": "stream",
          "name": "stdout",
          "text": [
            "Rashi\n",
            "Rashi\n",
            "{'name': 'Rashi', 'age': 34, 'roll no': 23, 'gender': 'female'}\n",
            "dict_keys(['name', 'age', 'roll no', 'gender'])\n",
            "dict_values(['Rashi', 34, 23, 'female'])\n",
            "dict_items([('name', 'Rashi'), ('age', 34), ('roll no', 23), ('gender', 'female')])\n"
          ]
        }
      ]
    },
    {
      "cell_type": "code",
      "source": [
        "#Some other functions of dictionaries are- Set default, update, pop, popitem and clear.\n",
        "student = {\"name\": \"Rashi\", \"age\": 34, \"roll no\": 23, \"gender\": \"female\"}\n",
        "\n",
        "#1. Set default- This function will not let the change the data.\n",
        "\n",
        "a = student.setdefault(\"roll no\",33)\n",
        "print(a)                                     #Here still the roll no is 23"
      ],
      "metadata": {
        "colab": {
          "base_uri": "https://localhost:8080/"
        },
        "id": "XID1G0A4312J",
        "outputId": "2b794741-3361-42d8-e702-079908db0c7e"
      },
      "execution_count": null,
      "outputs": [
        {
          "output_type": "stream",
          "name": "stdout",
          "text": [
            "23\n"
          ]
        }
      ]
    },
    {
      "cell_type": "code",
      "source": [
        "                                                        #Nested Dictionary.\n",
        "\n",
        "#A dictionary under a dictionary called the nested dictionary.\n",
        "#e.g\n",
        "\n",
        "employee = {1:{\"name\": \"Leon\", \"age\":45, \"gender\": \"male\"},\n",
        "            2:{\"name\": \"Lisa\", \"age\":43, \"gender\": \"female\"}}\n",
        "\n",
        "#How can we find anything from the nested dictionary.\n",
        "print(employee[2][\"age\"])\n",
        "print(employee[1])\n",
        "print(employee[1][\"name\"])"
      ],
      "metadata": {
        "colab": {
          "base_uri": "https://localhost:8080/"
        },
        "id": "XsufhDH36n6V",
        "outputId": "d7710b7c-1e83-4bf5-8867-8df0ee225b37"
      },
      "execution_count": null,
      "outputs": [
        {
          "output_type": "stream",
          "name": "stdout",
          "text": [
            "43\n",
            "{'name': 'Leon', 'age': 45, 'gender': 'male'}\n",
            "Leon\n"
          ]
        }
      ]
    },
    {
      "cell_type": "code",
      "source": [
        "#Problem Solving.\n",
        "\n",
        "#1. Write a python program to sort a dictionary by value.\n",
        "#2. Write a python script to print a dictionary where the keys are the numbers between 1 and 15 and the values are their square.\n",
        "#3. write a program to multiply all the items of the dictionary.\n",
        "#4. write a python program to sort a dictionary by key.\n"
      ],
      "metadata": {
        "id": "EYj1o139-AQe"
      },
      "execution_count": null,
      "outputs": []
    },
    {
      "cell_type": "code",
      "source": [
        "#1st sol\n",
        "a = {\"a\":2, \"b\":1, \"c\":3, \"d\":4}\n",
        "a = sorted(a.values())\n",
        "print(a)\n",
        "\n",
        "\n",
        "\n",
        "a = {\"b\":1, \"a\":2, \"c\":3, \"d\":4}\n",
        "b = sorted(a)\n",
        "print(b)"
      ],
      "metadata": {
        "colab": {
          "base_uri": "https://localhost:8080/"
        },
        "id": "JrrlaOEu_Z3y",
        "outputId": "df94eb66-1a8e-4537-d775-497e67c69b21"
      },
      "execution_count": null,
      "outputs": [
        {
          "output_type": "stream",
          "name": "stdout",
          "text": [
            "[1, 2, 3, 4]\n",
            "['a', 'b', 'c', 'd']\n"
          ]
        }
      ]
    },
    {
      "cell_type": "code",
      "source": [
        "#2nd sol\n",
        "a = {}\n",
        "for i in range(1,16):\n",
        "  a[i]= i**2\n",
        "print(a)"
      ],
      "metadata": {
        "colab": {
          "base_uri": "https://localhost:8080/"
        },
        "id": "rt-GyuUL_lVP",
        "outputId": "c3e8ec26-6069-47e2-d4a8-5f8bd97fc973"
      },
      "execution_count": null,
      "outputs": [
        {
          "output_type": "stream",
          "name": "stdout",
          "text": [
            "{1: 1, 2: 4, 3: 9, 4: 16, 5: 25, 6: 36, 7: 49, 8: 64, 9: 81, 10: 100, 11: 121, 12: 144, 13: 169, 14: 196, 15: 225}\n"
          ]
        }
      ]
    },
    {
      "cell_type": "code",
      "source": [
        "#3rd sol- to multiply all the items in a dictionary.\n",
        "a = {\"a\":1, \"b\":2, \"c\":3, \"d\":4}\n",
        "product = 1\n",
        "for i in a:\n",
        "  product *= a[i]\n",
        "print(product)"
      ],
      "metadata": {
        "colab": {
          "base_uri": "https://localhost:8080/"
        },
        "id": "RNMtYaRnAuWJ",
        "outputId": "c592e95c-5192-4a50-8c08-53cea5bee531"
      },
      "execution_count": null,
      "outputs": [
        {
          "output_type": "stream",
          "name": "stdout",
          "text": [
            "24\n"
          ]
        }
      ]
    },
    {
      "cell_type": "code",
      "source": [
        "#Sol4\n",
        "a = {\"b\":1, \"a\":2, \"c\":3, \"d\":4}\n",
        "b = sorted(a)\n",
        "print(b)\n",
        "\n",
        "#or\n",
        "\n",
        "a =sorted(a.keys())\n",
        "print(a)"
      ],
      "metadata": {
        "colab": {
          "base_uri": "https://localhost:8080/"
        },
        "id": "m5yYwrA8BgMo",
        "outputId": "ca4d17ed-cb1e-4a29-a9a7-6aa944e30586"
      },
      "execution_count": null,
      "outputs": [
        {
          "output_type": "stream",
          "name": "stdout",
          "text": [
            "['a', 'b', 'c', 'd']\n",
            "['a', 'b', 'c', 'd']\n"
          ]
        }
      ]
    },
    {
      "cell_type": "code",
      "source": [
        "                                                #Introduction to sets.\n",
        "#Sets are the unordered collection of mutable data. Every element in a set is unique.\n",
        "#Written by curly brackets and separated by comma(,).\n"
      ],
      "metadata": {
        "id": "0bEglBAxCzMY"
      },
      "execution_count": null,
      "outputs": []
    },
    {
      "cell_type": "code",
      "source": [
        "a = {\"Ironman\", \"Thor\", \"Hulk\", \"Captain America\"}\n",
        "print(a)"
      ],
      "metadata": {
        "id": "AfVAjbMcDC_q",
        "outputId": "7ff50d03-596d-47f4-9c54-2129ee27b07a",
        "colab": {
          "base_uri": "https://localhost:8080/"
        }
      },
      "execution_count": null,
      "outputs": [
        {
          "output_type": "stream",
          "name": "stdout",
          "text": [
            "{'Thor', 'Captain America', 'Ironman', 'Hulk'}\n"
          ]
        }
      ]
    },
    {
      "cell_type": "code",
      "source": [
        "#Set functions- Add, pop, remove, discard, copy.\n",
        "\n",
        "a.add(\"Spiderman\")\n",
        "print(a)\n"
      ],
      "metadata": {
        "id": "U-ZhZ9wOEwZC",
        "outputId": "98a4e2e8-f536-4a53-f506-6725652f0dc8",
        "colab": {
          "base_uri": "https://localhost:8080/"
        }
      },
      "execution_count": null,
      "outputs": [
        {
          "output_type": "stream",
          "name": "stdout",
          "text": [
            "{'Spiderman', 'Ironman', 'Captain America', 'Thor', 'Hulk'}\n"
          ]
        }
      ]
    },
    {
      "cell_type": "code",
      "source": [
        "a = {\"Ironman\", \"Thor\", \"Hulk\", \"Captain America\"}\n",
        "for x in a:\n",
        "   print(x)\n",
        "\n",
        "print(type(a))"
      ],
      "metadata": {
        "id": "pQUwwxBCJx43",
        "outputId": "c6fc4cd7-9a86-4b94-dad6-a5eab4af1e7e",
        "colab": {
          "base_uri": "https://localhost:8080/"
        }
      },
      "execution_count": null,
      "outputs": [
        {
          "output_type": "stream",
          "name": "stdout",
          "text": [
            "Captain America\n",
            "Thor\n",
            "Ironman\n",
            "Hulk\n",
            "<class 'set'>\n"
          ]
        }
      ]
    },
    {
      "cell_type": "code",
      "source": [
        "#pop method\n",
        "a = {\"Ironman\", \"Thor\", \"Hulk\", \"Captain America\"}\n",
        "a.pop()\n",
        "print(a)\n"
      ],
      "metadata": {
        "id": "ok73_w3fRfAT",
        "outputId": "b2762733-5a17-499b-fc8c-3653b7a82034",
        "colab": {
          "base_uri": "https://localhost:8080/"
        }
      },
      "execution_count": null,
      "outputs": [
        {
          "output_type": "stream",
          "name": "stdout",
          "text": [
            "{'Thor', 'Ironman', 'Hulk'}\n"
          ]
        }
      ]
    },
    {
      "cell_type": "code",
      "source": [
        "#pop method\n",
        "a = {\"Ironman\", \"Thor\", \"Hulk\", \"Captain America\"}\n",
        "a.pop()\n",
        "print(a)"
      ],
      "metadata": {
        "id": "-t-GVvXdVAj8",
        "outputId": "0120e2dd-0f90-4475-9e60-946370cd0d6e",
        "colab": {
          "base_uri": "https://localhost:8080/"
        }
      },
      "execution_count": null,
      "outputs": [
        {
          "output_type": "stream",
          "name": "stdout",
          "text": [
            "{'Thor', 'Ironman', 'Hulk'}\n"
          ]
        }
      ]
    },
    {
      "cell_type": "code",
      "source": [
        "#Remove method.\n",
        "a = {\"Ironman\", \"Thor\", \"Hulk\", \"Captain America\"}\n",
        "a.remove(\"Hulk\")\n",
        "print(a)"
      ],
      "metadata": {
        "id": "lLPXk9K5e2Q-",
        "outputId": "23431167-0276-4011-fee0-fdb65b2f84a0",
        "colab": {
          "base_uri": "https://localhost:8080/"
        }
      },
      "execution_count": null,
      "outputs": [
        {
          "output_type": "stream",
          "name": "stdout",
          "text": [
            "{'Captain America', 'Thor', 'Ironman'}\n"
          ]
        }
      ]
    },
    {
      "cell_type": "code",
      "source": [
        "#Discard method.\n",
        "a = {\"Ironman\", \"Thor\", \"Hulk\", \"Captain America\"}\n",
        "a.discard(\"Hulk\")\n",
        "print(a)"
      ],
      "metadata": {
        "id": "GfiCkPGDfNZq",
        "outputId": "e2f43ea7-2786-488e-db25-93b8d62dc20c",
        "colab": {
          "base_uri": "https://localhost:8080/"
        }
      },
      "execution_count": null,
      "outputs": [
        {
          "output_type": "stream",
          "name": "stdout",
          "text": [
            "{'Captain America', 'Thor', 'Ironman'}\n"
          ]
        }
      ]
    },
    {
      "cell_type": "code",
      "source": [
        "#Copy\n",
        "a = {\"Ironman\", \"Thor\", \"Hulk\", \"Captain America\"}\n",
        "b = a.copy()\n",
        "print(b)"
      ],
      "metadata": {
        "id": "xRh7xcj5f45K",
        "outputId": "f433aa43-009c-4c1d-8d1d-a3053c4bff09",
        "colab": {
          "base_uri": "https://localhost:8080/"
        }
      },
      "execution_count": null,
      "outputs": [
        {
          "output_type": "stream",
          "name": "stdout",
          "text": [
            "{'Captain America', 'Thor', 'Ironman', 'Hulk'}\n"
          ]
        }
      ]
    },
    {
      "cell_type": "code",
      "source": [
        "#Other 5 functions of sets- isdisjoint, issubset, issuperset, clear and update function."
      ],
      "metadata": {
        "id": "8Z6zlRXSgFp5"
      },
      "execution_count": null,
      "outputs": []
    },
    {
      "cell_type": "code",
      "source": [
        "#isdisjoint function- It will check the elements of set b is present into set a or not. if not then 'True' else 'False'.\n",
        "a = {1, 2, 3, 4, 5}\n",
        "b = {6, 7, 8}\n",
        "c = {2, 3}\n",
        "\n",
        "print(a.isdisjoint(b))\n"
      ],
      "metadata": {
        "colab": {
          "base_uri": "https://localhost:8080/"
        },
        "id": "wrguHrT_nd9k",
        "outputId": "4b437d56-d21d-40cc-b040-339a8e1d82c9"
      },
      "execution_count": null,
      "outputs": [
        {
          "output_type": "stream",
          "name": "stdout",
          "text": [
            "True\n"
          ]
        }
      ]
    },
    {
      "cell_type": "code",
      "source": [
        "#issubset- Check if the elements of set b is present in set a or not.\n",
        "a = {1, 2, 3, 4, 5}\n",
        "b = {6, 7, 8}\n",
        "c = {2, 3}\n",
        "\n",
        "print(c.issubset(a)) #because all the elements of c is present in a but in second case all the elements of a is not present in c.\n",
        "print(a.issubset(c))\n"
      ],
      "metadata": {
        "colab": {
          "base_uri": "https://localhost:8080/"
        },
        "id": "lvGDub5koA96",
        "outputId": "ac8c0601-76b3-4264-c40e-62733fd82103"
      },
      "execution_count": null,
      "outputs": [
        {
          "output_type": "stream",
          "name": "stdout",
          "text": [
            "True\n",
            "False\n"
          ]
        }
      ]
    },
    {
      "cell_type": "code",
      "source": [
        "print(a.issuperset(b))"
      ],
      "metadata": {
        "colab": {
          "base_uri": "https://localhost:8080/"
        },
        "id": "WEMuuxoVowrX",
        "outputId": "bfea1c1a-a835-4797-c74f-0bd1f2904507"
      },
      "execution_count": null,
      "outputs": [
        {
          "output_type": "stream",
          "name": "stdout",
          "text": [
            "False\n"
          ]
        }
      ]
    },
    {
      "cell_type": "code",
      "source": [
        "#issuperset function- Will True if all the elements of a set is present in the other set else false.\n",
        "\n",
        "a = {1, 2, 3, 4, 5}\n",
        "b = {6, 7, 8}\n",
        "c = {2, 3}\n",
        "\n",
        "print(c.issuperset(a)) #c is not a superset of a because here c is not carrying all the elements of a.\n",
        "\n",
        "print(a.issuperset(c)) #True because a is carrying all the element of c.\n"
      ],
      "metadata": {
        "colab": {
          "base_uri": "https://localhost:8080/"
        },
        "id": "XhB51JY_pR3f",
        "outputId": "5c7951db-c948-4ebf-daa9-bef6c31a8169"
      },
      "execution_count": null,
      "outputs": [
        {
          "output_type": "stream",
          "name": "stdout",
          "text": [
            "False\n",
            "True\n"
          ]
        }
      ]
    },
    {
      "cell_type": "code",
      "source": [
        "#Update func- It is basically behaves as a 'UNION' means it will give all the unique elements of both the set without repeating the elements.\n",
        "a = {1, 2, 3, 4, 5}\n",
        "b = {6, 7, 8}\n",
        "c = {2, 3, 7}\n",
        "\n",
        "a.update(c)\n",
        "print(a)"
      ],
      "metadata": {
        "colab": {
          "base_uri": "https://localhost:8080/"
        },
        "id": "oO1__b7FqD_8",
        "outputId": "b230574c-9797-4f3f-b34b-1c0c1c89e564"
      },
      "execution_count": null,
      "outputs": [
        {
          "output_type": "stream",
          "name": "stdout",
          "text": [
            "{1, 2, 3, 4, 5, 7}\n"
          ]
        }
      ]
    },
    {
      "cell_type": "code",
      "source": [
        "#clear func- It will clear the whole set. In simple terms it will do clear all the elements of the set and gives you an empty set.\n",
        "a = {1, 2, 3, 4, 5}\n",
        "b = {6, 7, 8}\n",
        "c = {2, 3}\n",
        "x  = a.clear()\n",
        "print(x)\n",
        "print(a)\n",
        "\n",
        "#or\n",
        "\n",
        "print(a.clear())\n",
        "print(a)"
      ],
      "metadata": {
        "colab": {
          "base_uri": "https://localhost:8080/"
        },
        "id": "PwJcGpsfrPLz",
        "outputId": "1c46d3b3-4aec-4537-8f29-82858ed3c54f"
      },
      "execution_count": null,
      "outputs": [
        {
          "output_type": "stream",
          "name": "stdout",
          "text": [
            "None\n",
            "set()\n",
            "None\n",
            "set()\n"
          ]
        }
      ]
    },
    {
      "cell_type": "code",
      "source": [
        "#7 Other functions of sets.\n",
        "#Union, difference, difference update, intersection, intersection update, symmetric, symmetric update.\n",
        "\n",
        "#Union func\n",
        "\n",
        "a = {1, 2, 3, 4, 5}\n",
        "b = {6, 7, 8}\n",
        "c = {2, 3}\n",
        "\n",
        "print(a.union(b))  #Will provide all the unique elements of both the sets."
      ],
      "metadata": {
        "colab": {
          "base_uri": "https://localhost:8080/"
        },
        "id": "r5QnrU98rb1d",
        "outputId": "4ce6fec3-61fa-4e2c-bd38-32bc34392977"
      },
      "execution_count": null,
      "outputs": [
        {
          "output_type": "stream",
          "name": "stdout",
          "text": [
            "{1, 2, 3, 4, 5, 6, 7, 8}\n"
          ]
        }
      ]
    },
    {
      "cell_type": "code",
      "source": [
        "#difference func- It will give you the difference of the set.\n",
        "\n",
        "print(a.difference(c))  #will remove the common elements and results will only be the unique elements."
      ],
      "metadata": {
        "colab": {
          "base_uri": "https://localhost:8080/"
        },
        "id": "TnC1DFDEsySu",
        "outputId": "43f55581-1833-4949-ca16-df1bf8fb66e7"
      },
      "execution_count": null,
      "outputs": [
        {
          "output_type": "stream",
          "name": "stdout",
          "text": [
            "{1, 4, 5}\n"
          ]
        }
      ]
    },
    {
      "cell_type": "code",
      "source": [
        "#difference update- Will give the update in the difference in the orignal set.\n",
        "a.difference_update(c)\n",
        "print(a)\n"
      ],
      "metadata": {
        "colab": {
          "base_uri": "https://localhost:8080/"
        },
        "id": "MNTlKJXJtGvI",
        "outputId": "c00c5d55-d2b9-4d66-df62-269dbf5c8a33"
      },
      "execution_count": null,
      "outputs": [
        {
          "output_type": "stream",
          "name": "stdout",
          "text": [
            "{1, 4, 5}\n"
          ]
        }
      ]
    },
    {
      "cell_type": "code",
      "source": [
        "#Intersection func- Results with the common value.\n",
        "\n",
        "a = {1, 2, 3, 4, 5}\n",
        "c = {2, 3}\n",
        "\n",
        "print(a.intersection(c))"
      ],
      "metadata": {
        "colab": {
          "base_uri": "https://localhost:8080/"
        },
        "id": "ANOLXiZqtjrv",
        "outputId": "426041a1-5ac0-4aad-d52e-1cda7efd0a46"
      },
      "execution_count": null,
      "outputs": [
        {
          "output_type": "stream",
          "name": "stdout",
          "text": [
            "{2, 3}\n"
          ]
        }
      ]
    },
    {
      "cell_type": "code",
      "source": [
        "#intersection update- will give the intersection in the original set.\n",
        "a = {1, 2, 3, 4, 5}\n",
        "c = {2, 3}\n",
        "\n",
        "a.intersection_update(c)\n",
        "print(a)"
      ],
      "metadata": {
        "colab": {
          "base_uri": "https://localhost:8080/"
        },
        "id": "pkE5PC_qux0H",
        "outputId": "08549173-3917-4bcb-bcef-e34b13a2f906"
      },
      "execution_count": null,
      "outputs": [
        {
          "output_type": "stream",
          "name": "stdout",
          "text": [
            "{2, 3}\n"
          ]
        }
      ]
    },
    {
      "cell_type": "code",
      "source": [
        "#symmetric function- the common element or symmetric elements from the sets will remove and rests are the results.\n",
        "#In simple terms, that symmetric difference will completely ignore the common values.\n",
        "a = {1, 2, 3, 4, 5, 6}\n",
        "b = {6, 7, 8}\n",
        "c = {2, 3}\n",
        "\n",
        "print(a.symmetric_difference(b))\n",
        "\n",
        "\n",
        "print(a.symmetric_difference(c))"
      ],
      "metadata": {
        "id": "g-apUkw983Mu",
        "outputId": "687c3cb8-f1f4-4481-f55f-f5e6bf32b0eb",
        "colab": {
          "base_uri": "https://localhost:8080/"
        }
      },
      "execution_count": null,
      "outputs": [
        {
          "output_type": "stream",
          "name": "stdout",
          "text": [
            "{1, 2, 3, 4, 5, 7, 8}\n",
            "{1, 4, 5, 6}\n"
          ]
        }
      ]
    },
    {
      "cell_type": "code",
      "source": [
        "#symmetric difference update- will gives changes in the original set.\n",
        "#As we know that it will remove the common elements from one set to another sets.\n",
        "a = {1, 2, 3, 4, 5, 6}\n",
        "b = {6, 7, 8}\n",
        "c = {2, 3}\n",
        "\n",
        "a.symmetric_difference_update(b)\n",
        "print(a)\n",
        "\n",
        "a.symmetric_difference_update(c)\n",
        "print(a)"
      ],
      "metadata": {
        "id": "7bdBEpcj9fdI",
        "outputId": "69ca915b-017f-4e0d-f0d2-21f197cf2d9a",
        "colab": {
          "base_uri": "https://localhost:8080/"
        }
      },
      "execution_count": null,
      "outputs": [
        {
          "output_type": "stream",
          "name": "stdout",
          "text": [
            "{1, 2, 3, 4, 5, 7, 8}\n",
            "{1, 4, 5, 7, 8}\n"
          ]
        }
      ]
    },
    {
      "cell_type": "code",
      "source": [
        "                                                  #Problem solving\n",
        "#1. Write a program to find max and minimum in the set.\n",
        "#2. Write a program to find common elements in three lists using sets.\n",
        "#3. Write a program to find the difference in two sets.\n",
        "#4. Write a python program to remove an item in a set if it is present in the set.\n",
        "#5. Write a program to check if a set is the subset of another set."
      ],
      "metadata": {
        "id": "nQNqOyVK-CYZ"
      },
      "execution_count": null,
      "outputs": []
    },
    {
      "cell_type": "code",
      "source": [
        "#Sol1.\n",
        "a = {1, 2, 3, 4, 5}\n",
        "\n",
        "b= max(a)\n",
        "c = min(a)\n",
        "\n",
        "print(\"The maximum value in set a is\", b)\n",
        "\n",
        "print(\"The minimum value in the given set is\",c)"
      ],
      "metadata": {
        "id": "8YPo2wEhAT1j",
        "outputId": "8c5bd4b3-4513-40e1-8983-bdd0fa645ff7",
        "colab": {
          "base_uri": "https://localhost:8080/"
        }
      },
      "execution_count": null,
      "outputs": [
        {
          "output_type": "stream",
          "name": "stdout",
          "text": [
            "The maximum value in set a is 5\n",
            "The minimum value in the given set is 1\n"
          ]
        }
      ]
    },
    {
      "cell_type": "code",
      "source": [
        "#Sol2\n",
        "a = [1, 2, 3, 4, 5]\n",
        "b = [5, 6, 7, 8, 9]\n",
        "c = [2, 3, 4, 5]\n",
        "\n",
        "a = set(a)\n",
        "b = set(b)\n",
        "c = set(c)\n",
        "\n",
        "print(set(a) & set(b) & set(c))\n",
        "\n",
        "\n",
        "\n"
      ],
      "metadata": {
        "id": "v4qOflTwAlWS",
        "outputId": "26729dc4-9a0a-430f-d595-2d65415c686d",
        "colab": {
          "base_uri": "https://localhost:8080/"
        }
      },
      "execution_count": null,
      "outputs": [
        {
          "output_type": "stream",
          "name": "stdout",
          "text": [
            "{5}\n"
          ]
        }
      ]
    },
    {
      "cell_type": "code",
      "source": [
        "#Sol3\n",
        "a = {1, 2, 3, 4, 5, 6}\n",
        "b = {6, 7, 8}\n",
        "c = {2, 3}\n",
        "\n",
        "print(a.difference(b))"
      ],
      "metadata": {
        "id": "gRzabgPdBVw0",
        "outputId": "297eaf28-d52f-4ded-86bd-7a5f001da9f0",
        "colab": {
          "base_uri": "https://localhost:8080/"
        }
      },
      "execution_count": null,
      "outputs": [
        {
          "output_type": "stream",
          "name": "stdout",
          "text": [
            "{1, 2, 3, 4, 5}\n"
          ]
        }
      ]
    },
    {
      "cell_type": "code",
      "source": [
        "#Sol4\n",
        "a = {1, 2, 3, 4, 5}\n",
        "\n",
        "a.remove(5)\n",
        "print(a)"
      ],
      "metadata": {
        "id": "GB189cR4CV8s",
        "outputId": "04cf8d75-a8ff-4034-dedc-0fc2df4343a0",
        "colab": {
          "base_uri": "https://localhost:8080/"
        }
      },
      "execution_count": null,
      "outputs": [
        {
          "output_type": "stream",
          "name": "stdout",
          "text": [
            "{1, 2, 3, 4}\n"
          ]
        }
      ]
    },
    {
      "cell_type": "code",
      "source": [
        "#Sol5\n",
        "\n",
        "a = {1, 2, 3, 4, 5}\n",
        "b = {6, 7, 8}\n",
        "c = {2, 3}\n",
        "\n",
        "print(c.issubset(a))"
      ],
      "metadata": {
        "id": "FoIejP6JCmaj",
        "outputId": "838668a5-2fc5-4149-de79-0b952c541c0f",
        "colab": {
          "base_uri": "https://localhost:8080/"
        }
      },
      "execution_count": null,
      "outputs": [
        {
          "output_type": "stream",
          "name": "stdout",
          "text": [
            "True\n"
          ]
        }
      ]
    },
    {
      "cell_type": "code",
      "source": [
        "                                                 #Functions\n",
        "#Functions are a set of code, which once created then can be used throughout the program.\n",
        "#e.g to create a function\n",
        "\n",
        "def hello():   #hello() is a variable here which we will use to call the function.\n",
        "  print(\"Hello World\")           #Body which we wanted to perform in the function.\n",
        "\n",
        "hello()                      #Calling function"
      ],
      "metadata": {
        "id": "Pbvlw54qCvut",
        "colab": {
          "base_uri": "https://localhost:8080/"
        },
        "outputId": "cf63f927-77d2-4167-c327-09a85a6970f4"
      },
      "execution_count": null,
      "outputs": [
        {
          "output_type": "stream",
          "name": "stdout",
          "text": [
            "Hello World\n"
          ]
        }
      ]
    },
    {
      "cell_type": "code",
      "source": [
        "def add():\n",
        "  x = 23\n",
        "  y = 34\n",
        "  print(x+y)\n",
        "\n",
        "add()"
      ],
      "metadata": {
        "colab": {
          "base_uri": "https://localhost:8080/"
        },
        "id": "jwaC55uPvj93",
        "outputId": "4fc23d6d-fc59-4149-c997-68046c8bf911"
      },
      "execution_count": null,
      "outputs": [
        {
          "output_type": "stream",
          "name": "stdout",
          "text": [
            "57\n"
          ]
        }
      ]
    },
    {
      "cell_type": "code",
      "source": [
        "                                  #Parameters and arguments in a function.\n",
        "#Parameters- Parameters are the variables that is written inside the parantheses with the name of function.\n",
        "\n",
        "#Arguments - Arguments are the values passed in the parameters while calling the function.\n",
        "\n",
        "def add():\n",
        "  x = 23                       #Here x and y are the parameters and arguments will use while we will call the function. see in the next example\n",
        "  y = 34\n",
        "  print(x+y)\n",
        "\n",
        "add()\n",
        "\n",
        "\n",
        "def add(x,y):                      #Here x and y are the parameters.\n",
        "  print(x+y)                       #Function which we want to perform on parameters.\n",
        "\n",
        "add(44,7)                           #passing the arguments between or with the parameters with the help of function will perform.\n",
        "\n",
        "\n",
        "add(34,34)\n",
        "\n",
        "add(34,84)                       #So on and so forth\n",
        "\n",
        "\n",
        "\n",
        "#Parameters are used when we wanted to define a function while arguments are used while calling the function."
      ],
      "metadata": {
        "colab": {
          "base_uri": "https://localhost:8080/"
        },
        "id": "nxQ9zooiwEbO",
        "outputId": "df0d0600-30c8-4b30-cc35-4a15864b8461"
      },
      "execution_count": null,
      "outputs": [
        {
          "output_type": "stream",
          "name": "stdout",
          "text": [
            "57\n",
            "51\n",
            "68\n",
            "118\n"
          ]
        }
      ]
    },
    {
      "cell_type": "code",
      "source": [
        "#Creating a function which will calculate the area of rectangle.\n",
        "\n",
        "def rect(length, breath):\n",
        "  print(\"The area of the rectangle is\", length*breath)\n",
        "\n",
        "rect(3, 4)\n",
        "\n",
        "\n",
        "rect(4,5)"
      ],
      "metadata": {
        "colab": {
          "base_uri": "https://localhost:8080/"
        },
        "id": "ARTGR6Qvzr7P",
        "outputId": "dc7e372b-6ec0-4ce2-98b5-2f2303988d2a"
      },
      "execution_count": null,
      "outputs": [
        {
          "output_type": "stream",
          "name": "stdout",
          "text": [
            "The area of the rectangle is 12\n",
            "The area of the rectangle is 20\n"
          ]
        }
      ]
    },
    {
      "cell_type": "code",
      "source": [
        "#What is arbitary arguments?\n",
        "#Arbitary arguments are the arguments where we can provide multiple values in the form of tuple. And we can access with the index method.\n",
        "#we are using a star(*) in the variable while defing the parameters. e.g\n",
        "\n",
        "def hello(*name):\n",
        "  print(\"My name is\", name[2])\n",
        "\n",
        "hello(\"Jonny\", \"Lisa\", \"Peter\")"
      ],
      "metadata": {
        "colab": {
          "base_uri": "https://localhost:8080/"
        },
        "id": "8T96Nuoq0_zn",
        "outputId": "a5739f63-c4ca-4e23-96ba-3b000d06188f"
      },
      "execution_count": null,
      "outputs": [
        {
          "output_type": "stream",
          "name": "stdout",
          "text": [
            "My name is Peter\n"
          ]
        }
      ]
    },
    {
      "cell_type": "code",
      "source": [
        "                                        #Return Statement and Recursion in python.\n"
      ],
      "metadata": {
        "id": "glQj2IhH1mWW"
      },
      "execution_count": null,
      "outputs": []
    },
    {
      "cell_type": "code",
      "source": [
        "#Return keyword in python is used to exit a function and return the value of the function.\n",
        "\n",
        "#In simple we are passing the parameters in return's parantheses. other thing is as same as the normal function. e.g\n",
        "\n",
        "def hello():\n",
        "  return(\"Hello World, i am the best.\")\n",
        "\n",
        "print(hello())                      #Here, we have to use print statement while execution is with return function. more e.g in next"
      ],
      "metadata": {
        "colab": {
          "base_uri": "https://localhost:8080/"
        },
        "id": "vztWCUyI31mJ",
        "outputId": "68f55116-c8d6-431b-d021-1781055156ab"
      },
      "execution_count": null,
      "outputs": [
        {
          "output_type": "stream",
          "name": "stdout",
          "text": [
            "Hello World, i am the best.\n"
          ]
        }
      ]
    },
    {
      "cell_type": "code",
      "source": [
        "def add(x,y):\n",
        "  return(x+y)\n",
        "\n",
        "print(add(23,53))"
      ],
      "metadata": {
        "colab": {
          "base_uri": "https://localhost:8080/"
        },
        "id": "e8_JZNY_4VF9",
        "outputId": "529ccc4c-4bbd-40c5-e50d-f1bf4b6a3561"
      },
      "execution_count": null,
      "outputs": [
        {
          "output_type": "stream",
          "name": "stdout",
          "text": [
            "76\n"
          ]
        }
      ]
    },
    {
      "cell_type": "code",
      "source": [
        "                                            #Recursion\n",
        "#Recursion is a function can call itself for many times. Basically giving a benefit of looping."
      ],
      "metadata": {
        "id": "5mnXA0LD57Mh"
      },
      "execution_count": null,
      "outputs": []
    },
    {
      "cell_type": "code",
      "source": [
        "def hello():\n",
        "  print(\"Hello World\")\n",
        "  return (hello())\n",
        "print(hello())"
      ],
      "metadata": {
        "id": "BVImJM326v0e"
      },
      "execution_count": null,
      "outputs": []
    },
    {
      "cell_type": "code",
      "source": [
        "#Getting the value of factorial with the help of recursion.\n",
        "\n",
        "def fact(n):\n",
        "  if n == 1:\n",
        "    return 1\n",
        "  else:\n",
        "    return(n*fact(n-1))\n",
        "fact(3)"
      ],
      "metadata": {
        "colab": {
          "base_uri": "https://localhost:8080/"
        },
        "id": "yD-yRfPlB-W9",
        "outputId": "b7be71bc-04f4-49f0-8548-084563213d02"
      },
      "execution_count": null,
      "outputs": [
        {
          "output_type": "execute_result",
          "data": {
            "text/plain": [
              "6"
            ]
          },
          "metadata": {},
          "execution_count": 2
        }
      ]
    },
    {
      "cell_type": "code",
      "source": [
        "fact(4)"
      ],
      "metadata": {
        "colab": {
          "base_uri": "https://localhost:8080/"
        },
        "id": "da-W-f1tCoGI",
        "outputId": "b959c65b-7809-4f68-8646-a2d520f24560"
      },
      "execution_count": null,
      "outputs": [
        {
          "output_type": "execute_result",
          "data": {
            "text/plain": [
              "24"
            ]
          },
          "metadata": {},
          "execution_count": 3
        }
      ]
    },
    {
      "cell_type": "code",
      "source": [
        "#Advantages of recursion- They make the code look clean and organised.\n",
        "#--> By the use of recursive functions, a complex task can be broken down into small sub-parts.\n",
        "#--> Sequence generation becomes easier.\n",
        "\n",
        "\n",
        "\n",
        "#Disadvantages of recursion- Takes a lot of memory.\n",
        "#--> Sometimes the logic becomes hard to follow.\n",
        "#--> Debugging is difficult."
      ],
      "metadata": {
        "id": "4kv4RENNCynS"
      },
      "execution_count": null,
      "outputs": []
    },
    {
      "cell_type": "code",
      "source": [
        "#Lambda function in Python.\n",
        "\n",
        "#--> It is required when we need an anonymous function for a short period of time.\n",
        "#--> It can have multiple arguments but can having only one expression."
      ],
      "metadata": {
        "id": "qU-ZJv3gDoZL"
      },
      "execution_count": null,
      "outputs": []
    },
    {
      "cell_type": "code",
      "source": [
        "#e.g with single arguments.\n",
        "a = lambda b: b*5\n",
        "print(a(4))"
      ],
      "metadata": {
        "colab": {
          "base_uri": "https://localhost:8080/"
        },
        "id": "hYKybO4ZEuX-",
        "outputId": "72bc5959-f261-4330-d4f9-5903cefac549"
      },
      "execution_count": null,
      "outputs": [
        {
          "output_type": "stream",
          "name": "stdout",
          "text": [
            "20\n"
          ]
        }
      ]
    },
    {
      "cell_type": "code",
      "source": [
        "#e.g with multiple arguments.\n",
        "x = lambda a,b,c: (a+b)*c\n",
        "print(x(1,2,3))"
      ],
      "metadata": {
        "colab": {
          "base_uri": "https://localhost:8080/"
        },
        "id": "vyKBg40pE6ae",
        "outputId": "d992dc01-563f-434b-e2fc-70c790573451"
      },
      "execution_count": null,
      "outputs": [
        {
          "output_type": "stream",
          "name": "stdout",
          "text": [
            "9\n"
          ]
        }
      ]
    },
    {
      "cell_type": "code",
      "source": [
        "#Local variable.\n",
        "#Local variables are restricted to only one block of code.\n",
        "#It cannot changed throughout the program.\n",
        "\n",
        "\n",
        "#Global Variable.\n",
        "#Global variables are not restricted to one block of code and can be used throught the program."
      ],
      "metadata": {
        "id": "pIomt6YvFQox"
      },
      "execution_count": null,
      "outputs": []
    },
    {
      "cell_type": "code",
      "source": [
        "#e.g of Local Variable.\n",
        "x = 23\n",
        "print(\"The first variable is\", x)\n",
        "def hello():\n",
        "  x = 33\n",
        "  return x\n",
        "print(hello())\n",
        "\n",
        "print()\n",
        "\n",
        "print(x)"
      ],
      "metadata": {
        "id": "MmM3jAYHHLwR",
        "outputId": "98fa4207-00e7-4f68-c009-a7d8c5c59db2",
        "colab": {
          "base_uri": "https://localhost:8080/"
        }
      },
      "execution_count": null,
      "outputs": [
        {
          "output_type": "stream",
          "name": "stdout",
          "text": [
            "The first variable is 23\n",
            "33\n",
            "\n",
            "23\n"
          ]
        }
      ]
    },
    {
      "cell_type": "code",
      "source": [
        "#e.g of Global Variable.\n",
        "\n",
        "x = 23\n",
        "print(\"The first variable of\", x)\n",
        "def hello():\n",
        "  global x\n",
        "  x = 33\n",
        "  return x\n",
        "print(hello())\n",
        "\n",
        "print()\n",
        "\n",
        "print(x)"
      ],
      "metadata": {
        "id": "QLVgsGjZHisc",
        "outputId": "fd947b64-0f61-4a35-8db4-7103d6c65f59",
        "colab": {
          "base_uri": "https://localhost:8080/"
        }
      },
      "execution_count": null,
      "outputs": [
        {
          "output_type": "stream",
          "name": "stdout",
          "text": [
            "The first variable of 23\n",
            "33\n",
            "\n",
            "33\n"
          ]
        }
      ]
    },
    {
      "cell_type": "code",
      "source": [
        "                                                                #Problem Solving\n",
        "#1. Write a function to find maximum of three numbers in Python.\n",
        "\n",
        "#2. Write a python function to create and print a list where the values are square of numbers between 1 to 30.\n",
        "\n",
        "#3. Write a function that takes numbers as a parameter and check whether the number is a prime number or not.\n",
        "\n",
        "#4. Write a python function to sum all the numbers in a list.\n",
        "\n",
        "#5. Write a python program to solve the fibonacci sequence using recursion."
      ],
      "metadata": {
        "id": "2UuIDC6sIQSD"
      },
      "execution_count": null,
      "outputs": []
    },
    {
      "cell_type": "code",
      "source": [
        "#Sol1\n",
        "\n",
        "def max_num(val1, val2, val3):\n",
        "  if val1>val2 and val1> val3:\n",
        "    print(\"Val1 is the greatest number.\")\n",
        "  elif val2>val1 and val2>val3:\n",
        "    print(\"Val2 is the greatest.\")\n",
        "  else:\n",
        "    print(\"val3 is the greatest.\")\n",
        "max_num(1,2,3)"
      ],
      "metadata": {
        "id": "UwLXx_bCMD9I",
        "outputId": "287df620-5f42-4290-99e0-8cd1e1c388b9",
        "colab": {
          "base_uri": "https://localhost:8080/"
        }
      },
      "execution_count": null,
      "outputs": [
        {
          "output_type": "stream",
          "name": "stdout",
          "text": [
            "val3 is the greatest.\n"
          ]
        }
      ]
    },
    {
      "cell_type": "code",
      "source": [
        "#Sol2\n",
        "def create_list():\n",
        "  l = []\n",
        "  for i in range(1,31):\n",
        "    l.append(i**2)\n",
        "  return l\n",
        "create_list()\n",
        "\n"
      ],
      "metadata": {
        "id": "z1S79Wbg3kF4",
        "outputId": "1ab4768b-ca17-446e-c112-7b22ce651826",
        "colab": {
          "base_uri": "https://localhost:8080/"
        }
      },
      "execution_count": null,
      "outputs": [
        {
          "output_type": "execute_result",
          "data": {
            "text/plain": [
              "[1,\n",
              " 4,\n",
              " 9,\n",
              " 16,\n",
              " 25,\n",
              " 36,\n",
              " 49,\n",
              " 64,\n",
              " 81,\n",
              " 100,\n",
              " 121,\n",
              " 144,\n",
              " 169,\n",
              " 196,\n",
              " 225,\n",
              " 256,\n",
              " 289,\n",
              " 324,\n",
              " 361,\n",
              " 400,\n",
              " 441,\n",
              " 484,\n",
              " 529,\n",
              " 576,\n",
              " 625,\n",
              " 676,\n",
              " 729,\n",
              " 784,\n",
              " 841,\n",
              " 900]"
            ]
          },
          "metadata": {},
          "execution_count": 9
        }
      ]
    },
    {
      "cell_type": "code",
      "source": [
        "#Sol3\n",
        "def check_prime(num):\n",
        "  if num == 1:\n",
        "    print(\"It is a prime number.\")\n",
        "  elif num == 2:\n",
        "    print(\"It is a prime number.\")\n",
        "  if num > 2:\n",
        "    for i in range(2,num):\n",
        "      if i % num ==0:\n",
        "        print(\"It is not a prime number.\")\n",
        "      else:\n",
        "        print(\"It is a prime number.\")\n",
        "check_prime(3)"
      ],
      "metadata": {
        "id": "R0uebRV55Jq1",
        "outputId": "1c19dff8-65cd-4080-8a59-f28d8e75b196",
        "colab": {
          "base_uri": "https://localhost:8080/"
        }
      },
      "execution_count": null,
      "outputs": [
        {
          "output_type": "stream",
          "name": "stdout",
          "text": [
            "It is a prime number.\n"
          ]
        }
      ]
    },
    {
      "cell_type": "code",
      "source": [
        "#Sol4- To sum all the number of the list.\n",
        "\n",
        "def add(numbers):\n",
        "  total = 0\n",
        "  for i in numbers:\n",
        "    total = total + i\n",
        "  return total\n",
        "\n",
        "add([1,2,3,])\n",
        "\n",
        "\n",
        "\n",
        "def add(x,y):\n",
        "  total = 0\n",
        "  for i in x,y:\n",
        "    total = total +i\n",
        "  return total\n",
        "print(add(1,2))\n"
      ],
      "metadata": {
        "id": "pqpPckTv544j",
        "outputId": "67812564-841a-4919-b0cb-9a4e156b2ce0",
        "colab": {
          "base_uri": "https://localhost:8080/"
        }
      },
      "execution_count": null,
      "outputs": [
        {
          "output_type": "stream",
          "name": "stdout",
          "text": [
            "3\n"
          ]
        }
      ]
    },
    {
      "cell_type": "code",
      "source": [
        "#Sol5- Fibonacci series using recursion.\n",
        "def fs(num):\n",
        "  if num == 1:\n",
        "    return (0)\n",
        "  elif num == 2:\n",
        "    return (1)\n",
        "  else:\n",
        "    return (fs(num-1)+ fs(num-2))\n",
        "print(fs(7))\n"
      ],
      "metadata": {
        "id": "Av-J66ssBsb4",
        "outputId": "5f7d0486-4e83-40ea-9ace-62aa41c6c47d",
        "colab": {
          "base_uri": "https://localhost:8080/"
        }
      },
      "execution_count": null,
      "outputs": [
        {
          "output_type": "stream",
          "name": "stdout",
          "text": [
            "8\n"
          ]
        }
      ]
    },
    {
      "cell_type": "code",
      "source": [
        "                                                  #Introduction to Modules.\n",
        "#Modules are the .py files, that contains set of functions and for our convenience we have to import.\n",
        "#After importing we can call the function whenever it needed.\n",
        "\n",
        "#Some of the inbuilt modules are- Datetime, Random, Math Modules etc.\n",
        "\n",
        "#Datetime Module- Allows to get information about the date and time.\n",
        "import datetime\n",
        "x = datetime.datetime.now()\n",
        "print(x)"
      ],
      "metadata": {
        "id": "ZhgUPXxOFfkK",
        "outputId": "5f57342f-4590-490e-cce9-85622418b802",
        "colab": {
          "base_uri": "https://localhost:8080/"
        }
      },
      "execution_count": null,
      "outputs": [
        {
          "output_type": "stream",
          "name": "stdout",
          "text": [
            "2024-10-28 08:00:17.685964\n"
          ]
        }
      ]
    },
    {
      "cell_type": "code",
      "source": [
        "#Random Module- We don't need to give any specified value, instead it will pick  any random value by itself.\n",
        "\n",
        "import random\n",
        "\n",
        "x = random.randint(1,10)\n",
        "print(x)\n",
        "\n",
        "#or\n",
        "\n",
        "import random\n",
        "\n",
        "l = ['Heads', \"Tails\"]\n",
        "x = random.choice(l)\n",
        "print(x)"
      ],
      "metadata": {
        "id": "hVSj_7iaIt4s",
        "outputId": "747e32eb-8eb2-4c49-ecdb-da81da567a29",
        "colab": {
          "base_uri": "https://localhost:8080/"
        }
      },
      "execution_count": null,
      "outputs": [
        {
          "output_type": "stream",
          "name": "stdout",
          "text": [
            "1\n",
            "Heads\n"
          ]
        }
      ]
    },
    {
      "cell_type": "code",
      "source": [
        "#Math Module- Here, we can use max, min, pow, sqroot etc after importing.\n",
        "\n",
        "import math\n",
        "x = max(1,2,4,5,3,5,5)\n",
        "y = min(2,4,5,3,1,3,2,5,3)\n",
        "\n",
        "print(x)\n",
        "print(y)"
      ],
      "metadata": {
        "id": "hCYFmy3PJNZp",
        "outputId": "c44801b5-ebe3-4bd6-c83b-f2e58f70d8a2",
        "colab": {
          "base_uri": "https://localhost:8080/"
        }
      },
      "execution_count": null,
      "outputs": [
        {
          "output_type": "stream",
          "name": "stdout",
          "text": [
            "5\n",
            "1\n"
          ]
        }
      ]
    },
    {
      "cell_type": "code",
      "source": [
        "a = pow(2,3)\n",
        "print(a)"
      ],
      "metadata": {
        "id": "uIVz7l4LKHD3",
        "outputId": "72322172-d5bb-4ba1-d618-d4f4137c87c9",
        "colab": {
          "base_uri": "https://localhost:8080/"
        }
      },
      "execution_count": null,
      "outputs": [
        {
          "output_type": "stream",
          "name": "stdout",
          "text": [
            "8\n"
          ]
        }
      ]
    },
    {
      "cell_type": "code",
      "source": [
        "b = math.sqrt(49)\n",
        "print(b)"
      ],
      "metadata": {
        "id": "BUqPiE5PKMXR",
        "outputId": "37ed83d1-f464-47f4-ea59-26f47d3d1c0b",
        "colab": {
          "base_uri": "https://localhost:8080/"
        }
      },
      "execution_count": null,
      "outputs": [
        {
          "output_type": "stream",
          "name": "stdout",
          "text": [
            "7.0\n"
          ]
        }
      ]
    },
    {
      "cell_type": "code",
      "source": [
        "#Absolute- Will provide the highly positive values of all the value.\n",
        "\n",
        "c = abs(-12)\n",
        "print(c)"
      ],
      "metadata": {
        "id": "pcQHAky1KT54",
        "outputId": "59a92de0-29ab-4807-eb11-000a7deb1487",
        "colab": {
          "base_uri": "https://localhost:8080/"
        }
      },
      "execution_count": null,
      "outputs": [
        {
          "output_type": "stream",
          "name": "stdout",
          "text": [
            "12\n"
          ]
        }
      ]
    },
    {
      "cell_type": "code",
      "source": [
        "#Floor division-  Will give you the min value of integers or before decimal values.\n",
        "a = 5//2\n",
        "print(a)"
      ],
      "metadata": {
        "id": "K82j4YtBKfy0",
        "outputId": "f8542f89-9d1a-4991-dba0-a90be9b6f28d",
        "colab": {
          "base_uri": "https://localhost:8080/"
        }
      },
      "execution_count": null,
      "outputs": [
        {
          "output_type": "stream",
          "name": "stdout",
          "text": [
            "2\n"
          ]
        }
      ]
    },
    {
      "cell_type": "code",
      "source": [
        "#Ceil = Will provide the highly positive values.\n",
        "a = math.ceil(2.1)\n",
        "print(a)"
      ],
      "metadata": {
        "id": "Lk-U1PyXK6jn",
        "outputId": "7617d058-2ddf-4dce-8075-5f14dd6129e1",
        "colab": {
          "base_uri": "https://localhost:8080/"
        }
      },
      "execution_count": null,
      "outputs": [
        {
          "output_type": "stream",
          "name": "stdout",
          "text": [
            "3\n"
          ]
        }
      ]
    },
    {
      "cell_type": "code",
      "source": [
        "\n",
        "                                              #Creation of Modules.\n",
        "#first we are creating modules in the demo file in the format of .py files.\n",
        "\n",
        "#Then write all the functions.\n",
        "\n",
        "#Then call in the main module.  e.g\n",
        "\n",
        "                                            #Check the module video in the lecture.\n"
      ],
      "metadata": {
        "id": "c_RGy0UlLGvj"
      },
      "execution_count": null,
      "outputs": []
    },
    {
      "cell_type": "code",
      "source": [
        "\n",
        "                                            #NumPy\n",
        "\n",
        "#Basically NumPy used in the scientific and mathematical functions.\n",
        "#NumPy stands for Numerical Python.\n",
        "#Defines as the multidimentional array with associate fastest math calculation.\n",
        "#Also has the function for Linear Algebra, Matrices and fourier transformations as well.\n",
        "\n",
        "#Benefits-\n",
        "#It can store less memory.\n",
        "#Can do the fastest operations.\n",
        "\n",
        "#Array- An array is the collection of items that are stored at contiguous memory location.\n",
        "#Contiguous means finding the locations together.\n",
        "\n",
        "#It is a container which can hold the fixed number of items of the same type(Either string or integer.)\n",
        "#A combination of array saves a lot time.\n",
        "#The array can reduce the overall size of code."
      ],
      "metadata": {
        "id": "nZpTNYR2Lxlg"
      },
      "execution_count": null,
      "outputs": []
    },
    {
      "cell_type": "code",
      "source": [
        "\n",
        "\n",
        "                #Difference between an array and list.\n",
        "\n",
        "#A list cannot handle the directly mathematical operations, while an array can.\n",
        "#An array contains less memory than list.\n",
        "#Using an array is faster than list.\n",
        "#A list contains multiple type of data while an array can't.\n",
        "#A list can easy to modify(Add, delete, remove, update.) than array."
      ],
      "metadata": {
        "id": "zWhlHfbDiLqB"
      },
      "execution_count": null,
      "outputs": []
    },
    {
      "cell_type": "code",
      "source": [
        "#Questions of Python.\n",
        "#1. Write a program to display persons's name, age and address.\n",
        "#2. write a program to swap two variables.\n",
        "#3. Convert float into int.\n",
        "#4. Write a program to take the details from a student for the id card and print in different lines.\n",
        "#5. Write a program to take an used input as integer then convert into float.\n",
        "\n",
        "#sol1\n",
        "name = \"Jatin\"\n",
        "age = 23\n",
        "address = \"S-604 A New Delhi- 110082\"\n",
        "print(name)\n",
        "print(age)\n",
        "print(address)"
      ],
      "metadata": {
        "id": "MW0zFindi_Fe",
        "outputId": "6fbdceda-aa89-4946-ff9b-22870d5ca838",
        "colab": {
          "base_uri": "https://localhost:8080/"
        }
      },
      "execution_count": null,
      "outputs": [
        {
          "output_type": "stream",
          "name": "stdout",
          "text": [
            "Jatin\n",
            "23\n",
            "S-604 A New Delhi- 110082\n"
          ]
        }
      ]
    },
    {
      "cell_type": "code",
      "source": [
        "#sol2\n",
        "a = [1,2,3]\n",
        "b = [4,5,6]\n",
        "\n",
        "a,b = b,a\n",
        "print(a)\n",
        "print()\n",
        "print(b)"
      ],
      "metadata": {
        "id": "FP9Ep1KkyEtw",
        "outputId": "5f84ec0c-71cd-43d7-8472-f672ba1fb601",
        "colab": {
          "base_uri": "https://localhost:8080/"
        }
      },
      "execution_count": null,
      "outputs": [
        {
          "output_type": "stream",
          "name": "stdout",
          "text": [
            "[4, 5, 6]\n",
            "\n",
            "[1, 2, 3]\n"
          ]
        }
      ]
    },
    {
      "cell_type": "code",
      "source": [
        "#sol3.\n",
        "a = 1.23\n",
        "integr = int(a)\n",
        "print(integr)"
      ],
      "metadata": {
        "id": "IMaBU050zimb",
        "outputId": "cc1599b7-00dc-44a7-9d80-db546e81b3f8",
        "colab": {
          "base_uri": "https://localhost:8080/"
        }
      },
      "execution_count": null,
      "outputs": [
        {
          "output_type": "stream",
          "name": "stdout",
          "text": [
            "1\n"
          ]
        }
      ]
    },
    {
      "cell_type": "code",
      "source": [
        "#sol4\n",
        "name = input(\"Enter your name here: \")\n",
        "age = int(input(\"Enter your age here: \"))\n",
        "gender = input(\"Enter your gender here: \")\n",
        "address = input(\"Enter your address here: \")"
      ],
      "metadata": {
        "id": "zadxlQmAzyMO",
        "outputId": "480df3ce-fe36-430d-8803-95947e0cbf2e",
        "colab": {
          "base_uri": "https://localhost:8080/"
        }
      },
      "execution_count": null,
      "outputs": [
        {
          "name": "stdout",
          "output_type": "stream",
          "text": [
            "Enter your name here: John\n",
            "Enter your age here: 23\n",
            "Enter your gender here: Male\n",
            "Enter your address here: S-604 A New Delhi- 110092\n"
          ]
        }
      ]
    },
    {
      "cell_type": "code",
      "source": [
        "#sol5\n",
        "user_input = float(input(\"Enter the float number here: \"))"
      ],
      "metadata": {
        "id": "PVlstH8S0RGD",
        "outputId": "c81d7c08-8373-44d2-f274-e29e28360e32",
        "colab": {
          "base_uri": "https://localhost:8080/"
        }
      },
      "execution_count": null,
      "outputs": [
        {
          "name": "stdout",
          "output_type": "stream",
          "text": [
            "Enter the float number here: 1.233\n"
          ]
        }
      ]
    },
    {
      "cell_type": "code",
      "source": [
        "#sol5.\n",
        "# Take input from the user\n",
        "user_input = float(input(\"Enter a float number: \"))\n",
        "\n",
        "# Convert the float to an integer\n",
        "converted_integer = int(user_input)\n",
        "\n",
        "# Display the converted integer\n",
        "print(f\"The integer value is: {converted_integer}\")"
      ],
      "metadata": {
        "id": "R6FTo-a12K3c",
        "outputId": "9918694c-4175-4ba4-c27c-b70dc76dcc4d",
        "colab": {
          "base_uri": "https://localhost:8080/"
        }
      },
      "execution_count": null,
      "outputs": [
        {
          "output_type": "stream",
          "name": "stdout",
          "text": [
            "Enter a float number: 1.23\n",
            "The integer value is: 1\n"
          ]
        }
      ]
    },
    {
      "cell_type": "markdown",
      "source": [
        "**What is compiler and intrepreter?**\n",
        "##**Python is both compiler and interopreted language means it can run the whole codes at one time and as well as run the codes linewise.**\n",
        "\n",
        "##Features-\n",
        "\n",
        "1.   Easy to learn\n",
        "2.   Open source\n",
        "3.   Widely used in the field of Analysing and for Visualization.\n",
        "4.   Having wonderful libraries like numpy, pandas, matplotlib etc to perform the desirable task.\n",
        "5.   It is also dynamically type which means can detect int, float and boolean etc by itself.\n",
        "6.   Also object oriented- Object-oriented programming (OOP) is a way of writing code that organizes everything into \"objects.\" An object is like a small package that contains data (like a person’s name) and actions (like walking). OOP helps make programs easier to build, understand, and update.\n",
        "\n"
      ],
      "metadata": {
        "id": "29rj6CV_28R_"
      }
    },
    {
      "cell_type": "code",
      "source": [
        "#Typecasting and subtypes.\n",
        "#Two types of typecasting- one can change itself called implicit and the other type is we have to change manually called explicit.\n",
        "#e.g implicit\n",
        "a = 12\n",
        "b = 2.43\n",
        "print(a+b)"
      ],
      "metadata": {
        "id": "jG5CRQEc2wos",
        "outputId": "4e24ca45-791b-48c0-c147-fc178fd293f3",
        "colab": {
          "base_uri": "https://localhost:8080/"
        }
      },
      "execution_count": null,
      "outputs": [
        {
          "output_type": "stream",
          "name": "stdout",
          "text": [
            "14.43\n"
          ]
        }
      ]
    },
    {
      "cell_type": "code",
      "source": [
        "#e.g explicit\n",
        "a = \"12\"\n",
        "b = 1.23\n",
        "a = int(a)\n",
        "print(a+b)"
      ],
      "metadata": {
        "id": "2uNopnMc6SFC",
        "outputId": "f8073019-6dec-4df5-e86b-ffc5d1a0fffe",
        "colab": {
          "base_uri": "https://localhost:8080/"
        }
      },
      "execution_count": null,
      "outputs": [
        {
          "output_type": "stream",
          "name": "stdout",
          "text": [
            "13.23\n"
          ]
        }
      ]
    },
    {
      "cell_type": "code",
      "source": [
        "#logical operator- And, Or and Not.\n",
        "23>34 or 34>21"
      ],
      "metadata": {
        "id": "vri3ZKNc6iXP",
        "outputId": "4bdf09df-48be-454d-f3f2-1a3d47462297",
        "colab": {
          "base_uri": "https://localhost:8080/"
        }
      },
      "execution_count": null,
      "outputs": [
        {
          "output_type": "execute_result",
          "data": {
            "text/plain": [
              "True"
            ]
          },
          "metadata": {},
          "execution_count": 24
        }
      ]
    },
    {
      "cell_type": "code",
      "source": [
        "1==1 and 34>32"
      ],
      "metadata": {
        "id": "G499brp2744b",
        "outputId": "6fe9e2d2-226e-4891-a829-7c3382caba5d",
        "colab": {
          "base_uri": "https://localhost:8080/"
        }
      },
      "execution_count": null,
      "outputs": [
        {
          "output_type": "execute_result",
          "data": {
            "text/plain": [
              "True"
            ]
          },
          "metadata": {},
          "execution_count": 26
        }
      ]
    },
    {
      "cell_type": "code",
      "source": [
        "not(1==1 and 34>32)"
      ],
      "metadata": {
        "id": "LU9FQmit7-to",
        "outputId": "6e1e28ef-9cde-4735-a792-f7ebc03321d9",
        "colab": {
          "base_uri": "https://localhost:8080/"
        }
      },
      "execution_count": null,
      "outputs": [
        {
          "output_type": "execute_result",
          "data": {
            "text/plain": [
              "False"
            ]
          },
          "metadata": {},
          "execution_count": 27
        }
      ]
    },
    {
      "cell_type": "code",
      "source": [
        "not(23>34 or 34>21)"
      ],
      "metadata": {
        "id": "mou7lfes8Gsl",
        "outputId": "e3d51963-5fa3-432a-9380-0139324a43dc",
        "colab": {
          "base_uri": "https://localhost:8080/"
        }
      },
      "execution_count": null,
      "outputs": [
        {
          "output_type": "execute_result",
          "data": {
            "text/plain": [
              "False"
            ]
          },
          "metadata": {},
          "execution_count": 28
        }
      ]
    },
    {
      "cell_type": "code",
      "source": [
        "#Identity Operators\n",
        "a = 123\n",
        "b = \"1,2,3\"\n",
        "print(a is not b)\n",
        "print(a is b)"
      ],
      "metadata": {
        "id": "d9CIfd-W8KX0",
        "outputId": "8bc37e37-5cd2-46ff-ab2b-6a02ff0f2c8e",
        "colab": {
          "base_uri": "https://localhost:8080/"
        }
      },
      "execution_count": null,
      "outputs": [
        {
          "output_type": "stream",
          "name": "stdout",
          "text": [
            "True\n",
            "False\n"
          ]
        }
      ]
    },
    {
      "cell_type": "code",
      "source": [
        "marks = 75\n",
        "if marks>95:\n",
        "  print(\"You are going for a trip\")\n",
        "elif marks>80 and marks<95:\n",
        "  print(\"You will get a party\")\n",
        "else:\n",
        "  print(\"You definitely need imporvment\")"
      ],
      "metadata": {
        "id": "CYEYeTn08YB9",
        "outputId": "272ac0c5-4315-4d0e-cdc5-9655691af1de",
        "colab": {
          "base_uri": "https://localhost:8080/"
        }
      },
      "execution_count": null,
      "outputs": [
        {
          "output_type": "stream",
          "name": "stdout",
          "text": [
            "You definitely need imporvment\n"
          ]
        }
      ]
    },
    {
      "cell_type": "code",
      "source": [
        "#Nested if-else statement-\n",
        "marks = 92\n",
        "if marks>90:\n",
        "  print(\"Hey! Well done.\")\n",
        "  if marks>=70 and marks<+90:\n",
        "    print(\"You will surely come first\")\n",
        "\n",
        "else:\n",
        "  print(\"Nothing to worry but you study.\")"
      ],
      "metadata": {
        "id": "uZ23DJJ69ci5",
        "outputId": "0ed6c996-40c3-42d9-d615-fd4c8aca13ed",
        "colab": {
          "base_uri": "https://localhost:8080/"
        }
      },
      "execution_count": null,
      "outputs": [
        {
          "output_type": "stream",
          "name": "stdout",
          "text": [
            "Hey! Well done.\n"
          ]
        }
      ]
    },
    {
      "cell_type": "code",
      "source": [
        "#short hand if statement.\n",
        "marks = 84\n",
        "print(\"You will surely rock\") if marks > 90 else print(\"Father will punish you\")"
      ],
      "metadata": {
        "id": "MAULXc9I9yfl",
        "outputId": "e5bb8ad5-a179-4b10-873f-fbc811e1796e",
        "colab": {
          "base_uri": "https://localhost:8080/"
        }
      },
      "execution_count": null,
      "outputs": [
        {
          "output_type": "stream",
          "name": "stdout",
          "text": [
            "Father will punish you\n"
          ]
        }
      ]
    },
    {
      "cell_type": "code",
      "source": [
        "#1. Write a program to check if a number is positive.\n",
        "#2. Write a program to check whether a number is odd or even.\n",
        "#3. Write a program to create area calculator.\n",
        "#4. Write a program check whether the passed letter is a vowel or not.\n",
        "#5. Write a program to check if a number is a single digit number, 2-digits number and so on upto 5- digits.\"\""
      ],
      "metadata": {
        "id": "7nWeAgjk-3-F"
      },
      "execution_count": null,
      "outputs": []
    },
    {
      "cell_type": "code",
      "source": [
        "#sol1\n",
        "num = int(input(\"Enter a number here: \"))\n",
        "if num >=0:\n",
        "  print(\"This is a positive number.\")\n",
        "else:\n",
        "  print(\"It is a negative number.\")"
      ],
      "metadata": {
        "colab": {
          "base_uri": "https://localhost:8080/"
        },
        "id": "i6AzlJs_Khvk",
        "outputId": "30383137-14de-430d-e1d6-3009b082b307"
      },
      "execution_count": null,
      "outputs": [
        {
          "output_type": "stream",
          "name": "stdout",
          "text": [
            "Enter a number here: 1\n",
            "This is a positive number.\n"
          ]
        }
      ]
    },
    {
      "cell_type": "code",
      "source": [
        "#sol2\n",
        "num = int(input(\"Enter a number here: \"))\n",
        "if num%2==0:\n",
        "  print(\"It is a even number.\")\n",
        "if num%2!=0:\n",
        "  print(\"It is a odd number.\")"
      ],
      "metadata": {
        "colab": {
          "base_uri": "https://localhost:8080/"
        },
        "id": "wuutnso5K1Fo",
        "outputId": "a8a4fb24-3487-4cd5-ee73-a0cf6bc0acb7"
      },
      "execution_count": null,
      "outputs": [
        {
          "output_type": "stream",
          "name": "stdout",
          "text": [
            "Enter a number here: 4\n",
            "It is a even number.\n"
          ]
        }
      ]
    },
    {
      "cell_type": "code",
      "source": [
        "#sol3 area calculator.\n",
        "def rect_are(length, breath):\n",
        "  print(length*breath)\n",
        "rect_are(2,6)"
      ],
      "metadata": {
        "colab": {
          "base_uri": "https://localhost:8080/"
        },
        "id": "UJF5g3Z-LT0Y",
        "outputId": "f9f47609-63ba-4388-af0f-96a1723218a2"
      },
      "execution_count": null,
      "outputs": [
        {
          "output_type": "stream",
          "name": "stdout",
          "text": [
            "12\n"
          ]
        }
      ]
    },
    {
      "cell_type": "code",
      "source": [
        "#sol3\n",
        "#We can also find the area calculator by using input method.\n",
        "\n",
        "print(\"****Area Calculator****\")\n",
        "\n",
        "print(\"\"\"Press 1 to get the area of the Square\n",
        "Press 2 to get the area of the rectangel\n",
        "Press 3 to get the area of the circle\"\"\" )\n",
        "\n",
        "choice = int(input(\"Enter a number between 1-3: \"))\n",
        "\n",
        "if choice == 1:\n",
        "  side = float(input(\"Enter the side of the square: \"))\n",
        "  area_sq = side*side\n",
        "  print(area_sq)\n",
        "\n",
        "elif choice == 2:\n",
        "  length = float(\"Enter the length of the rectangle: \")\n",
        "  breath = float(\"Enter the breath of the rectangle: \")\n",
        "  area_rect = length*breath\n",
        "  print(area_rect)\n",
        "\n",
        "elif choice == 3:\n",
        "  radius = float(input(\"Enter the radius of the circle: \"))\n",
        "  area_circle = 3.14*radius*radius\n",
        "  print(area_circle)\n",
        "\n",
        "else:\n",
        "  print(\"Wrong input\")"
      ],
      "metadata": {
        "colab": {
          "base_uri": "https://localhost:8080/"
        },
        "id": "xWR4snsVPy4m",
        "outputId": "1b17e3a9-ee88-452d-9579-1d2e3ef0d2ce"
      },
      "execution_count": null,
      "outputs": [
        {
          "output_type": "stream",
          "name": "stdout",
          "text": [
            "****Area Calculator****\n",
            "Press 1 to get the area of the Square\n",
            "Press 2 to get the area of the rectangel\n",
            "Press 3 to get the area of the circle\n",
            "Enter a number between 1-3: 3\n",
            "Enter the radius of the circle: 7\n",
            "153.86\n"
          ]
        }
      ]
    },
    {
      "cell_type": "code",
      "source": [
        "#sol4\n",
        "letter = input(\"Enter a letter here: \")\n",
        "if letter in \"aeiou\" or letter in \"AEIOU\":\n",
        "  print('it is a vowel')\n",
        "else:\n",
        "  print(\"it is not a vowel\")"
      ],
      "metadata": {
        "colab": {
          "base_uri": "https://localhost:8080/"
        },
        "id": "rvtGgPjHToCr",
        "outputId": "5dd9e4fa-eddd-4114-ac88-12c54d261b48"
      },
      "execution_count": null,
      "outputs": [
        {
          "output_type": "stream",
          "name": "stdout",
          "text": [
            "Enter a letter here: O\n",
            "it is a vowel\n"
          ]
        }
      ]
    },
    {
      "cell_type": "code",
      "source": [
        "#sol5\n",
        "#number = int(input(\"Enter a number here: \"))\n",
        "#for i in range(0,99999):\n",
        "#  if range(0,9):\n",
        "#    print(\"It is a single digit number\")\n",
        "#  elif range(10,99):\n",
        "#    print(\"It is a double digit number\")\n",
        "#  elif range(100,999):\n",
        "#    print(\"It is a triple digit number\")\n",
        "#  elif range(1000,9999):\n",
        "#    print(\"It is a four digit number\")\n",
        "#  elif range(10000,99999):\n",
        "#    print(\"It is a five digit number\")\n",
        "#  else:\n",
        "#    print(\"It is not coming in our range.\")\n",
        "\n",
        "num = int(input(\"Enter the number in between 1-5 digits: \"))\n",
        "if num==0 and num<=9:\n",
        "  print(\"It is a single digit number.\")\n",
        "elif num>=10 and num<=99:\n",
        "  print(\"It is a double digit number.\")\n",
        "elif num>=100 and num<=999:\n",
        "  print(\"It is a three digit number.\")\n",
        "elif num>=1000 and num<=9999:\n",
        "  print(\"It is a four digit number.\")\n",
        "elif num>=10000 and num<=99999:\n",
        "  print(\"It is a five digit number.\")\n",
        "else:\n",
        "  print(\"Invalid Input\")"
      ],
      "metadata": {
        "colab": {
          "base_uri": "https://localhost:8080/"
        },
        "id": "oBOdb90mM01C",
        "outputId": "65366fd1-460f-4870-9223-f533d58146d1"
      },
      "execution_count": null,
      "outputs": [
        {
          "output_type": "stream",
          "name": "stdout",
          "text": [
            "Enter the number in between 1-5 digits: 999\n",
            "It is a three digit number.\n"
          ]
        }
      ]
    },
    {
      "cell_type": "code",
      "source": [],
      "metadata": {
        "id": "wOZTyon4OIK7"
      },
      "execution_count": null,
      "outputs": []
    }
  ]
}